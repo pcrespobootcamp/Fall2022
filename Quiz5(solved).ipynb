{
 "cells": [
  {
   "cell_type": "markdown",
   "id": "217a22c0-d214-41bf-9fce-f1bc1d3c5c27",
   "metadata": {},
   "source": [
    "# Quiz 5\n",
    "\n",
    "## Name\n",
    "## NetID\n",
    "\n",
    "We will use a dataset known as the \"Pima Indians\" dataset. This data observes the diabetes status of members of the Pima tribe. You will have a few variables to work with:\n",
    "\n",
    "* Number of times pregnant.\n",
    "\n",
    "* Plasma glucose concentration a 2 hours in an oral glucose tolerance test.\n",
    "\n",
    "* Diastolic blood pressure (mm Hg).\n",
    "\n",
    "* Triceps skinfold thickness (mm).\n",
    "\n",
    "* 2-Hour serum insulin (mu U/ml).\n",
    "\n",
    "* Body mass index (weight in kg/(height in m)^2).\n",
    "\n",
    "* Diabetes pedigree function.\n",
    "\n",
    "* Age (years).\n",
    "\n",
    "* Class variable Diabetic or Not (0 or 1).\n",
    "\n",
    "\n",
    "\n",
    "The cell below imports the data, the variables are ordered the same as above\n",
    "\n",
    "The url is here:\n",
    "\n",
    "\"https://raw.githubusercontent.com/jbrownlee/Datasets/master/pima-indians-diabetes.csv\""
   ]
  },
  {
   "cell_type": "code",
   "execution_count": 1,
   "id": "5b0a87b0-aacf-4330-9955-86bd319b555b",
   "metadata": {},
   "outputs": [],
   "source": [
    "import pandas as pd\n",
    "import numpy as np\n",
    "from plotnine import *"
   ]
  },
  {
   "cell_type": "code",
   "execution_count": 2,
   "id": "ea2dbc08-1226-461d-a102-b6a890db3c18",
   "metadata": {},
   "outputs": [],
   "source": [
    "url=\"https://raw.githubusercontent.com/jbrownlee/Datasets/master/pima-indians-diabetes.csv\"\n",
    "\n",
    "df=pd.read_csv(url, names=['preg', 'plas',\n",
    "                          'bp', 'thick',\n",
    "                          'insulin', 'bmi',\n",
    "                          'diaped','age', 'diab'])"
   ]
  },
  {
   "cell_type": "markdown",
   "id": "4096dcc7-9b8a-4c04-86db-9edbaeb2673f",
   "metadata": {},
   "source": [
    "We would like to be able to predict diabetes from this dataset. We will use random forests to make sure we can accomplish this task. You will do a few things:\n",
    "\n",
    "\n",
    "* Check if the classes are balanced\n",
    "\n",
    "* If the classes are imbalanced use one of the techniques we talked about in class to ameliorate the problem. Check if you do better by just running a model with no hyperparameter assignment to compare.\n",
    "\n",
    "* Do a train test split and draw a ROC curve using the default values for the random forest classifier. What is the AUC?\n",
    "\n",
    "* Set the number of trees to 100 and use 5 fold cross-validation and the AUC to look for the best value for max_depth"
   ]
  },
  {
   "cell_type": "markdown",
   "id": "d4bbbaca-d612-4eba-8e75-2444ff1f38f4",
   "metadata": {},
   "source": [
    "**Suggested Answer:**\n",
    "\n",
    "Let's first observe our class balance. We simply need to see if the number of people marked diabetic are the same as those marked non-diabetic."
   ]
  },
  {
   "cell_type": "code",
   "execution_count": 4,
   "id": "7c94f310-d5cf-4402-a22e-239136b7ce15",
   "metadata": {},
   "outputs": [
    {
     "data": {
      "text/plain": [
       "0    500\n",
       "1    268\n",
       "Name: diab, dtype: int64"
      ]
     },
     "execution_count": 4,
     "metadata": {},
     "output_type": "execute_result"
    }
   ],
   "source": [
    "df['diab'].value_counts()"
   ]
  },
  {
   "cell_type": "markdown",
   "id": "77c33bd9-5f57-40f6-a76f-4ce081a9bc3c",
   "metadata": {},
   "source": [
    "As you can see the dataset has about twice the number of non-diabetics as diabetics. Let's just do simple upsampling of the underrepresented class. "
   ]
  },
  {
   "cell_type": "code",
   "execution_count": 19,
   "id": "4c1ff52b-8d2f-4738-b244-7d7680e2131b",
   "metadata": {},
   "outputs": [],
   "source": [
    "#Let me first import everything I will use below\n",
    "\n",
    "from sklearn.metrics import classification_report\n",
    "from sklearn.model_selection import train_test_split\n",
    "from sklearn.ensemble import RandomForestClassifier \n",
    "from sklearn.model_selection import cross_val_score\n",
    "from sklearn.metrics import roc_auc_score\n",
    "from sklearn.utils import resample\n",
    "from sklearn.metrics import roc_curve\n"
   ]
  },
  {
   "cell_type": "code",
   "execution_count": 5,
   "id": "03b6093f-a3d0-4516-9b2e-956edd752921",
   "metadata": {},
   "outputs": [],
   "source": [
    "# Separate majority and minority classes\n",
    "\n",
    "df_majority = df[df['diab']==0]\n",
    "\n",
    "df_minority = df[df['diab']==1]"
   ]
  },
  {
   "cell_type": "markdown",
   "id": "4b78f7f0-5b17-41c9-b7e3-3a26d78818a8",
   "metadata": {},
   "source": [
    "Let's upsample the minority until we have the same number of observations (500)"
   ]
  },
  {
   "cell_type": "code",
   "execution_count": 8,
   "id": "a4bc0c46-789c-4e2d-a6c3-7fda2380654f",
   "metadata": {},
   "outputs": [],
   "source": [
    "df_minority_up = resample(df_minority, \n",
    "                                 replace=True,     # sample with replacement\n",
    "                                 n_samples=500,   \n",
    "                                 random_state=42) \n",
    " "
   ]
  },
  {
   "cell_type": "markdown",
   "id": "8573c58a-d1e9-47d4-9a91-c0f239f0d535",
   "metadata": {},
   "source": [
    "Let's consolidate the upsampled dataframe:"
   ]
  },
  {
   "cell_type": "code",
   "execution_count": 9,
   "id": "75cef269-c458-4e6b-940b-1faffabb7227",
   "metadata": {},
   "outputs": [],
   "source": [
    "df_up=pd.concat([df_majority, df_minority_up])"
   ]
  },
  {
   "cell_type": "markdown",
   "id": "54b9b19d-99c1-4784-891a-e9e438d887f1",
   "metadata": {},
   "source": [
    "We can now use random forests with no hyperparameters on the original dataframe and on the upsampled dataset and compare the classification reports. Let's just create a list of features first to make things easier:"
   ]
  },
  {
   "cell_type": "code",
   "execution_count": 10,
   "id": "e94249da-ce0a-4a91-8008-d46e350c2f91",
   "metadata": {},
   "outputs": [],
   "source": [
    "features=['preg', 'plas',\n",
    "            'bp', 'thick',\n",
    "        'insulin', 'bmi',\n",
    "        'diaped','age']"
   ]
  },
  {
   "cell_type": "code",
   "execution_count": 11,
   "id": "a9c6db7d-eea6-445e-9213-bc6968b12a7e",
   "metadata": {},
   "outputs": [],
   "source": [
    "#These are the predictions from the unbalanced dataframe\n",
    "\n",
    "pred=RandomForestClassifier().fit(\n",
    "    X=df[features],\n",
    "    y=df['diab']).predict(df[features])\n",
    "\n",
    "#Add them as a column in your data\n",
    "df['pred']=pred\n",
    "\n",
    "#These are the upsampled predictions\n",
    "\n",
    "predup=RandomForestClassifier().fit(\n",
    "    X=df_up[features],\n",
    "    y=df_up['diab']).predict(df_up[features])\n",
    "\n",
    "#add them as a column in your upsampled dataframe\n",
    "df_up['pred']=predup\n"
   ]
  },
  {
   "cell_type": "markdown",
   "id": "4735fc06-1f90-4c73-a53a-74094edf6d0c",
   "metadata": {},
   "source": [
    "Now let's look at the classification report of the imbalanced data:"
   ]
  },
  {
   "cell_type": "code",
   "execution_count": 12,
   "id": "7b89be0f-b0ed-4725-a27b-2acc2163dea8",
   "metadata": {},
   "outputs": [
    {
     "name": "stdout",
     "output_type": "stream",
     "text": [
      "              precision    recall  f1-score   support\n",
      "\n",
      "           0       1.00      1.00      1.00       500\n",
      "           1       1.00      1.00      1.00       268\n",
      "\n",
      "    accuracy                           1.00       768\n",
      "   macro avg       1.00      1.00      1.00       768\n",
      "weighted avg       1.00      1.00      1.00       768\n",
      "\n"
     ]
    }
   ],
   "source": [
    "print(classification_report(y_pred=df['pred'],\n",
    "                            y_true=df['diab']))"
   ]
  },
  {
   "cell_type": "code",
   "execution_count": 14,
   "id": "7f10df55-d8e5-4ff6-9338-6ba084632fab",
   "metadata": {},
   "outputs": [
    {
     "name": "stdout",
     "output_type": "stream",
     "text": [
      "              precision    recall  f1-score   support\n",
      "\n",
      "           0       1.00      1.00      1.00       500\n",
      "           1       1.00      1.00      1.00       500\n",
      "\n",
      "    accuracy                           1.00      1000\n",
      "   macro avg       1.00      1.00      1.00      1000\n",
      "weighted avg       1.00      1.00      1.00      1000\n",
      "\n"
     ]
    }
   ],
   "source": [
    "print(classification_report(y_pred=df_up['pred'],\n",
    "                            y_true=df_up['diab']))"
   ]
  },
  {
   "cell_type": "markdown",
   "id": "55cac38c-a72e-4642-800b-434238f1f6b3",
   "metadata": {},
   "source": [
    "This is unusual, but it seems that with all the information we gave the random forest classifier, both datasets perform perfectly with a probability threshold of 0.5. However, this might simply be overfitting. Let's try using the initial unbalanced dataframe since we don't see much of a loss of model accuracy when using random forests."
   ]
  },
  {
   "cell_type": "code",
   "execution_count": 17,
   "id": "5ec7c923-c318-4534-bd04-6757b9f3653f",
   "metadata": {},
   "outputs": [],
   "source": [
    "X=df[features]\n",
    "y=df['diab']\n",
    "\n",
    "X_train,X_test,y_train,y_test = train_test_split(X,y,\n",
    "                                                 test_size=0.2,\n",
    "                                                 random_state=0)\n",
    "\n"
   ]
  },
  {
   "cell_type": "markdown",
   "id": "c2180615-cf2d-493d-a099-b234e6aef668",
   "metadata": {},
   "source": [
    "We will check the AUC for predicting diabetics correctly (when the label is 1)"
   ]
  },
  {
   "cell_type": "code",
   "execution_count": 23,
   "id": "b4c481e6-df4b-43bb-b959-461a4510a8da",
   "metadata": {},
   "outputs": [],
   "source": [
    "rf_clf=RandomForestClassifier()\n",
    "y_score = rf_clf.fit(X_train, \n",
    "                     y_train).predict_proba(X_test)\n",
    "\n",
    "#Since we want label 1\n",
    "\n",
    "y_proba=y_score[:,1]\n",
    "\n",
    "#Now compute the roc auc and the tpf and fpr\n",
    "\n",
    "fpr, tpr , threshold= roc_curve(y_test,  y_proba)\n",
    "\n",
    "#get the auc score\n",
    "auc=roc_auc_score(y_test, y_proba)\n"
   ]
  },
  {
   "cell_type": "markdown",
   "id": "d8681a7f-4c42-47b0-a7f5-07b817633f8f",
   "metadata": {},
   "source": [
    "Let's put everything in a single dataframe to plot, and let's make the plot!"
   ]
  },
  {
   "cell_type": "code",
   "execution_count": 24,
   "id": "d103a522-8c50-44d7-a5cb-930c640a93af",
   "metadata": {},
   "outputs": [
    {
     "data": {
      "image/png": "[encoded data removed]",
      "text/plain": [
       "<Figure size 432x288 with 1 Axes>"
      ]
     },
     "metadata": {},
     "output_type": "display_data"
    },
    {
     "data": {
      "text/plain": [
       "<ggplot: (8786141056145)>"
      ]
     },
     "execution_count": 24,
     "metadata": {},
     "output_type": "execute_result"
    }
   ],
   "source": [
    "results=pd.DataFrame({'fpr':fpr,'tpr':tpr,\n",
    "                      'threshold':threshold})\n",
    "\n",
    "#Plot\n",
    "\n",
    "(ggplot(data=results, mapping=aes(x='fpr', y='tpr'))+\n",
    "geom_line(color='steelblue')+\n",
    "ggtitle(f'AUC={auc}')+\n",
    "geom_abline(linetype='dashed', color='darkorange')+\n",
    " ylab(\"True Positive Rate\")+\n",
    " xlab(\"False Positive Rate\")+\n",
    " theme_bw()\n",
    ")"
   ]
  },
  {
   "cell_type": "markdown",
   "id": "7f1e38ce-c973-422e-a27d-70420df8ed10",
   "metadata": {},
   "source": [
    "Hey! That's pretty great! Let's look for the optimal number of splits by searching the cross-validation AUC scores. I will use 5 folds. I will try up to 14 branchings.\n"
   ]
  },
  {
   "cell_type": "code",
   "execution_count": 25,
   "id": "33487b88-d78d-4b96-a309-be538481f944",
   "metadata": {},
   "outputs": [],
   "source": [
    "scoresrf=[cross_val_score(RandomForestClassifier(n_estimators=100,\n",
    "                                 max_depth=i),X,y,\n",
    "                          scoring=\"roc_auc\",\n",
    "                          cv=5).mean() for i in list(range(1,15))\n",
    "    ]"
   ]
  },
  {
   "cell_type": "markdown",
   "id": "54f80222-bc6e-418a-9807-b3067bb66b04",
   "metadata": {},
   "source": [
    "Let's save all these scores in a dataframe to then plot them:"
   ]
  },
  {
   "cell_type": "code",
   "execution_count": 26,
   "id": "58ae7fcc-977d-4635-9d5f-29240dcb7a64",
   "metadata": {},
   "outputs": [],
   "source": [
    "rfdf=pd.DataFrame(scoresrf, columns=['AUC'])\n",
    "rfdf['depth']=range(1,15)"
   ]
  },
  {
   "cell_type": "code",
   "execution_count": 27,
   "id": "a61bb0f2-9ddb-4ab7-adc4-8416063c8f36",
   "metadata": {},
   "outputs": [
    {
     "data": {
      "image/png": "[encoded data removed]",
      "text/plain": [
       "<Figure size 640x480 with 1 Axes>"
      ]
     },
     "metadata": {},
     "output_type": "display_data"
    },
    {
     "data": {
      "text/plain": [
       "<ggplot: (8786119047834)>"
      ]
     },
     "execution_count": 27,
     "metadata": {},
     "output_type": "execute_result"
    }
   ],
   "source": [
    "#Let's plot this!\n",
    "\n",
    "(ggplot(data=rfdf, mapping=aes(x='depth', y='AUC'))+\n",
    "       geom_line(color='steelblue')+\n",
    " scale_x_continuous(breaks=np.arange(1,15, 1))+\n",
    " ggtitle('5-fold cross validation AUC scores')+\n",
    "theme_bw())"
   ]
  },
  {
   "cell_type": "markdown",
   "id": "c6b1fec8-96fe-48a6-befe-81e69e972f54",
   "metadata": {},
   "source": [
    "Let's get the optimal depth (you can see from the plot it's 6):"
   ]
  },
  {
   "cell_type": "code",
   "execution_count": 28,
   "id": "eb6878af-7a33-4ced-a772-2df5bfe6a341",
   "metadata": {},
   "outputs": [
    {
     "data": {
      "text/html": [
       "<div>\n",
       "<style scoped>\n",
       "    .dataframe tbody tr th:only-of-type {\n",
       "        vertical-align: middle;\n",
       "    }\n",
       "\n",
       "    .dataframe tbody tr th {\n",
       "        vertical-align: top;\n",
       "    }\n",
       "\n",
       "    .dataframe thead th {\n",
       "        text-align: right;\n",
       "    }\n",
       "</style>\n",
       "<table border=\"1\" class=\"dataframe\">\n",
       "  <thead>\n",
       "    <tr style=\"text-align: right;\">\n",
       "      <th></th>\n",
       "      <th>AUC</th>\n",
       "      <th>depth</th>\n",
       "    </tr>\n",
       "  </thead>\n",
       "  <tbody>\n",
       "    <tr>\n",
       "      <th>5</th>\n",
       "      <td>0.841325</td>\n",
       "      <td>6</td>\n",
       "    </tr>\n",
       "  </tbody>\n",
       "</table>\n",
       "</div>"
      ],
      "text/plain": [
       "        AUC  depth\n",
       "5  0.841325      6"
      ]
     },
     "execution_count": 28,
     "metadata": {},
     "output_type": "execute_result"
    }
   ],
   "source": [
    "rfdf.loc[rfdf['AUC']==rfdf['AUC'].max(),:]"
   ]
  },
  {
   "cell_type": "code",
   "execution_count": null,
   "id": "ff4639f0-0ea5-4ee3-8bad-5b32dbc4f15d",
   "metadata": {},
   "outputs": [],
   "source": []
  }
 ],
 "metadata": {
  "kernelspec": {
   "display_name": "Python 3",
   "language": "python",
   "name": "python3"
  },
  "language_info": {
   "codemirror_mode": {
    "name": "ipython",
    "version": 3
   },
   "file_extension": ".py",
   "mimetype": "text/x-python",
   "name": "python",
   "nbconvert_exporter": "python",
   "pygments_lexer": "ipython3",
   "version": "3.8.8"
  }
 },
 "nbformat": 4,
 "nbformat_minor": 5
}
