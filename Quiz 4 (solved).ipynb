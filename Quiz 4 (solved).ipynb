{
 "cells": [
  {
   "cell_type": "markdown",
   "id": "c2027d03-04a4-428d-be8e-fabf80c57e2a",
   "metadata": {},
   "source": [
    "# Quiz 4\n",
    "\n",
    "Name\n",
    "\n",
    "\n",
    "NetID\n",
    "\n",
    "Load the packages and import the necessary data"
   ]
  },
  {
   "cell_type": "code",
   "execution_count": 1,
   "id": "edd98a91-1fe7-4700-a538-235f327ebcd6",
   "metadata": {},
   "outputs": [],
   "source": [
    "import pandas as pd\n",
    "import numpy as np\n",
    "import matplotlib.pyplot as plt\n",
    "%matplotlib inline\n",
    "import statsmodels.formula.api as smf\n",
    "\n",
    "from plotnine import *\n",
    "%matplotlib inline"
   ]
  },
  {
   "cell_type": "code",
   "execution_count": 2,
   "id": "f0ea5c22-22d0-43e8-877a-2dfd4234e85a",
   "metadata": {},
   "outputs": [
    {
     "data": {
      "text/html": [
       "<div>\n",
       "<style scoped>\n",
       "    .dataframe tbody tr th:only-of-type {\n",
       "        vertical-align: middle;\n",
       "    }\n",
       "\n",
       "    .dataframe tbody tr th {\n",
       "        vertical-align: top;\n",
       "    }\n",
       "\n",
       "    .dataframe thead th {\n",
       "        text-align: right;\n",
       "    }\n",
       "</style>\n",
       "<table border=\"1\" class=\"dataframe\">\n",
       "  <thead>\n",
       "    <tr style=\"text-align: right;\">\n",
       "      <th></th>\n",
       "      <th>shortnam</th>\n",
       "      <th>euro1900</th>\n",
       "      <th>excolony</th>\n",
       "      <th>avexpr</th>\n",
       "      <th>logpgp95</th>\n",
       "      <th>cons1</th>\n",
       "      <th>cons90</th>\n",
       "      <th>democ00a</th>\n",
       "      <th>cons00a</th>\n",
       "      <th>extmort4</th>\n",
       "      <th>logem4</th>\n",
       "      <th>loghjypl</th>\n",
       "      <th>baseco</th>\n",
       "    </tr>\n",
       "  </thead>\n",
       "  <tbody>\n",
       "    <tr>\n",
       "      <th>0</th>\n",
       "      <td>AFG</td>\n",
       "      <td>0.000000</td>\n",
       "      <td>1.0</td>\n",
       "      <td>NaN</td>\n",
       "      <td>NaN</td>\n",
       "      <td>1.0</td>\n",
       "      <td>2.0</td>\n",
       "      <td>1.0</td>\n",
       "      <td>1.0</td>\n",
       "      <td>93.699997</td>\n",
       "      <td>4.540098</td>\n",
       "      <td>NaN</td>\n",
       "      <td>NaN</td>\n",
       "    </tr>\n",
       "    <tr>\n",
       "      <th>1</th>\n",
       "      <td>AGO</td>\n",
       "      <td>8.000000</td>\n",
       "      <td>1.0</td>\n",
       "      <td>5.363636</td>\n",
       "      <td>7.770645</td>\n",
       "      <td>3.0</td>\n",
       "      <td>3.0</td>\n",
       "      <td>0.0</td>\n",
       "      <td>1.0</td>\n",
       "      <td>280.000000</td>\n",
       "      <td>5.634789</td>\n",
       "      <td>-3.411248</td>\n",
       "      <td>1.0</td>\n",
       "    </tr>\n",
       "    <tr>\n",
       "      <th>2</th>\n",
       "      <td>ARE</td>\n",
       "      <td>0.000000</td>\n",
       "      <td>1.0</td>\n",
       "      <td>7.181818</td>\n",
       "      <td>9.804219</td>\n",
       "      <td>NaN</td>\n",
       "      <td>NaN</td>\n",
       "      <td>NaN</td>\n",
       "      <td>NaN</td>\n",
       "      <td>NaN</td>\n",
       "      <td>NaN</td>\n",
       "      <td>NaN</td>\n",
       "      <td>NaN</td>\n",
       "    </tr>\n",
       "    <tr>\n",
       "      <th>3</th>\n",
       "      <td>ARG</td>\n",
       "      <td>60.000004</td>\n",
       "      <td>1.0</td>\n",
       "      <td>6.386364</td>\n",
       "      <td>9.133459</td>\n",
       "      <td>1.0</td>\n",
       "      <td>6.0</td>\n",
       "      <td>3.0</td>\n",
       "      <td>3.0</td>\n",
       "      <td>68.900002</td>\n",
       "      <td>4.232656</td>\n",
       "      <td>-0.872274</td>\n",
       "      <td>1.0</td>\n",
       "    </tr>\n",
       "    <tr>\n",
       "      <th>4</th>\n",
       "      <td>ARM</td>\n",
       "      <td>0.000000</td>\n",
       "      <td>0.0</td>\n",
       "      <td>NaN</td>\n",
       "      <td>7.682482</td>\n",
       "      <td>NaN</td>\n",
       "      <td>NaN</td>\n",
       "      <td>NaN</td>\n",
       "      <td>NaN</td>\n",
       "      <td>NaN</td>\n",
       "      <td>NaN</td>\n",
       "      <td>NaN</td>\n",
       "      <td>NaN</td>\n",
       "    </tr>\n",
       "  </tbody>\n",
       "</table>\n",
       "</div>"
      ],
      "text/plain": [
       "  shortnam   euro1900  excolony    avexpr  logpgp95  cons1  cons90  democ00a  \\\n",
       "0      AFG   0.000000       1.0       NaN       NaN    1.0     2.0       1.0   \n",
       "1      AGO   8.000000       1.0  5.363636  7.770645    3.0     3.0       0.0   \n",
       "2      ARE   0.000000       1.0  7.181818  9.804219    NaN     NaN       NaN   \n",
       "3      ARG  60.000004       1.0  6.386364  9.133459    1.0     6.0       3.0   \n",
       "4      ARM   0.000000       0.0       NaN  7.682482    NaN     NaN       NaN   \n",
       "\n",
       "   cons00a    extmort4    logem4  loghjypl  baseco  \n",
       "0      1.0   93.699997  4.540098       NaN     NaN  \n",
       "1      1.0  280.000000  5.634789 -3.411248     1.0  \n",
       "2      NaN         NaN       NaN       NaN     NaN  \n",
       "3      3.0   68.900002  4.232656 -0.872274     1.0  \n",
       "4      NaN         NaN       NaN       NaN     NaN  "
      ]
     },
     "execution_count": 2,
     "metadata": {},
     "output_type": "execute_result"
    }
   ],
   "source": [
    "#Import the data for the tutorial\n",
    "\n",
    "df1 = pd.read_stata('https://github.com/QuantEcon/lecture-python/blob/master/source/_static/lecture_specific/ols/maketable1.dta?raw=true')\n",
    "df1.head()"
   ]
  },
  {
   "cell_type": "code",
   "execution_count": 3,
   "id": "9ea87367-3fe6-4ea5-bc7b-358eb4c0c127",
   "metadata": {},
   "outputs": [
    {
     "data": {
      "text/html": [
       "<div>\n",
       "<style scoped>\n",
       "    .dataframe tbody tr th:only-of-type {\n",
       "        vertical-align: middle;\n",
       "    }\n",
       "\n",
       "    .dataframe tbody tr th {\n",
       "        vertical-align: top;\n",
       "    }\n",
       "\n",
       "    .dataframe thead th {\n",
       "        text-align: right;\n",
       "    }\n",
       "</style>\n",
       "<table border=\"1\" class=\"dataframe\">\n",
       "  <thead>\n",
       "    <tr style=\"text-align: right;\">\n",
       "      <th></th>\n",
       "      <th>euro1900</th>\n",
       "      <th>excolony</th>\n",
       "      <th>avexpr</th>\n",
       "      <th>logpgp95</th>\n",
       "      <th>cons1</th>\n",
       "      <th>cons90</th>\n",
       "      <th>democ00a</th>\n",
       "      <th>cons00a</th>\n",
       "      <th>extmort4</th>\n",
       "      <th>logem4</th>\n",
       "      <th>loghjypl</th>\n",
       "      <th>baseco</th>\n",
       "    </tr>\n",
       "  </thead>\n",
       "  <tbody>\n",
       "    <tr>\n",
       "      <th>count</th>\n",
       "      <td>154.000000</td>\n",
       "      <td>162.000000</td>\n",
       "      <td>121.000000</td>\n",
       "      <td>148.000000</td>\n",
       "      <td>88.000000</td>\n",
       "      <td>88.000000</td>\n",
       "      <td>87.000000</td>\n",
       "      <td>91.000000</td>\n",
       "      <td>87.000000</td>\n",
       "      <td>87.000000</td>\n",
       "      <td>123.000000</td>\n",
       "      <td>64.0</td>\n",
       "    </tr>\n",
       "    <tr>\n",
       "      <th>mean</th>\n",
       "      <td>30.466232</td>\n",
       "      <td>0.666667</td>\n",
       "      <td>7.066491</td>\n",
       "      <td>8.302509</td>\n",
       "      <td>3.590909</td>\n",
       "      <td>3.636364</td>\n",
       "      <td>1.149425</td>\n",
       "      <td>1.857143</td>\n",
       "      <td>220.926437</td>\n",
       "      <td>4.595984</td>\n",
       "      <td>-1.731106</td>\n",
       "      <td>1.0</td>\n",
       "    </tr>\n",
       "    <tr>\n",
       "      <th>std</th>\n",
       "      <td>42.389839</td>\n",
       "      <td>0.472866</td>\n",
       "      <td>1.804287</td>\n",
       "      <td>1.105342</td>\n",
       "      <td>2.414688</td>\n",
       "      <td>2.339967</td>\n",
       "      <td>2.576858</td>\n",
       "      <td>1.823131</td>\n",
       "      <td>411.498260</td>\n",
       "      <td>1.303333</td>\n",
       "      <td>1.083726</td>\n",
       "      <td>0.0</td>\n",
       "    </tr>\n",
       "    <tr>\n",
       "      <th>min</th>\n",
       "      <td>0.000000</td>\n",
       "      <td>0.000000</td>\n",
       "      <td>1.636364</td>\n",
       "      <td>6.109248</td>\n",
       "      <td>1.000000</td>\n",
       "      <td>1.000000</td>\n",
       "      <td>0.000000</td>\n",
       "      <td>1.000000</td>\n",
       "      <td>2.550000</td>\n",
       "      <td>0.936093</td>\n",
       "      <td>-3.540459</td>\n",
       "      <td>1.0</td>\n",
       "    </tr>\n",
       "    <tr>\n",
       "      <th>25%</th>\n",
       "      <td>0.000000</td>\n",
       "      <td>0.000000</td>\n",
       "      <td>5.886364</td>\n",
       "      <td>7.376192</td>\n",
       "      <td>1.000000</td>\n",
       "      <td>1.750000</td>\n",
       "      <td>0.000000</td>\n",
       "      <td>1.000000</td>\n",
       "      <td>68.350006</td>\n",
       "      <td>4.224609</td>\n",
       "      <td>-2.741120</td>\n",
       "      <td>1.0</td>\n",
       "    </tr>\n",
       "    <tr>\n",
       "      <th>50%</th>\n",
       "      <td>1.950000</td>\n",
       "      <td>1.000000</td>\n",
       "      <td>7.045455</td>\n",
       "      <td>8.265764</td>\n",
       "      <td>3.000000</td>\n",
       "      <td>3.000000</td>\n",
       "      <td>0.000000</td>\n",
       "      <td>1.000000</td>\n",
       "      <td>85.000000</td>\n",
       "      <td>4.442651</td>\n",
       "      <td>-1.560648</td>\n",
       "      <td>1.0</td>\n",
       "    </tr>\n",
       "    <tr>\n",
       "      <th>75%</th>\n",
       "      <td>91.625000</td>\n",
       "      <td>1.000000</td>\n",
       "      <td>8.272727</td>\n",
       "      <td>9.216228</td>\n",
       "      <td>7.000000</td>\n",
       "      <td>7.000000</td>\n",
       "      <td>1.000000</td>\n",
       "      <td>1.000000</td>\n",
       "      <td>253.259995</td>\n",
       "      <td>5.610119</td>\n",
       "      <td>-0.831277</td>\n",
       "      <td>1.0</td>\n",
       "    </tr>\n",
       "    <tr>\n",
       "      <th>max</th>\n",
       "      <td>100.000000</td>\n",
       "      <td>1.000000</td>\n",
       "      <td>10.000000</td>\n",
       "      <td>10.288750</td>\n",
       "      <td>7.000000</td>\n",
       "      <td>7.000000</td>\n",
       "      <td>10.000000</td>\n",
       "      <td>7.000000</td>\n",
       "      <td>2940.000000</td>\n",
       "      <td>7.986165</td>\n",
       "      <td>0.000000</td>\n",
       "      <td>1.0</td>\n",
       "    </tr>\n",
       "  </tbody>\n",
       "</table>\n",
       "</div>"
      ],
      "text/plain": [
       "         euro1900    excolony      avexpr    logpgp95      cons1     cons90  \\\n",
       "count  154.000000  162.000000  121.000000  148.000000  88.000000  88.000000   \n",
       "mean    30.466232    0.666667    7.066491    8.302509   3.590909   3.636364   \n",
       "std     42.389839    0.472866    1.804287    1.105342   2.414688   2.339967   \n",
       "min      0.000000    0.000000    1.636364    6.109248   1.000000   1.000000   \n",
       "25%      0.000000    0.000000    5.886364    7.376192   1.000000   1.750000   \n",
       "50%      1.950000    1.000000    7.045455    8.265764   3.000000   3.000000   \n",
       "75%     91.625000    1.000000    8.272727    9.216228   7.000000   7.000000   \n",
       "max    100.000000    1.000000   10.000000   10.288750   7.000000   7.000000   \n",
       "\n",
       "        democ00a    cons00a     extmort4     logem4    loghjypl  baseco  \n",
       "count  87.000000  91.000000    87.000000  87.000000  123.000000    64.0  \n",
       "mean    1.149425   1.857143   220.926437   4.595984   -1.731106     1.0  \n",
       "std     2.576858   1.823131   411.498260   1.303333    1.083726     0.0  \n",
       "min     0.000000   1.000000     2.550000   0.936093   -3.540459     1.0  \n",
       "25%     0.000000   1.000000    68.350006   4.224609   -2.741120     1.0  \n",
       "50%     0.000000   1.000000    85.000000   4.442651   -1.560648     1.0  \n",
       "75%     1.000000   1.000000   253.259995   5.610119   -0.831277     1.0  \n",
       "max    10.000000   7.000000  2940.000000   7.986165    0.000000     1.0  "
      ]
     },
     "execution_count": 3,
     "metadata": {},
     "output_type": "execute_result"
    }
   ],
   "source": [
    "df1.describe()"
   ]
  },
  {
   "cell_type": "markdown",
   "id": "48f659cc-6642-4ff8-bf20-b3e183e5f911",
   "metadata": {},
   "source": [
    "How do we measure institutional differences and economic outcomes?\n",
    "\n",
    "\n",
    "\n",
    "Economic outcomes are proxied by log GDP per capita in 1995, adjusted for exchange rates. (logpgp95)\n",
    "\n",
    "institutional differences are proxied by an index of protection against expropriation on average over 1985-95, constructed by the Political Risk Services Group.(avexpr)\n",
    "\n"
   ]
  },
  {
   "cell_type": "markdown",
   "id": "644da8a0-8a14-4773-b1db-0bbe383b6fb1",
   "metadata": {},
   "source": [
    "# Question 1\n",
    "\n",
    "Let's get a scatterplot going on. Let's plot a scatterplot that is relevant to the question of how predictive is the index of protection against exploitation to the log GDP per capita. (you might want to drop NANs)"
   ]
  },
  {
   "cell_type": "code",
   "execution_count": 4,
   "id": "9804029a-fd96-41d4-9f1d-106b66459b99",
   "metadata": {},
   "outputs": [],
   "source": [
    "#Drop nans\n",
    "\n",
    "df1.dropna(inplace=True)"
   ]
  },
  {
   "cell_type": "code",
   "execution_count": 8,
   "id": "0be4be39-36f6-4107-81e6-33e9733b6d59",
   "metadata": {},
   "outputs": [
    {
     "data": {
      "image/png": "[encoded data removed]",
      "text/plain": [
       "<Figure size 640x480 with 1 Axes>"
      ]
     },
     "metadata": {},
     "output_type": "display_data"
    },
    {
     "data": {
      "text/plain": [
       "<ggplot: (8770461990181)>"
      ]
     },
     "execution_count": 8,
     "metadata": {},
     "output_type": "execute_result"
    }
   ],
   "source": [
    "(ggplot(data=df1, mapping=aes(x='avexpr', y='logpgp95'))+\n",
    "geom_point()+theme_bw())"
   ]
  },
  {
   "cell_type": "code",
   "execution_count": null,
   "id": "3075e3b0-b4dd-4a49-a73c-914a5a0af413",
   "metadata": {},
   "outputs": [],
   "source": [
    "The correlation seems high."
   ]
  },
  {
   "cell_type": "markdown",
   "id": "8630ea7b-a029-4921-a6d7-016ced1aeef3",
   "metadata": {},
   "source": [
    "# Question 2\n",
    "\n",
    "Based on the plot above. Compute the regression we need to see the predictability. Print the summary, then print the coefficients on their own. Are they significant?"
   ]
  },
  {
   "cell_type": "code",
   "execution_count": 10,
   "id": "bfbe1a1b-99b5-4595-9519-b551b261af5d",
   "metadata": {},
   "outputs": [
    {
     "data": {
      "text/html": [
       "<table class=\"simpletable\">\n",
       "<caption>OLS Regression Results</caption>\n",
       "<tr>\n",
       "  <th>Dep. Variable:</th>        <td>logpgp95</td>     <th>  R-squared:         </th> <td>   0.568</td>\n",
       "</tr>\n",
       "<tr>\n",
       "  <th>Model:</th>                   <td>OLS</td>       <th>  Adj. R-squared:    </th> <td>   0.560</td>\n",
       "</tr>\n",
       "<tr>\n",
       "  <th>Method:</th>             <td>Least Squares</td>  <th>  F-statistic:       </th> <td>   72.32</td>\n",
       "</tr>\n",
       "<tr>\n",
       "  <th>Date:</th>             <td>Sat, 26 Nov 2022</td> <th>  Prob (F-statistic):</th> <td>1.33e-11</td>\n",
       "</tr>\n",
       "<tr>\n",
       "  <th>Time:</th>                 <td>19:52:47</td>     <th>  Log-Likelihood:    </th> <td> -55.184</td>\n",
       "</tr>\n",
       "<tr>\n",
       "  <th>No. Observations:</th>      <td>    57</td>      <th>  AIC:               </th> <td>   114.4</td>\n",
       "</tr>\n",
       "<tr>\n",
       "  <th>Df Residuals:</th>          <td>    55</td>      <th>  BIC:               </th> <td>   118.5</td>\n",
       "</tr>\n",
       "<tr>\n",
       "  <th>Df Model:</th>              <td>     1</td>      <th>                     </th>     <td> </td>   \n",
       "</tr>\n",
       "<tr>\n",
       "  <th>Covariance Type:</th>      <td>nonrobust</td>    <th>                     </th>     <td> </td>   \n",
       "</tr>\n",
       "</table>\n",
       "<table class=\"simpletable\">\n",
       "<tr>\n",
       "      <td></td>         <th>coef</th>     <th>std err</th>      <th>t</th>      <th>P>|t|</th>  <th>[0.025</th>    <th>0.975]</th>  \n",
       "</tr>\n",
       "<tr>\n",
       "  <th>Intercept</th> <td>    4.8934</td> <td>    0.383</td> <td>   12.791</td> <td> 0.000</td> <td>    4.127</td> <td>    5.660</td>\n",
       "</tr>\n",
       "<tr>\n",
       "  <th>avexpr</th>    <td>    0.4868</td> <td>    0.057</td> <td>    8.504</td> <td> 0.000</td> <td>    0.372</td> <td>    0.602</td>\n",
       "</tr>\n",
       "</table>\n",
       "<table class=\"simpletable\">\n",
       "<tr>\n",
       "  <th>Omnibus:</th>       <td> 8.795</td> <th>  Durbin-Watson:     </th> <td>   1.842</td>\n",
       "</tr>\n",
       "<tr>\n",
       "  <th>Prob(Omnibus):</th> <td> 0.012</td> <th>  Jarque-Bera (JB):  </th> <td>   8.140</td>\n",
       "</tr>\n",
       "<tr>\n",
       "  <th>Skew:</th>          <td>-0.860</td> <th>  Prob(JB):          </th> <td>  0.0171</td>\n",
       "</tr>\n",
       "<tr>\n",
       "  <th>Kurtosis:</th>      <td> 3.683</td> <th>  Cond. No.          </th> <td>    30.4</td>\n",
       "</tr>\n",
       "</table><br/><br/>Notes:<br/>[1] Standard Errors assume that the covariance matrix of the errors is correctly specified."
      ],
      "text/plain": [
       "<class 'statsmodels.iolib.summary.Summary'>\n",
       "\"\"\"\n",
       "                            OLS Regression Results                            \n",
       "==============================================================================\n",
       "Dep. Variable:               logpgp95   R-squared:                       0.568\n",
       "Model:                            OLS   Adj. R-squared:                  0.560\n",
       "Method:                 Least Squares   F-statistic:                     72.32\n",
       "Date:                Sat, 26 Nov 2022   Prob (F-statistic):           1.33e-11\n",
       "Time:                        19:52:47   Log-Likelihood:                -55.184\n",
       "No. Observations:                  57   AIC:                             114.4\n",
       "Df Residuals:                      55   BIC:                             118.5\n",
       "Df Model:                           1                                         \n",
       "Covariance Type:            nonrobust                                         \n",
       "==============================================================================\n",
       "                 coef    std err          t      P>|t|      [0.025      0.975]\n",
       "------------------------------------------------------------------------------\n",
       "Intercept      4.8934      0.383     12.791      0.000       4.127       5.660\n",
       "avexpr         0.4868      0.057      8.504      0.000       0.372       0.602\n",
       "==============================================================================\n",
       "Omnibus:                        8.795   Durbin-Watson:                   1.842\n",
       "Prob(Omnibus):                  0.012   Jarque-Bera (JB):                8.140\n",
       "Skew:                          -0.860   Prob(JB):                       0.0171\n",
       "Kurtosis:                       3.683   Cond. No.                         30.4\n",
       "==============================================================================\n",
       "\n",
       "Notes:\n",
       "[1] Standard Errors assume that the covariance matrix of the errors is correctly specified.\n",
       "\"\"\""
      ]
     },
     "execution_count": 10,
     "metadata": {},
     "output_type": "execute_result"
    }
   ],
   "source": [
    "reg1 = smf.ols('logpgp95 ~ avexpr',df1).fit()\n",
    "reg1.summary()"
   ]
  },
  {
   "cell_type": "code",
   "execution_count": 11,
   "id": "cc983568-2a0c-4e30-b7c7-03c6fd651cd6",
   "metadata": {},
   "outputs": [
    {
     "data": {
      "text/plain": [
       "Intercept    4.893443\n",
       "avexpr       0.486835\n",
       "dtype: float64"
      ]
     },
     "execution_count": 11,
     "metadata": {},
     "output_type": "execute_result"
    }
   ],
   "source": [
    "#Coefficients on their own\n",
    "reg1.params1"
   ]
  },
  {
   "cell_type": "markdown",
   "id": "81dc71bd-f62d-4b47-9de5-f658a53b2f05",
   "metadata": {},
   "source": [
    "Let's see their confidence intervals to assess significance:"
   ]
  },
  {
   "cell_type": "code",
   "execution_count": 12,
   "id": "d05ee8c2-2a11-4e95-b77e-ee6f0d18e5c0",
   "metadata": {},
   "outputs": [
    {
     "data": {
      "text/html": [
       "<div>\n",
       "<style scoped>\n",
       "    .dataframe tbody tr th:only-of-type {\n",
       "        vertical-align: middle;\n",
       "    }\n",
       "\n",
       "    .dataframe tbody tr th {\n",
       "        vertical-align: top;\n",
       "    }\n",
       "\n",
       "    .dataframe thead th {\n",
       "        text-align: right;\n",
       "    }\n",
       "</style>\n",
       "<table border=\"1\" class=\"dataframe\">\n",
       "  <thead>\n",
       "    <tr style=\"text-align: right;\">\n",
       "      <th></th>\n",
       "      <th>0</th>\n",
       "      <th>1</th>\n",
       "    </tr>\n",
       "  </thead>\n",
       "  <tbody>\n",
       "    <tr>\n",
       "      <th>Intercept</th>\n",
       "      <td>4.126771</td>\n",
       "      <td>5.660115</td>\n",
       "    </tr>\n",
       "    <tr>\n",
       "      <th>avexpr</th>\n",
       "      <td>0.372109</td>\n",
       "      <td>0.601561</td>\n",
       "    </tr>\n",
       "  </tbody>\n",
       "</table>\n",
       "</div>"
      ],
      "text/plain": [
       "                  0         1\n",
       "Intercept  4.126771  5.660115\n",
       "avexpr     0.372109  0.601561"
      ]
     },
     "execution_count": 12,
     "metadata": {},
     "output_type": "execute_result"
    }
   ],
   "source": [
    "reg1.conf_int()\n"
   ]
  },
  {
   "cell_type": "markdown",
   "id": "a5e01ffd-0fe4-484d-ac10-adc3e8576300",
   "metadata": {},
   "source": [
    "The *avexpr* parameter is very significant!"
   ]
  },
  {
   "cell_type": "markdown",
   "id": "16868f05-9ada-4952-962b-e7926450cd49",
   "metadata": {},
   "source": [
    "# Question 3\n",
    "\n",
    "Make a plot of the regression line and the scatterplot. How well do we think the regression line fits the data?"
   ]
  },
  {
   "cell_type": "code",
   "execution_count": 13,
   "id": "d6ece3a2-0670-40ea-ad07-c74dde56142d",
   "metadata": {},
   "outputs": [
    {
     "data": {
      "image/png": "[encoded data removed]",
      "text/plain": [
       "<Figure size 640x480 with 1 Axes>"
      ]
     },
     "metadata": {},
     "output_type": "display_data"
    },
    {
     "data": {
      "text/plain": [
       "<ggplot: (8770462012567)>"
      ]
     },
     "execution_count": 13,
     "metadata": {},
     "output_type": "execute_result"
    }
   ],
   "source": [
    "#Saving predictions\n",
    "\n",
    "pred=reg1.predict()\n",
    "\n",
    "df1['pred']=pred\n",
    "\n",
    "#plotting\n",
    "\n",
    "(ggplot(data=df1, mapping=aes(x='avexpr',\n",
    "                              y='logpgp95'))+\n",
    "       geom_point(color='steelblue')+\n",
    "geom_line(aes(x='avexpr', y='pred'), \n",
    "          color='darkorange')+\n",
    "theme_bw())"
   ]
  },
  {
   "cell_type": "markdown",
   "id": "46a04ef6-67ba-490b-a2eb-728ba6c30032",
   "metadata": {},
   "source": [
    "Looks excellent!"
   ]
  },
  {
   "cell_type": "markdown",
   "id": "44fa1906-0169-4dce-9d19-511192c81d7c",
   "metadata": {},
   "source": [
    "# Question 4\n",
    "\n",
    "Can you find another variable that you can use in tandem with avexpr to increase the prediction power of the regression"
   ]
  },
  {
   "cell_type": "markdown",
   "id": "cec2c9fa-d6b7-40ef-921f-5fc1229b0887",
   "metadata": {},
   "source": [
    "I will use logem4 which is a log of the unemployment rate"
   ]
  },
  {
   "cell_type": "code",
   "execution_count": 14,
   "id": "c81ff6bd-ac83-46d1-8deb-025302f2c12b",
   "metadata": {},
   "outputs": [
    {
     "data": {
      "text/html": [
       "<table class=\"simpletable\">\n",
       "<caption>OLS Regression Results</caption>\n",
       "<tr>\n",
       "  <th>Dep. Variable:</th>        <td>logpgp95</td>     <th>  R-squared:         </th> <td>   0.723</td>\n",
       "</tr>\n",
       "<tr>\n",
       "  <th>Model:</th>                   <td>OLS</td>       <th>  Adj. R-squared:    </th> <td>   0.712</td>\n",
       "</tr>\n",
       "<tr>\n",
       "  <th>Method:</th>             <td>Least Squares</td>  <th>  F-statistic:       </th> <td>   70.37</td>\n",
       "</tr>\n",
       "<tr>\n",
       "  <th>Date:</th>             <td>Sat, 26 Nov 2022</td> <th>  Prob (F-statistic):</th> <td>9.11e-16</td>\n",
       "</tr>\n",
       "<tr>\n",
       "  <th>Time:</th>                 <td>20:00:06</td>     <th>  Log-Likelihood:    </th> <td> -42.550</td>\n",
       "</tr>\n",
       "<tr>\n",
       "  <th>No. Observations:</th>      <td>    57</td>      <th>  AIC:               </th> <td>   91.10</td>\n",
       "</tr>\n",
       "<tr>\n",
       "  <th>Df Residuals:</th>          <td>    54</td>      <th>  BIC:               </th> <td>   97.23</td>\n",
       "</tr>\n",
       "<tr>\n",
       "  <th>Df Model:</th>              <td>     2</td>      <th>                     </th>     <td> </td>   \n",
       "</tr>\n",
       "<tr>\n",
       "  <th>Covariance Type:</th>      <td>nonrobust</td>    <th>                     </th>     <td> </td>   \n",
       "</tr>\n",
       "</table>\n",
       "<table class=\"simpletable\">\n",
       "<tr>\n",
       "      <td></td>         <th>coef</th>     <th>std err</th>      <th>t</th>      <th>P>|t|</th>  <th>[0.025</th>    <th>0.975]</th>  \n",
       "</tr>\n",
       "<tr>\n",
       "  <th>Intercept</th> <td>    7.6420</td> <td>    0.589</td> <td>   12.983</td> <td> 0.000</td> <td>    6.462</td> <td>    8.822</td>\n",
       "</tr>\n",
       "<tr>\n",
       "  <th>avexpr</th>    <td>    0.3280</td> <td>    0.055</td> <td>    6.007</td> <td> 0.000</td> <td>    0.218</td> <td>    0.437</td>\n",
       "</tr>\n",
       "<tr>\n",
       "  <th>logem4</th>    <td>   -0.3627</td> <td>    0.066</td> <td>   -5.489</td> <td> 0.000</td> <td>   -0.495</td> <td>   -0.230</td>\n",
       "</tr>\n",
       "</table>\n",
       "<table class=\"simpletable\">\n",
       "<tr>\n",
       "  <th>Omnibus:</th>       <td>10.931</td> <th>  Durbin-Watson:     </th> <td>   1.909</td>\n",
       "</tr>\n",
       "<tr>\n",
       "  <th>Prob(Omnibus):</th> <td> 0.004</td> <th>  Jarque-Bera (JB):  </th> <td>  12.116</td>\n",
       "</tr>\n",
       "<tr>\n",
       "  <th>Skew:</th>          <td>-0.799</td> <th>  Prob(JB):          </th> <td> 0.00234</td>\n",
       "</tr>\n",
       "<tr>\n",
       "  <th>Kurtosis:</th>      <td> 4.597</td> <th>  Cond. No.          </th> <td>    69.8</td>\n",
       "</tr>\n",
       "</table><br/><br/>Notes:<br/>[1] Standard Errors assume that the covariance matrix of the errors is correctly specified."
      ],
      "text/plain": [
       "<class 'statsmodels.iolib.summary.Summary'>\n",
       "\"\"\"\n",
       "                            OLS Regression Results                            \n",
       "==============================================================================\n",
       "Dep. Variable:               logpgp95   R-squared:                       0.723\n",
       "Model:                            OLS   Adj. R-squared:                  0.712\n",
       "Method:                 Least Squares   F-statistic:                     70.37\n",
       "Date:                Sat, 26 Nov 2022   Prob (F-statistic):           9.11e-16\n",
       "Time:                        20:00:06   Log-Likelihood:                -42.550\n",
       "No. Observations:                  57   AIC:                             91.10\n",
       "Df Residuals:                      54   BIC:                             97.23\n",
       "Df Model:                           2                                         \n",
       "Covariance Type:            nonrobust                                         \n",
       "==============================================================================\n",
       "                 coef    std err          t      P>|t|      [0.025      0.975]\n",
       "------------------------------------------------------------------------------\n",
       "Intercept      7.6420      0.589     12.983      0.000       6.462       8.822\n",
       "avexpr         0.3280      0.055      6.007      0.000       0.218       0.437\n",
       "logem4        -0.3627      0.066     -5.489      0.000      -0.495      -0.230\n",
       "==============================================================================\n",
       "Omnibus:                       10.931   Durbin-Watson:                   1.909\n",
       "Prob(Omnibus):                  0.004   Jarque-Bera (JB):               12.116\n",
       "Skew:                          -0.799   Prob(JB):                      0.00234\n",
       "Kurtosis:                       4.597   Cond. No.                         69.8\n",
       "==============================================================================\n",
       "\n",
       "Notes:\n",
       "[1] Standard Errors assume that the covariance matrix of the errors is correctly specified.\n",
       "\"\"\""
      ]
     },
     "execution_count": 14,
     "metadata": {},
     "output_type": "execute_result"
    }
   ],
   "source": [
    "\n",
    "\n",
    "smf.ols('logpgp95 ~ avexpr+logem4',df1).fit().summary()"
   ]
  },
  {
   "cell_type": "markdown",
   "id": "6b18404f-aa77-4d62-a5ae-4e135c198670",
   "metadata": {},
   "source": [
    "Our R squared has increased quite a bit and the coefficients are all significant"
   ]
  },
  {
   "cell_type": "code",
   "execution_count": null,
   "id": "4cf0b632-5449-4d66-bc87-1b777aea4ead",
   "metadata": {},
   "outputs": [],
   "source": []
  }
 ],
 "metadata": {
  "kernelspec": {
   "display_name": "Python 3",
   "language": "python",
   "name": "python3"
  },
  "language_info": {
   "codemirror_mode": {
    "name": "ipython",
    "version": 3
   },
   "file_extension": ".py",
   "mimetype": "text/x-python",
   "name": "python",
   "nbconvert_exporter": "python",
   "pygments_lexer": "ipython3",
   "version": "3.8.8"
  }
 },
 "nbformat": 4,
 "nbformat_minor": 5
}
