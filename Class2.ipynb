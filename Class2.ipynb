{
 "cells": [
  {
   "cell_type": "markdown",
   "id": "ffd7f283-988b-4bde-8c09-79a4afa1646a",
   "metadata": {},
   "source": [
    "# Dictionaries"
   ]
  },
  {
   "cell_type": "markdown",
   "id": "4cb5a1a9-4478-4af7-9deb-ed831a074b7e",
   "metadata": {},
   "source": [
    "Key- value pairs, use curly brackets to define them"
   ]
  },
  {
   "cell_type": "code",
   "execution_count": 1,
   "id": "53e5d906-1982-4367-9716-b19dd997f060",
   "metadata": {},
   "outputs": [],
   "source": [
    "namedict={'Name':'Pablo','Last Name': 'Crespo' }"
   ]
  },
  {
   "cell_type": "code",
   "execution_count": 2,
   "id": "ec0bb791-f324-44ed-9827-b91807006262",
   "metadata": {},
   "outputs": [
    {
     "data": {
      "text/plain": [
       "{'Name': 'Pablo', 'Last Name': 'Crespo'}"
      ]
     },
     "execution_count": 2,
     "metadata": {},
     "output_type": "execute_result"
    }
   ],
   "source": [
    "namedict"
   ]
  },
  {
   "cell_type": "code",
   "execution_count": 3,
   "id": "456e9c82-364a-4d72-9ef7-24dde3d7601f",
   "metadata": {},
   "outputs": [
    {
     "data": {
      "text/plain": [
       "'Pablo'"
      ]
     },
     "execution_count": 3,
     "metadata": {},
     "output_type": "execute_result"
    }
   ],
   "source": [
    "namedict['Name']"
   ]
  },
  {
   "cell_type": "code",
   "execution_count": 4,
   "id": "7f9e2fa9-a202-43b2-8940-51faeac15231",
   "metadata": {},
   "outputs": [
    {
     "ename": "KeyError",
     "evalue": "'Pablo'",
     "output_type": "error",
     "traceback": [
      "\u001b[0;31m---------------------------------------------------------------------------\u001b[0m",
      "\u001b[0;31mKeyError\u001b[0m                                  Traceback (most recent call last)",
      "\u001b[0;32m<ipython-input-4-0009cf43c2ec>\u001b[0m in \u001b[0;36m<module>\u001b[0;34m\u001b[0m\n\u001b[0;32m----> 1\u001b[0;31m \u001b[0mnamedict\u001b[0m\u001b[0;34m[\u001b[0m\u001b[0;34m'Pablo'\u001b[0m\u001b[0;34m]\u001b[0m\u001b[0;34m\u001b[0m\u001b[0;34m\u001b[0m\u001b[0m\n\u001b[0m",
      "\u001b[0;31mKeyError\u001b[0m: 'Pablo'"
     ]
    }
   ],
   "source": [
    "namedict['Pablo']"
   ]
  },
  {
   "cell_type": "code",
   "execution_count": 5,
   "id": "6c5b277e-15e9-42c3-82ec-f4fb2e50c162",
   "metadata": {},
   "outputs": [],
   "source": [
    "namedict={'Pablo': 'Crespo' , 'Pablo': 'Picasso' }"
   ]
  },
  {
   "cell_type": "code",
   "execution_count": 6,
   "id": "3f4527c7-c83a-48de-b108-674fa2ac93af",
   "metadata": {},
   "outputs": [
    {
     "data": {
      "text/plain": [
       "{'Pablo': 'Picasso'}"
      ]
     },
     "execution_count": 6,
     "metadata": {},
     "output_type": "execute_result"
    }
   ],
   "source": [
    "namedict"
   ]
  },
  {
   "cell_type": "code",
   "execution_count": 7,
   "id": "0c062752-c3f9-4e50-a695-a9066dfac699",
   "metadata": {},
   "outputs": [
    {
     "data": {
      "text/plain": [
       "'Picasso'"
      ]
     },
     "execution_count": 7,
     "metadata": {},
     "output_type": "execute_result"
    }
   ],
   "source": [
    "namedict['Pablo']"
   ]
  },
  {
   "cell_type": "code",
   "execution_count": 8,
   "id": "3f74fb4d-90dd-43f8-a71f-e0f10f46e8a3",
   "metadata": {},
   "outputs": [],
   "source": [
    "#Let's replace this, I hate it\n",
    "namedict['Pablo']='Crespo'"
   ]
  },
  {
   "cell_type": "code",
   "execution_count": 9,
   "id": "099df7df-3d29-4f81-b297-09ad897abb6d",
   "metadata": {},
   "outputs": [
    {
     "data": {
      "text/plain": [
       "'Crespo'"
      ]
     },
     "execution_count": 9,
     "metadata": {},
     "output_type": "execute_result"
    }
   ],
   "source": [
    "namedict['Pablo']"
   ]
  },
  {
   "cell_type": "code",
   "execution_count": 10,
   "id": "55e0dfff-52eb-4129-a9da-ff3e1e4e64db",
   "metadata": {},
   "outputs": [],
   "source": [
    "dataex={'ID':['3122','1253', '7564'], 'Age':[20,22,31], 'Height':[160, 172, 180]}"
   ]
  },
  {
   "cell_type": "code",
   "execution_count": 14,
   "id": "8301adb9-f931-4235-a777-a0192298683d",
   "metadata": {},
   "outputs": [
    {
     "name": "stdout",
     "output_type": "stream",
     "text": [
      "1253 22\n"
     ]
    }
   ],
   "source": [
    "print(dataex['ID'][1],dataex['Age'][1])\n"
   ]
  },
  {
   "cell_type": "code",
   "execution_count": 17,
   "id": "d7348ea2-d539-4d6a-9c74-2869cb4b902d",
   "metadata": {},
   "outputs": [],
   "source": [
    "unstruct={\"Name\":'Pablo', 'Residenbces':['New York', 'California', 'Texas'], 'Age':28}"
   ]
  },
  {
   "cell_type": "code",
   "execution_count": 19,
   "id": "773da8c3-cd10-4f17-a18f-43c727ff0f67",
   "metadata": {},
   "outputs": [
    {
     "data": {
      "text/plain": [
       "['New York', 'California', 'Texas']"
      ]
     },
     "execution_count": 19,
     "metadata": {},
     "output_type": "execute_result"
    }
   ],
   "source": [
    "unstruct['Residenbces']"
   ]
  },
  {
   "cell_type": "markdown",
   "id": "9c1eede5-4a66-43a7-94d0-02aef7110678",
   "metadata": {},
   "source": [
    "# Length function and type function"
   ]
  },
  {
   "cell_type": "code",
   "execution_count": 20,
   "id": "ab46a7fe-264f-4fbd-b2a8-95acc3c5c093",
   "metadata": {},
   "outputs": [],
   "source": [
    "listnum=[2,5,4,2]\n",
    "\n",
    "string='letters'\n",
    "\n",
    "num=3.2333\n"
   ]
  },
  {
   "cell_type": "code",
   "execution_count": 21,
   "id": "5b036c12-2666-436d-b385-e2f0cd48823d",
   "metadata": {},
   "outputs": [
    {
     "ename": "TypeError",
     "evalue": "object of type 'float' has no len()",
     "output_type": "error",
     "traceback": [
      "\u001b[0;31m---------------------------------------------------------------------------\u001b[0m",
      "\u001b[0;31mTypeError\u001b[0m                                 Traceback (most recent call last)",
      "\u001b[0;32m<ipython-input-21-04dd5b0b64a9>\u001b[0m in \u001b[0;36m<module>\u001b[0;34m\u001b[0m\n\u001b[0;32m----> 1\u001b[0;31m \u001b[0mlen\u001b[0m\u001b[0;34m(\u001b[0m\u001b[0mnum\u001b[0m\u001b[0;34m)\u001b[0m\u001b[0;34m\u001b[0m\u001b[0;34m\u001b[0m\u001b[0m\n\u001b[0m",
      "\u001b[0;31mTypeError\u001b[0m: object of type 'float' has no len()"
     ]
    }
   ],
   "source": [
    "len(num)"
   ]
  },
  {
   "cell_type": "code",
   "execution_count": 22,
   "id": "7697f85d-6bb2-4466-9ebe-cb62cb4fbfc0",
   "metadata": {},
   "outputs": [
    {
     "name": "stdout",
     "output_type": "stream",
     "text": [
      "4\n",
      "7\n"
     ]
    }
   ],
   "source": [
    "print(len(listnum))\n",
    "\n",
    "print(len(string))\n",
    "\n"
   ]
  },
  {
   "cell_type": "code",
   "execution_count": 23,
   "id": "a2eff460-6db0-4fbb-9ef2-c59b28ecdaa5",
   "metadata": {},
   "outputs": [
    {
     "name": "stdout",
     "output_type": "stream",
     "text": [
      "<class 'list'>\n",
      "<class 'str'>\n",
      "<class 'float'>\n"
     ]
    }
   ],
   "source": [
    "print(type(listnum))\n",
    "print(type(string))\n",
    "print(type(num))"
   ]
  },
  {
   "cell_type": "markdown",
   "id": "cb328750-f7e5-4f91-9a62-118764d5252c",
   "metadata": {},
   "source": [
    "# Changing types"
   ]
  },
  {
   "cell_type": "code",
   "execution_count": 27,
   "id": "d35bffa0-dda4-4c5a-a2a6-70c34aa0afab",
   "metadata": {},
   "outputs": [
    {
     "name": "stdout",
     "output_type": "stream",
     "text": [
      "<class 'str'>\n",
      "<class 'float'>\n",
      "44.34\n"
     ]
    }
   ],
   "source": [
    "s = '12.34' \n",
    "\n",
    "f = float(s) \n",
    "\n",
    "print(type(s))\n",
    "print(type(f)) \n",
    "#print(s+32)\n",
    "print(f+32)\n"
   ]
  },
  {
   "cell_type": "code",
   "execution_count": 28,
   "id": "89b271c8-eee8-4e07-8a8f-5e3fd88b85c1",
   "metadata": {},
   "outputs": [
    {
     "name": "stdout",
     "output_type": "stream",
     "text": [
      "<class 'int'>\n"
     ]
    }
   ],
   "source": [
    "s = \"12.56\"\n",
    "\n",
    "q= float(s)\n",
    "i = int(q) \n",
    "\n",
    "print(type(i))"
   ]
  },
  {
   "cell_type": "code",
   "execution_count": 29,
   "id": "b223374e-6712-4145-817a-d1454ebd4a84",
   "metadata": {},
   "outputs": [
    {
     "data": {
      "text/plain": [
       "12"
      ]
     },
     "execution_count": 29,
     "metadata": {},
     "output_type": "execute_result"
    }
   ],
   "source": [
    "i"
   ]
  },
  {
   "cell_type": "markdown",
   "id": "7d25c47a-81d2-4604-857b-a9669c117da0",
   "metadata": {},
   "source": [
    "## Strings as lists?"
   ]
  },
  {
   "cell_type": "code",
   "execution_count": 30,
   "id": "2c95b075-e5ed-455e-8ede-2c5252dbefed",
   "metadata": {},
   "outputs": [
    {
     "data": {
      "text/plain": [
       "['t',\n",
       " 'o',\n",
       " 't',\n",
       " 'a',\n",
       " 'l',\n",
       " ' ',\n",
       " 'e',\n",
       " 'c',\n",
       " 'l',\n",
       " 'i',\n",
       " 'p',\n",
       " 's',\n",
       " 'e',\n",
       " ' ',\n",
       " 'o',\n",
       " 'f',\n",
       " ' ',\n",
       " 't',\n",
       " 'h',\n",
       " 'e',\n",
       " ' ',\n",
       " 'h',\n",
       " 'e',\n",
       " 'a',\n",
       " 'r',\n",
       " 't']"
      ]
     },
     "execution_count": 30,
     "metadata": {},
     "output_type": "execute_result"
    }
   ],
   "source": [
    "Song=\"total eclipse of the heart\"\n",
    "\n",
    "list(Song)"
   ]
  },
  {
   "cell_type": "code",
   "execution_count": 32,
   "id": "f44f5223-795f-4c58-a7b8-81b8ed1f9d7c",
   "metadata": {},
   "outputs": [
    {
     "data": {
      "text/plain": [
       "26"
      ]
     },
     "execution_count": 32,
     "metadata": {},
     "output_type": "execute_result"
    }
   ],
   "source": [
    "len(Song)"
   ]
  },
  {
   "cell_type": "code",
   "execution_count": 33,
   "id": "fdbb55b6-10e7-4dd2-83ad-f50ff66a0a4d",
   "metadata": {},
   "outputs": [
    {
     "data": {
      "text/plain": [
       "'l'"
      ]
     },
     "execution_count": 33,
     "metadata": {},
     "output_type": "execute_result"
    }
   ],
   "source": [
    "Song[4]"
   ]
  },
  {
   "cell_type": "code",
   "execution_count": 34,
   "id": "aae242f9-e4c3-4bb8-a250-33cd51b8b8ef",
   "metadata": {},
   "outputs": [
    {
     "name": "stdout",
     "output_type": "stream",
     "text": [
      "['c', 'a', 'l']\n"
     ]
    }
   ],
   "source": [
    "#We don't even have to do this!!!\n",
    "\n",
    "a = \"califragilisticexpialidocious\"\n",
    "print([a[0], a[1], a[2]])"
   ]
  },
  {
   "cell_type": "code",
   "execution_count": 35,
   "id": "149ba442-53a5-495f-a7d1-44ace4e6eacd",
   "metadata": {},
   "outputs": [
    {
     "data": {
      "text/plain": [
       "'califra'"
      ]
     },
     "execution_count": 35,
     "metadata": {},
     "output_type": "execute_result"
    }
   ],
   "source": [
    "#Slice!\n",
    "\n",
    "a[0:7]"
   ]
  },
  {
   "cell_type": "code",
   "execution_count": 36,
   "id": "68dc4ac2-e06d-4e7e-bd19-d0d354b672f3",
   "metadata": {},
   "outputs": [
    {
     "data": {
      "text/plain": [
       "'rag'"
      ]
     },
     "execution_count": 36,
     "metadata": {},
     "output_type": "execute_result"
    }
   ],
   "source": [
    "a[5:8]"
   ]
  },
  {
   "cell_type": "code",
   "execution_count": 37,
   "id": "50215f83-52c0-40d1-a741-5f72b21a284f",
   "metadata": {},
   "outputs": [
    {
     "data": {
      "text/plain": [
       "'listicexpialidocious'"
      ]
     },
     "execution_count": 37,
     "metadata": {},
     "output_type": "execute_result"
    }
   ],
   "source": [
    "a[9:]"
   ]
  },
  {
   "cell_type": "code",
   "execution_count": 38,
   "id": "1fdbdc50-54e2-4fdf-af57-28f98984ed1d",
   "metadata": {},
   "outputs": [
    {
     "data": {
      "text/plain": [
       "'califragi'"
      ]
     },
     "execution_count": 38,
     "metadata": {},
     "output_type": "execute_result"
    }
   ],
   "source": [
    "a[:9]"
   ]
  },
  {
   "cell_type": "markdown",
   "id": "bf9a8734-cd74-4a2e-9fb3-5f9e1cb48d68",
   "metadata": {},
   "source": [
    "*Exercise*. What is the result of list(str(int(float('12.34'))))? Why? "
   ]
  },
  {
   "cell_type": "code",
   "execution_count": 39,
   "id": "0c39556a-2321-4809-89ab-9fcac5bed9a2",
   "metadata": {},
   "outputs": [
    {
     "data": {
      "text/plain": [
       "['1', '2']"
      ]
     },
     "execution_count": 39,
     "metadata": {},
     "output_type": "execute_result"
    }
   ],
   "source": [
    "list(str(int(float('12.34'))))"
   ]
  },
  {
   "cell_type": "code",
   "execution_count": 44,
   "id": "fe19a9ab-a1ce-4436-973d-f77f313cd622",
   "metadata": {},
   "outputs": [
    {
     "data": {
      "text/plain": [
       "['1', '2']"
      ]
     },
     "execution_count": 44,
     "metadata": {},
     "output_type": "execute_result"
    }
   ],
   "source": [
    "list(str(int(float('12.34'))))"
   ]
  },
  {
   "cell_type": "markdown",
   "id": "06dd99a1-4b26-4501-838b-c652a024c836",
   "metadata": {},
   "source": [
    "**Exercise (challenging).** This one is tricky, but it came up in some work we  were doing. Suppose year is a string containing the year of a particular piece of data; for example, year = '2015'. \n",
    "How would we construct a **string** for the following year?"
   ]
  },
  {
   "cell_type": "code",
   "execution_count": 45,
   "id": "cc732d2f-6b91-4d8f-b928-afbfb1bd7528",
   "metadata": {},
   "outputs": [
    {
     "data": {
      "text/plain": [
       "'2016'"
      ]
     },
     "execution_count": 45,
     "metadata": {},
     "output_type": "execute_result"
    }
   ],
   "source": [
    "str(int('2015')+1)"
   ]
  },
  {
   "cell_type": "code",
   "execution_count": 49,
   "id": "7d374fbf-7b8c-4593-9e59-74f9c34a2432",
   "metadata": {},
   "outputs": [
    {
     "data": {
      "text/plain": [
       "'201'"
      ]
     },
     "execution_count": 49,
     "metadata": {},
     "output_type": "execute_result"
    }
   ],
   "source": [
    "year='2015'\n",
    "\n",
    "year[0:3]"
   ]
  },
  {
   "cell_type": "code",
   "execution_count": 51,
   "id": "3f724ccf-6a63-4c58-9ac3-86c9adde2441",
   "metadata": {},
   "outputs": [
    {
     "data": {
      "text/plain": [
       "'2016'"
      ]
     },
     "execution_count": 51,
     "metadata": {},
     "output_type": "execute_result"
    }
   ],
   "source": [
    "year[0:3]+'6'"
   ]
  },
  {
   "cell_type": "code",
   "execution_count": 46,
   "id": "703a507e-d23f-42d0-b70c-38a7f77ff9ff",
   "metadata": {},
   "outputs": [
    {
     "data": {
      "text/plain": [
       "['2016', '2017', '2018', '2019', '2020']"
      ]
     },
     "execution_count": 46,
     "metadata": {},
     "output_type": "execute_result"
    }
   ],
   "source": [
    "year='2015'\n",
    "\n",
    "extrayear=[1,2,3,4,5]\n",
    "\n",
    "[str(int (year)+i) for i in extrayear]"
   ]
  },
  {
   "cell_type": "markdown",
   "id": "10b8d98d-b4fd-4ded-bfd4-eab6f24a54fe",
   "metadata": {},
   "source": [
    "# Booleans"
   ]
  },
  {
   "cell_type": "code",
   "execution_count": 52,
   "id": "460b865e-e80c-4b46-8749-533ad1a6d3b2",
   "metadata": {},
   "outputs": [
    {
     "data": {
      "text/plain": [
       "True"
      ]
     },
     "execution_count": 52,
     "metadata": {},
     "output_type": "execute_result"
    }
   ],
   "source": [
    "3>2"
   ]
  },
  {
   "cell_type": "code",
   "execution_count": 53,
   "id": "e8437f5f-2b03-48b1-af95-bcddbed053f6",
   "metadata": {},
   "outputs": [
    {
     "data": {
      "text/plain": [
       "False"
      ]
     },
     "execution_count": 53,
     "metadata": {},
     "output_type": "execute_result"
    }
   ],
   "source": [
    "2<1"
   ]
  },
  {
   "cell_type": "code",
   "execution_count": 54,
   "id": "68dd8bef-d255-452f-b0e9-3a075a5fc694",
   "metadata": {},
   "outputs": [
    {
     "data": {
      "text/plain": [
       "bool"
      ]
     },
     "execution_count": 54,
     "metadata": {},
     "output_type": "execute_result"
    }
   ],
   "source": [
    "type(3>2)"
   ]
  },
  {
   "cell_type": "code",
   "execution_count": 55,
   "id": "5bb0e03a-4cb6-47dd-91b0-52bbdbf2f8e0",
   "metadata": {},
   "outputs": [
    {
     "ename": "SyntaxError",
     "evalue": "cannot assign to literal (<ipython-input-55-20b50f3811f6>, line 1)",
     "output_type": "error",
     "traceback": [
      "\u001b[0;36m  File \u001b[0;32m\"<ipython-input-55-20b50f3811f6>\"\u001b[0;36m, line \u001b[0;32m1\u001b[0m\n\u001b[0;31m    5=7\u001b[0m\n\u001b[0m    ^\u001b[0m\n\u001b[0;31mSyntaxError\u001b[0m\u001b[0;31m:\u001b[0m cannot assign to literal\n"
     ]
    }
   ],
   "source": [
    "5=7"
   ]
  },
  {
   "cell_type": "code",
   "execution_count": 56,
   "id": "0daa713b-3600-4c9d-baf3-2865ee48bcf4",
   "metadata": {},
   "outputs": [
    {
     "data": {
      "text/plain": [
       "False"
      ]
     },
     "execution_count": 56,
     "metadata": {},
     "output_type": "execute_result"
    }
   ],
   "source": [
    "5==7"
   ]
  },
  {
   "cell_type": "code",
   "execution_count": 57,
   "id": "abaab9de-3e54-4871-9e64-0a8e9b9b2e72",
   "metadata": {},
   "outputs": [
    {
     "data": {
      "text/plain": [
       "True"
      ]
     },
     "execution_count": 57,
     "metadata": {},
     "output_type": "execute_result"
    }
   ],
   "source": [
    "5!=7"
   ]
  },
  {
   "cell_type": "markdown",
   "id": "307cc087-4bd0-4d87-966e-341b1e77c442",
   "metadata": {},
   "source": [
    "'not' is a logical negation"
   ]
  },
  {
   "cell_type": "code",
   "execution_count": 58,
   "id": "5c861bc7-0068-4cdf-ae36-327f0746b8a1",
   "metadata": {},
   "outputs": [
    {
     "name": "stdout",
     "output_type": "stream",
     "text": [
      "False\n"
     ]
    }
   ],
   "source": [
    "test = not 1 > 0 \n",
    "print(test)\n"
   ]
  },
  {
   "cell_type": "code",
   "execution_count": 59,
   "id": "02f4caa2-c381-426c-8a8e-057a5a2b9a49",
   "metadata": {},
   "outputs": [
    {
     "name": "stdout",
     "output_type": "stream",
     "text": [
      "True\n"
     ]
    }
   ],
   "source": [
    "test = not 1 > 2 \n",
    "print(test)\n"
   ]
  },
  {
   "cell_type": "code",
   "execution_count": 60,
   "id": "7e662968-1532-4f2a-b4d7-508e085e0f16",
   "metadata": {},
   "outputs": [
    {
     "name": "stdout",
     "output_type": "stream",
     "text": [
      "False\n"
     ]
    }
   ],
   "source": [
    "print(\"sarah\" == 'Sarah')"
   ]
  },
  {
   "cell_type": "code",
   "execution_count": 61,
   "id": "57fad1f7-102d-4639-89e0-cb991418fdd0",
   "metadata": {},
   "outputs": [
    {
     "name": "stdout",
     "output_type": "stream",
     "text": [
      "True\n",
      "False\n",
      "True\n"
     ]
    }
   ],
   "source": [
    "print(type('Sarah') == str) \n",
    "print(type('Sarah') == int) \n",
    "print(len('Sarah') >= 3) "
   ]
  },
  {
   "cell_type": "code",
   "execution_count": 62,
   "id": "fdc69018-b4f4-4e99-996e-9b1586930f10",
   "metadata": {},
   "outputs": [
    {
     "data": {
      "text/plain": [
       "False"
      ]
     },
     "execution_count": 62,
     "metadata": {},
     "output_type": "execute_result"
    }
   ],
   "source": [
    "\"A\">\"B\""
   ]
  },
  {
   "cell_type": "code",
   "execution_count": 63,
   "id": "14ad63a9-92ca-45ea-9366-0968e399668b",
   "metadata": {},
   "outputs": [
    {
     "data": {
      "text/plain": [
       "True"
      ]
     },
     "execution_count": 63,
     "metadata": {},
     "output_type": "execute_result"
    }
   ],
   "source": [
    "\"B\">\"A\""
   ]
  },
  {
   "cell_type": "markdown",
   "id": "8415e598-d7f0-461f-ae5f-1e2fd9eed271",
   "metadata": {},
   "source": [
    "https://en.wikipedia.org/wiki/List_of_Unicode_characters"
   ]
  },
  {
   "cell_type": "code",
   "execution_count": 64,
   "id": "355777b5-d1fe-4c95-a3bd-c1822bdf60dd",
   "metadata": {},
   "outputs": [
    {
     "data": {
      "text/plain": [
       "65"
      ]
     },
     "execution_count": 64,
     "metadata": {},
     "output_type": "execute_result"
    }
   ],
   "source": [
    "ord(\"A\")"
   ]
  },
  {
   "cell_type": "code",
   "execution_count": 65,
   "id": "09a24740-9ae8-47b0-a444-6e1d2e117a2c",
   "metadata": {},
   "outputs": [
    {
     "data": {
      "text/plain": [
       "66"
      ]
     },
     "execution_count": 65,
     "metadata": {},
     "output_type": "execute_result"
    }
   ],
   "source": [
    "ord(\"B\")"
   ]
  },
  {
   "cell_type": "markdown",
   "id": "a032b2bf-c555-42b2-9f37-42826d1505f5",
   "metadata": {},
   "source": [
    "# IF/ELSE"
   ]
  },
  {
   "cell_type": "code",
   "execution_count": 69,
   "id": "d14c3a8b-5532-4575-9a97-486cff0064b3",
   "metadata": {},
   "outputs": [
    {
     "name": "stdout",
     "output_type": "stream",
     "text": [
      "The statement was false\n"
     ]
    }
   ],
   "source": [
    "if len(\"pear\") >len('apple'):\n",
    "    print('The statement was true!')\n",
    "else:\n",
    "    print('The statement was false')"
   ]
  },
  {
   "cell_type": "code",
   "execution_count": 71,
   "id": "b8c4320c-98cf-40d3-9ddd-e58ccc9cb5ad",
   "metadata": {},
   "outputs": [
    {
     "name": "stdout",
     "output_type": "stream",
     "text": [
      "else branch\n",
      "False\n"
     ]
    }
   ],
   "source": [
    "x = 'potato'\n",
    "\n",
    "condition = len(x) > 6\n",
    "\n",
    "if condition:\n",
    "    print('if branch')           \n",
    "    print(condition)\n",
    "else:\n",
    "    print('else branch')    \n",
    "    print(condition)"
   ]
  },
  {
   "cell_type": "markdown",
   "id": "c9505674-66e4-46b9-b87b-05fcbc87bf03",
   "metadata": {},
   "source": [
    "Take the names name1 and name2, both of them strings. Write a program using if and else that prints the name that comes first in alphabetical order. Test your program with name1 = 'Dave' and name2 = 'Glenn'."
   ]
  },
  {
   "cell_type": "code",
   "execution_count": 73,
   "id": "68c6757f-b64e-4a76-8c66-55aa91983aba",
   "metadata": {},
   "outputs": [
    {
     "name": "stdout",
     "output_type": "stream",
     "text": [
      "Paul\n"
     ]
    }
   ],
   "source": [
    "name1='Thomas'\n",
    "name2='Paul'\n",
    "\n",
    "if name1>name2:\n",
    "    print(name2)\n",
    "else:\n",
    "    print(name1)"
   ]
  },
  {
   "cell_type": "markdown",
   "id": "098d84c8-056c-42d1-a7e7-e21659235ef1",
   "metadata": {},
   "source": [
    "# Ranges"
   ]
  },
  {
   "cell_type": "code",
   "execution_count": 74,
   "id": "b11d8770-78eb-471c-9eb4-eb35e57baef2",
   "metadata": {},
   "outputs": [
    {
     "data": {
      "text/plain": [
       "range(0, 7)"
      ]
     },
     "execution_count": 74,
     "metadata": {},
     "output_type": "execute_result"
    }
   ],
   "source": [
    "range(7)"
   ]
  },
  {
   "cell_type": "code",
   "execution_count": 75,
   "id": "2ab04c86-c6cd-4530-83fc-fa8f7eb4cdd0",
   "metadata": {},
   "outputs": [
    {
     "data": {
      "text/plain": [
       "[0, 1, 2, 3, 4, 5, 6]"
      ]
     },
     "execution_count": 75,
     "metadata": {},
     "output_type": "execute_result"
    }
   ],
   "source": [
    "list(range(7))"
   ]
  },
  {
   "cell_type": "code",
   "execution_count": 76,
   "id": "26908078-22fb-4088-9d0d-49c41791e1b2",
   "metadata": {},
   "outputs": [
    {
     "data": {
      "text/plain": [
       "[0, 2, 4, 6, 8]"
      ]
     },
     "execution_count": 76,
     "metadata": {},
     "output_type": "execute_result"
    }
   ],
   "source": [
    "list(range(0,10,2))"
   ]
  },
  {
   "cell_type": "markdown",
   "id": "d28b486a-6c10-4c78-9a21-c52fe29540bc",
   "metadata": {},
   "source": [
    "# For loops"
   ]
  },
  {
   "cell_type": "code",
   "execution_count": 77,
   "id": "eff60c75-6d93-44ab-86e9-36d895a36adb",
   "metadata": {},
   "outputs": [
    {
     "name": "stdout",
     "output_type": "stream",
     "text": [
      "a\n",
      "b\n",
      "c\n",
      "d\n",
      "e\n",
      "f\n",
      "g\n",
      "h\n",
      "i\n",
      "j\n",
      "k\n",
      "l\n",
      "m\n",
      "n\n",
      "o\n",
      "p\n",
      "q\n",
      "r\n",
      "s\n",
      "t\n",
      "u\n",
      "v\n",
      "w\n",
      "x\n",
      "y\n",
      "z\n"
     ]
    }
   ],
   "source": [
    "myabc='abcdefghijklmnopqrstuvwxyz'\n",
    "\n",
    "\n",
    "for letter in myabc:\n",
    "    print(letter)"
   ]
  },
  {
   "cell_type": "code",
   "execution_count": 78,
   "id": "c98f7a20-bf5b-498d-b616-fd4909d4bdb9",
   "metadata": {},
   "outputs": [
    {
     "data": {
      "text/plain": [
       "'califragilisticexpialidocious'"
      ]
     },
     "execution_count": 78,
     "metadata": {},
     "output_type": "execute_result"
    }
   ],
   "source": [
    "#Remember a?\n",
    "a"
   ]
  },
  {
   "cell_type": "code",
   "execution_count": 79,
   "id": "54a7fe21-b09d-4871-84ac-5002d4c5a524",
   "metadata": {},
   "outputs": [
    {
     "data": {
      "text/plain": [
       "[0, 2, 4, 6, 8, 10, 12, 14, 16, 18, 20, 22, 24, 26, 28]"
      ]
     },
     "execution_count": 79,
     "metadata": {},
     "output_type": "execute_result"
    }
   ],
   "source": [
    "list(range(0,len(a),2))"
   ]
  },
  {
   "cell_type": "code",
   "execution_count": 86,
   "id": "b25f0e86-83be-4fd5-9240-0adb86757b06",
   "metadata": {},
   "outputs": [
    {
     "name": "stdout",
     "output_type": "stream",
     "text": [
      "l i f\n"
     ]
    }
   ],
   "source": [
    "print(a[2], a[3], a[4]) "
   ]
  },
  {
   "cell_type": "code",
   "execution_count": 88,
   "id": "7ee98c03-54a5-4bbd-ad62-c574c1d22c5b",
   "metadata": {},
   "outputs": [
    {
     "data": {
      "text/plain": [
       "29"
      ]
     },
     "execution_count": 88,
     "metadata": {},
     "output_type": "execute_result"
    }
   ],
   "source": [
    "len(a)"
   ]
  },
  {
   "cell_type": "code",
   "execution_count": 81,
   "id": "544b7ba9-d5f4-4c48-9b4f-0124b00df40f",
   "metadata": {},
   "outputs": [
    {
     "name": "stdout",
     "output_type": "stream",
     "text": [
      "c\n",
      "l\n",
      "f\n",
      "a\n",
      "i\n",
      "i\n",
      "t\n",
      "c\n",
      "x\n",
      "i\n",
      "l\n",
      "d\n",
      "c\n",
      "o\n",
      "s\n"
     ]
    }
   ],
   "source": [
    "for i in range(0,len(a),2):\n",
    "    print(a[i]) "
   ]
  },
  {
   "cell_type": "code",
   "execution_count": 87,
   "id": "9993fa01-1cf1-4569-96c6-74d01675115c",
   "metadata": {},
   "outputs": [
    {
     "data": {
      "text/plain": [
       "[1, 2, 3, 4, 5, 6, 7, 8, 9, 10]"
      ]
     },
     "execution_count": 87,
     "metadata": {},
     "output_type": "execute_result"
    }
   ],
   "source": [
    "list(range(1,11))"
   ]
  },
  {
   "cell_type": "code",
   "execution_count": 82,
   "id": "cf04b5eb-3db7-4618-b6b7-5a299115de5d",
   "metadata": {
    "tags": []
   },
   "outputs": [
    {
     "name": "stdout",
     "output_type": "stream",
     "text": [
      "Number and its square: 1 1\n",
      "Number and its square: 2 4\n",
      "Number and its square: 3 9\n",
      "Number and its square: 4 16\n",
      "Number and its square: 5 25\n",
      "Number and its square: 6 36\n",
      "Number and its square: 7 49\n",
      "Number and its square: 8 64\n",
      "Number and its square: 9 81\n",
      "Number and its square: 10 100\n"
     ]
    }
   ],
   "source": [
    "for number in range(1, 11):\n",
    "    square = number**2\n",
    "    \n",
    "    print('Number and its square:', number, square)"
   ]
  },
  {
   "cell_type": "markdown",
   "id": "8d6a40bf-cbb7-4733-aa14-f1fa52ecbf8f",
   "metadata": {},
   "source": [
    "# List comprehension"
   ]
  },
  {
   "cell_type": "code",
   "execution_count": 83,
   "id": "d627bbec-c9da-4290-8309-a8865eccd248",
   "metadata": {},
   "outputs": [
    {
     "name": "stdout",
     "output_type": "stream",
     "text": [
      "Chase\n",
      "Dave\n",
      "Sarah\n",
      "Spencer\n"
     ]
    }
   ],
   "source": [
    "namelist = ['Chase', 'Dave', 'Sarah', 'Spencer']\n",
    "\n",
    "for item in namelist:\n",
    "    \n",
    "    print(item)"
   ]
  },
  {
   "cell_type": "code",
   "execution_count": 89,
   "id": "4f0230d2-5057-42b7-8aa1-14aaa8161de6",
   "metadata": {},
   "outputs": [
    {
     "data": {
      "text/plain": [
       "['Chase', 'Dave', 'Sarah', 'Spencer']"
      ]
     },
     "execution_count": 89,
     "metadata": {},
     "output_type": "execute_result"
    }
   ],
   "source": [
    "[item for item in namelist]"
   ]
  },
  {
   "cell_type": "code",
   "execution_count": 90,
   "id": "35026052-879b-41cd-97e3-d1d7322051a3",
   "metadata": {},
   "outputs": [
    {
     "data": {
      "text/plain": [
       "[1, 3]"
      ]
     },
     "execution_count": 90,
     "metadata": {},
     "output_type": "execute_result"
    }
   ],
   "source": [
    "list(range(1,len(namelist),2))"
   ]
  },
  {
   "cell_type": "code",
   "execution_count": 91,
   "id": "d4367515-4dc7-4057-abad-8830bafde338",
   "metadata": {},
   "outputs": [
    {
     "data": {
      "text/plain": [
       "['Dave', 'Spencer']"
      ]
     },
     "execution_count": 91,
     "metadata": {},
     "output_type": "execute_result"
    }
   ],
   "source": [
    "# we can also easily just make a list here of every second name\n",
    "\n",
    "[namelist[i] for i in list(range(1,len(namelist),2))]\n"
   ]
  },
  {
   "cell_type": "code",
   "execution_count": 92,
   "id": "9e1cf41f-06b3-4149-ad79-2194598e467b",
   "metadata": {},
   "outputs": [
    {
     "name": "stdout",
     "output_type": "stream",
     "text": [
      "['APPLE', 'BANANA', 'CLEMENTINE']\n"
     ]
    }
   ],
   "source": [
    "fruit = ['apple', 'banana', 'clementine'] \n",
    "\n",
    "FRUIT = [item.upper() for item in fruit] \n",
    "\n",
    "print(FRUIT)"
   ]
  },
  {
   "cell_type": "code",
   "execution_count": 93,
   "id": "cc0735d9-efbd-4a32-babc-5f53f41de1f7",
   "metadata": {},
   "outputs": [
    {
     "data": {
      "text/plain": [
       "[7, 5, 14]"
      ]
     },
     "execution_count": 93,
     "metadata": {},
     "output_type": "execute_result"
    }
   ],
   "source": [
    "numbering=[ 0,4,7,5,2,1,14]\n",
    "\n",
    "[number for number in numbering if number>=5]"
   ]
  },
  {
   "cell_type": "code",
   "execution_count": 94,
   "id": "3d657893-f0d5-468b-8c9f-1ea6b0d649b0",
   "metadata": {},
   "outputs": [
    {
     "data": {
      "text/plain": [
       "[2, 4, 6, 8, 10, 12]"
      ]
     },
     "execution_count": 94,
     "metadata": {},
     "output_type": "execute_result"
    }
   ],
   "source": [
    "#Get me a list with every positive even number from 1 to 13\n",
    "\n",
    "[number for number in list(range(0,14,2))if number>0]\n"
   ]
  },
  {
   "cell_type": "code",
   "execution_count": 95,
   "id": "cd0dce82-74d8-45a9-af7c-021b67d78b90",
   "metadata": {},
   "outputs": [
    {
     "data": {
      "text/plain": [
       "[2, 4, 6, 8, 10, 12]"
      ]
     },
     "execution_count": 95,
     "metadata": {},
     "output_type": "execute_result"
    }
   ],
   "source": [
    "[number for number in list(range(2,14,2))]"
   ]
  },
  {
   "cell_type": "markdown",
   "id": "54087a5f-fa87-4ab4-bc80-f0f6b6b1ef06",
   "metadata": {},
   "source": [
    "# FUNCTIONS!"
   ]
  },
  {
   "cell_type": "code",
   "execution_count": 96,
   "id": "fa2d6bcd-7bdf-400c-9bb2-d3d23676b475",
   "metadata": {},
   "outputs": [],
   "source": [
    "def sum(x,y):\n",
    "    return x+y"
   ]
  },
  {
   "cell_type": "code",
   "execution_count": 98,
   "id": "f159333c-b3cd-49ac-a33e-18702eafa134",
   "metadata": {},
   "outputs": [
    {
     "data": {
      "text/plain": [
       "10"
      ]
     },
     "execution_count": 98,
     "metadata": {},
     "output_type": "execute_result"
    }
   ],
   "source": [
    "sum(x=3,y=7)"
   ]
  },
  {
   "cell_type": "code",
   "execution_count": 99,
   "id": "9749d3bf-4023-47d8-b040-f2efc507b24c",
   "metadata": {},
   "outputs": [],
   "source": [
    "#Returns with tuples!\n",
    "\n",
    "def squareme(number):\n",
    "    \n",
    "    return number**2, number   "
   ]
  },
  {
   "cell_type": "code",
   "execution_count": 100,
   "id": "06541947-4fe2-4b6e-accd-23803ed91b32",
   "metadata": {},
   "outputs": [
    {
     "data": {
      "text/plain": [
       "(25, 5)"
      ]
     },
     "execution_count": 100,
     "metadata": {},
     "output_type": "execute_result"
    }
   ],
   "source": [
    "squareme(5)"
   ]
  },
  {
   "cell_type": "code",
   "execution_count": 101,
   "id": "13d5548b-a65c-4572-8ed3-8388bcecb1bf",
   "metadata": {},
   "outputs": [],
   "source": [
    "#can save those tuple elements\n",
    "\n",
    "n,m=squareme(3)"
   ]
  },
  {
   "cell_type": "code",
   "execution_count": 102,
   "id": "3bc40958-646d-4077-a718-89e6e39d7029",
   "metadata": {},
   "outputs": [
    {
     "data": {
      "text/plain": [
       "9"
      ]
     },
     "execution_count": 102,
     "metadata": {},
     "output_type": "execute_result"
    }
   ],
   "source": [
    "n"
   ]
  },
  {
   "cell_type": "code",
   "execution_count": 103,
   "id": "5c523bfe-8184-4f23-9c6e-cfaa9b2f5510",
   "metadata": {},
   "outputs": [
    {
     "data": {
      "text/plain": [
       "3"
      ]
     },
     "execution_count": 103,
     "metadata": {},
     "output_type": "execute_result"
    }
   ],
   "source": [
    "m"
   ]
  },
  {
   "cell_type": "code",
   "execution_count": 104,
   "id": "5d40cd87-3366-4b8c-8754-e5be51d68dc1",
   "metadata": {},
   "outputs": [],
   "source": [
    "# Any operation you have learned works inside these functions\n",
    "#make one that takes a first name and a last name and gives us the full name\n",
    "\n",
    "\n",
    "def fullname(first, last):\n",
    "    full=first+\" \"+last\n",
    "    return full"
   ]
  },
  {
   "cell_type": "code",
   "execution_count": 106,
   "id": "989826d6-9cad-4f0d-868e-3edc28583835",
   "metadata": {},
   "outputs": [
    {
     "ename": "TypeError",
     "evalue": "unsupported operand type(s) for +: 'int' and 'str'",
     "output_type": "error",
     "traceback": [
      "\u001b[0;31m---------------------------------------------------------------------------\u001b[0m",
      "\u001b[0;31mTypeError\u001b[0m                                 Traceback (most recent call last)",
      "\u001b[0;32m<ipython-input-106-4b2a46bd065f>\u001b[0m in \u001b[0;36m<module>\u001b[0;34m\u001b[0m\n\u001b[0;32m----> 1\u001b[0;31m \u001b[0mfullname\u001b[0m\u001b[0;34m(\u001b[0m\u001b[0mfirst\u001b[0m\u001b[0;34m=\u001b[0m\u001b[0;36m1\u001b[0m\u001b[0;34m,\u001b[0m \u001b[0mlast\u001b[0m\u001b[0;34m=\u001b[0m\u001b[0;34m'Crespo'\u001b[0m\u001b[0;34m)\u001b[0m\u001b[0;34m\u001b[0m\u001b[0;34m\u001b[0m\u001b[0m\n\u001b[0m",
      "\u001b[0;32m<ipython-input-104-f8a6df566413>\u001b[0m in \u001b[0;36mfullname\u001b[0;34m(first, last)\u001b[0m\n\u001b[1;32m      4\u001b[0m \u001b[0;34m\u001b[0m\u001b[0m\n\u001b[1;32m      5\u001b[0m \u001b[0;32mdef\u001b[0m \u001b[0mfullname\u001b[0m\u001b[0;34m(\u001b[0m\u001b[0mfirst\u001b[0m\u001b[0;34m,\u001b[0m \u001b[0mlast\u001b[0m\u001b[0;34m)\u001b[0m\u001b[0;34m:\u001b[0m\u001b[0;34m\u001b[0m\u001b[0;34m\u001b[0m\u001b[0m\n\u001b[0;32m----> 6\u001b[0;31m     \u001b[0mfull\u001b[0m\u001b[0;34m=\u001b[0m\u001b[0mfirst\u001b[0m\u001b[0;34m+\u001b[0m\u001b[0;34m\" \"\u001b[0m\u001b[0;34m+\u001b[0m\u001b[0mlast\u001b[0m\u001b[0;34m\u001b[0m\u001b[0;34m\u001b[0m\u001b[0m\n\u001b[0m\u001b[1;32m      7\u001b[0m     \u001b[0;32mreturn\u001b[0m \u001b[0mfull\u001b[0m\u001b[0;34m\u001b[0m\u001b[0;34m\u001b[0m\u001b[0m\n",
      "\u001b[0;31mTypeError\u001b[0m: unsupported operand type(s) for +: 'int' and 'str'"
     ]
    }
   ],
   "source": [
    "fullname(first=1, last='Crespo')"
   ]
  },
  {
   "cell_type": "code",
   "execution_count": 107,
   "id": "ee8a8c67-c519-4e0c-bdc8-495a27f6a9fd",
   "metadata": {},
   "outputs": [
    {
     "ename": "TypeError",
     "evalue": "unsupported operand type(s) for +: 'int' and 'str'",
     "output_type": "error",
     "traceback": [
      "\u001b[0;31m---------------------------------------------------------------------------\u001b[0m",
      "\u001b[0;31mTypeError\u001b[0m                                 Traceback (most recent call last)",
      "\u001b[0;32m<ipython-input-107-2fa068afcdc6>\u001b[0m in \u001b[0;36m<module>\u001b[0;34m\u001b[0m\n\u001b[1;32m      1\u001b[0m \u001b[0;31m#if I try with numbers\u001b[0m\u001b[0;34m\u001b[0m\u001b[0;34m\u001b[0m\u001b[0;34m\u001b[0m\u001b[0m\n\u001b[1;32m      2\u001b[0m \u001b[0;34m\u001b[0m\u001b[0m\n\u001b[0;32m----> 3\u001b[0;31m \u001b[0mfullname\u001b[0m\u001b[0;34m(\u001b[0m\u001b[0;36m3\u001b[0m\u001b[0;34m,\u001b[0m\u001b[0;36m2\u001b[0m\u001b[0;34m)\u001b[0m\u001b[0;34m\u001b[0m\u001b[0;34m\u001b[0m\u001b[0m\n\u001b[0m",
      "\u001b[0;32m<ipython-input-104-f8a6df566413>\u001b[0m in \u001b[0;36mfullname\u001b[0;34m(first, last)\u001b[0m\n\u001b[1;32m      4\u001b[0m \u001b[0;34m\u001b[0m\u001b[0m\n\u001b[1;32m      5\u001b[0m \u001b[0;32mdef\u001b[0m \u001b[0mfullname\u001b[0m\u001b[0;34m(\u001b[0m\u001b[0mfirst\u001b[0m\u001b[0;34m,\u001b[0m \u001b[0mlast\u001b[0m\u001b[0;34m)\u001b[0m\u001b[0;34m:\u001b[0m\u001b[0;34m\u001b[0m\u001b[0;34m\u001b[0m\u001b[0m\n\u001b[0;32m----> 6\u001b[0;31m     \u001b[0mfull\u001b[0m\u001b[0;34m=\u001b[0m\u001b[0mfirst\u001b[0m\u001b[0;34m+\u001b[0m\u001b[0;34m\" \"\u001b[0m\u001b[0;34m+\u001b[0m\u001b[0mlast\u001b[0m\u001b[0;34m\u001b[0m\u001b[0;34m\u001b[0m\u001b[0m\n\u001b[0m\u001b[1;32m      7\u001b[0m     \u001b[0;32mreturn\u001b[0m \u001b[0mfull\u001b[0m\u001b[0;34m\u001b[0m\u001b[0;34m\u001b[0m\u001b[0m\n",
      "\u001b[0;31mTypeError\u001b[0m: unsupported operand type(s) for +: 'int' and 'str'"
     ]
    }
   ],
   "source": [
    "#if I try with numbers\n",
    "\n",
    "fullname(3,2)"
   ]
  },
  {
   "cell_type": "markdown",
   "id": "f8e54dc2-bc85-44f4-ade7-5ea01e1d800b",
   "metadata": {},
   "source": [
    "- **Exercise.** Use the function above and write a program so that last letter of each item in the list names = ['Chase', Dave', 'Sarah', 'Spencer'] is printed"
   ]
  },
  {
   "cell_type": "code",
   "execution_count": 108,
   "id": "8cd5e110-ce1f-4bf5-895f-491d6abd36ee",
   "metadata": {},
   "outputs": [],
   "source": [
    "def lastlet(list1):\n",
    "    reslist=[name[len(name)-1] for name in list1]\n",
    "    return reslist"
   ]
  },
  {
   "cell_type": "code",
   "execution_count": 109,
   "id": "2f81ca09-255a-462c-a36c-8effc701a896",
   "metadata": {},
   "outputs": [
    {
     "data": {
      "text/plain": [
       "['e', 'e', 'h', 'r']"
      ]
     },
     "execution_count": 109,
     "metadata": {},
     "output_type": "execute_result"
    }
   ],
   "source": [
    "names=['Chase', 'Dave', 'Sarah', 'Spencer']\n",
    "\n",
    "lastlet(names)\n",
    "\n"
   ]
  },
  {
   "cell_type": "markdown",
   "id": "f9dfa87a-8053-495d-96d0-45f2e8e96edc",
   "metadata": {},
   "source": [
    "# Objects"
   ]
  },
  {
   "cell_type": "markdown",
   "id": "3f06dfba-a089-4902-ac39-415834190d3f",
   "metadata": {},
   "source": [
    "\n",
    "Functions, methods, and attributes differ primarily in their syntax:\n",
    "\n",
    "* Syntax of a **function**: `function(object)`\n",
    "* Syntax of a **method**: `object.method()`\n",
    "* Syntax of a **attribute**: `object.attribute`\n"
   ]
  },
  {
   "cell_type": "code",
   "execution_count": 110,
   "id": "ba641904-a711-416a-a68c-7eac92e710d5",
   "metadata": {},
   "outputs": [],
   "source": [
    "numberlist=[3,5,7,8,9,11]"
   ]
  },
  {
   "cell_type": "code",
   "execution_count": 111,
   "id": "895ffe8b-d43e-4215-9c2e-53e8956127a8",
   "metadata": {},
   "outputs": [],
   "source": [
    "numberlist.append(357)\n"
   ]
  },
  {
   "cell_type": "code",
   "execution_count": 112,
   "id": "7cc672c3-2c4e-4982-9fce-603187ba2d21",
   "metadata": {},
   "outputs": [
    {
     "data": {
      "text/plain": [
       "[3, 5, 7, 8, 9, 11, 357]"
      ]
     },
     "execution_count": 112,
     "metadata": {},
     "output_type": "execute_result"
    }
   ],
   "source": [
    "numberlist"
   ]
  },
  {
   "cell_type": "code",
   "execution_count": 113,
   "id": "8f9af725-2a54-4148-ad65-c9e9f6233f7d",
   "metadata": {},
   "outputs": [],
   "source": [
    "stagename = \"Chase\""
   ]
  },
  {
   "cell_type": "code",
   "execution_count": 114,
   "id": "997aaf59-d4cc-41ff-91e0-9b309114c8c8",
   "metadata": {},
   "outputs": [
    {
     "data": {
      "text/plain": [
       "'chase'"
      ]
     },
     "execution_count": 114,
     "metadata": {},
     "output_type": "execute_result"
    }
   ],
   "source": [
    "stagename.lower()"
   ]
  },
  {
   "cell_type": "code",
   "execution_count": 116,
   "id": "2d596ce6-db9c-4b0a-945b-9d6ae86c9098",
   "metadata": {},
   "outputs": [],
   "source": [
    "x = \"How many characters and words are in this string?\""
   ]
  },
  {
   "cell_type": "code",
   "execution_count": 117,
   "id": "94513173-5989-4a70-8a14-29d55b065158",
   "metadata": {},
   "outputs": [
    {
     "data": {
      "text/plain": [
       "['How', 'many', 'characters', 'and', 'words', 'are', 'in', 'this', 'string?']"
      ]
     },
     "execution_count": 117,
     "metadata": {},
     "output_type": "execute_result"
    }
   ],
   "source": [
    "x.rsplit()"
   ]
  },
  {
   "cell_type": "code",
   "execution_count": null,
   "id": "df47a386-778b-45b6-b6cd-37d8afbdc304",
   "metadata": {},
   "outputs": [],
   "source": []
  }
 ],
 "metadata": {
  "kernelspec": {
   "display_name": "Python 3",
   "language": "python",
   "name": "python3"
  },
  "language_info": {
   "codemirror_mode": {
    "name": "ipython",
    "version": 3
   },
   "file_extension": ".py",
   "mimetype": "text/x-python",
   "name": "python",
   "nbconvert_exporter": "python",
   "pygments_lexer": "ipython3",
   "version": "3.8.8"
  }
 },
 "nbformat": 4,
 "nbformat_minor": 5
}
