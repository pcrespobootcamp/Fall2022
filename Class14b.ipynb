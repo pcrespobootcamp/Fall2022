{
 "cells": [
  {
   "cell_type": "markdown",
   "id": "14df278f-8dde-454e-b406-461aeb811f02",
   "metadata": {},
   "source": [
    "# ROC-AUC made simpler\n"
   ]
  },
  {
   "cell_type": "code",
   "execution_count": 13,
   "id": "b3a59475-8bd0-42d0-b4be-c1e1fb3952d6",
   "metadata": {},
   "outputs": [],
   "source": [
    "import pandas as pd\n",
    "import numpy as np\n",
    "from plotnine import *\n",
    "from sklearn.metrics import accuracy_score, confusion_matrix, roc_auc_score, roc_curve\n",
    "from sklearn.model_selection import train_test_split\n",
    "from sklearn.ensemble import RandomForestClassifier \n",
    "from sklearn.model_selection import cross_val_score"
   ]
  },
  {
   "cell_type": "markdown",
   "id": "3c582bfd-63fd-4d89-911d-56b257748e98",
   "metadata": {},
   "source": [
    "We will try to plot the ROC curve and calculate the AUC quickly in this book. You can use this code for your assigments as the code examples will be simpler.\n"
   ]
  },
  {
   "cell_type": "code",
   "execution_count": 2,
   "id": "9857eac0-ae09-4459-8269-2b7c637c1859",
   "metadata": {},
   "outputs": [],
   "source": [
    "csv_url = 'https://raw.githubusercontent.com/Statology/Python-Guides/main/default.csv'\n",
    "\n",
    "\n",
    "default=pd.read_csv(csv_url)"
   ]
  },
  {
   "cell_type": "code",
   "execution_count": 3,
   "id": "a1c0e6c7-284e-433e-86c2-f9a447e49980",
   "metadata": {},
   "outputs": [
    {
     "data": {
      "text/html": [
       "<div>\n",
       "<style scoped>\n",
       "    .dataframe tbody tr th:only-of-type {\n",
       "        vertical-align: middle;\n",
       "    }\n",
       "\n",
       "    .dataframe tbody tr th {\n",
       "        vertical-align: top;\n",
       "    }\n",
       "\n",
       "    .dataframe thead th {\n",
       "        text-align: right;\n",
       "    }\n",
       "</style>\n",
       "<table border=\"1\" class=\"dataframe\">\n",
       "  <thead>\n",
       "    <tr style=\"text-align: right;\">\n",
       "      <th></th>\n",
       "      <th>default</th>\n",
       "      <th>student</th>\n",
       "      <th>balance</th>\n",
       "      <th>income</th>\n",
       "    </tr>\n",
       "  </thead>\n",
       "  <tbody>\n",
       "    <tr>\n",
       "      <th>0</th>\n",
       "      <td>0</td>\n",
       "      <td>0</td>\n",
       "      <td>729.526495</td>\n",
       "      <td>44361.625074</td>\n",
       "    </tr>\n",
       "    <tr>\n",
       "      <th>1</th>\n",
       "      <td>0</td>\n",
       "      <td>1</td>\n",
       "      <td>817.180407</td>\n",
       "      <td>12106.134700</td>\n",
       "    </tr>\n",
       "    <tr>\n",
       "      <th>2</th>\n",
       "      <td>0</td>\n",
       "      <td>0</td>\n",
       "      <td>1073.549164</td>\n",
       "      <td>31767.138947</td>\n",
       "    </tr>\n",
       "    <tr>\n",
       "      <th>3</th>\n",
       "      <td>0</td>\n",
       "      <td>0</td>\n",
       "      <td>529.250605</td>\n",
       "      <td>35704.493935</td>\n",
       "    </tr>\n",
       "    <tr>\n",
       "      <th>4</th>\n",
       "      <td>0</td>\n",
       "      <td>0</td>\n",
       "      <td>785.655883</td>\n",
       "      <td>38463.495879</td>\n",
       "    </tr>\n",
       "  </tbody>\n",
       "</table>\n",
       "</div>"
      ],
      "text/plain": [
       "   default  student      balance        income\n",
       "0        0        0   729.526495  44361.625074\n",
       "1        0        1   817.180407  12106.134700\n",
       "2        0        0  1073.549164  31767.138947\n",
       "3        0        0   529.250605  35704.493935\n",
       "4        0        0   785.655883  38463.495879"
      ]
     },
     "execution_count": 3,
     "metadata": {},
     "output_type": "execute_result"
    }
   ],
   "source": [
    "default.head()"
   ]
  },
  {
   "cell_type": "code",
   "execution_count": 4,
   "id": "47ab36ae-5382-4e01-9016-dc6aa1f05c22",
   "metadata": {},
   "outputs": [],
   "source": [
    "X=default[['student', 'balance', 'income']]\n",
    "y=default['default']"
   ]
  },
  {
   "cell_type": "markdown",
   "id": "a84e06db-ed11-4880-b0c1-8402fcda9a44",
   "metadata": {},
   "source": [
    "Let's do a train test split"
   ]
  },
  {
   "cell_type": "code",
   "execution_count": 5,
   "id": "c88218a0-66b2-4bf0-a7ce-dc69ced64991",
   "metadata": {},
   "outputs": [],
   "source": [
    "X_train,X_test,y_train,y_test = train_test_split(X,y, test_size=0.2, random_state=0)\n"
   ]
  },
  {
   "cell_type": "code",
   "execution_count": 6,
   "id": "fceaf5d7-5f73-4b2f-a38a-b173fc03742e",
   "metadata": {},
   "outputs": [],
   "source": [
    "rf_clf=RandomForestClassifier()\n",
    "y_score = rf_clf.fit(X_train, y_train).predict_proba(X_test)\n"
   ]
  },
  {
   "cell_type": "code",
   "execution_count": 7,
   "id": "bb283d94-0bd8-4dba-92a9-2a087ef828f2",
   "metadata": {},
   "outputs": [
    {
     "data": {
      "text/plain": [
       "array([[1.  , 0.  ],\n",
       "       [1.  , 0.  ],\n",
       "       [1.  , 0.  ],\n",
       "       ...,\n",
       "       [0.73, 0.27],\n",
       "       [1.  , 0.  ],\n",
       "       [1.  , 0.  ]])"
      ]
     },
     "execution_count": 7,
     "metadata": {},
     "output_type": "execute_result"
    }
   ],
   "source": [
    "y_score\n"
   ]
  },
  {
   "cell_type": "markdown",
   "id": "0ac8614d-acbf-47c8-9f33-e179abdde135",
   "metadata": {},
   "source": [
    "Let's say we only care about the probabilities of going into default. Ergo when the column default is 1. So let's just select that as our prediction probability."
   ]
  },
  {
   "cell_type": "code",
   "execution_count": 8,
   "id": "6097c86f-9e01-48c6-9a50-27be83ca48d2",
   "metadata": {},
   "outputs": [],
   "source": [
    "y_proba=y_score[:,1]"
   ]
  },
  {
   "cell_type": "code",
   "execution_count": 9,
   "id": "763d3788-6342-4145-9256-04a2d9e11d02",
   "metadata": {},
   "outputs": [],
   "source": [
    "#get the false positive rate, true positive rate, and threshold\n",
    "fpr, tpr , threshold= roc_curve(y_test,  y_proba)\n",
    "\n",
    "#get the auc score\n",
    "auc=roc_auc_score(y_test, y_proba)\n"
   ]
  },
  {
   "cell_type": "code",
   "execution_count": 10,
   "id": "e475c0c1-3094-4e78-b889-132269c3c952",
   "metadata": {},
   "outputs": [
    {
     "data": {
      "text/html": [
       "<div>\n",
       "<style scoped>\n",
       "    .dataframe tbody tr th:only-of-type {\n",
       "        vertical-align: middle;\n",
       "    }\n",
       "\n",
       "    .dataframe tbody tr th {\n",
       "        vertical-align: top;\n",
       "    }\n",
       "\n",
       "    .dataframe thead th {\n",
       "        text-align: right;\n",
       "    }\n",
       "</style>\n",
       "<table border=\"1\" class=\"dataframe\">\n",
       "  <thead>\n",
       "    <tr style=\"text-align: right;\">\n",
       "      <th></th>\n",
       "      <th>fpr</th>\n",
       "      <th>tpr</th>\n",
       "      <th>threshold</th>\n",
       "    </tr>\n",
       "  </thead>\n",
       "  <tbody>\n",
       "    <tr>\n",
       "      <th>0</th>\n",
       "      <td>0.000000</td>\n",
       "      <td>0.000000</td>\n",
       "      <td>1.99</td>\n",
       "    </tr>\n",
       "    <tr>\n",
       "      <th>1</th>\n",
       "      <td>0.000519</td>\n",
       "      <td>0.000000</td>\n",
       "      <td>0.99</td>\n",
       "    </tr>\n",
       "    <tr>\n",
       "      <th>2</th>\n",
       "      <td>0.000519</td>\n",
       "      <td>0.027027</td>\n",
       "      <td>0.96</td>\n",
       "    </tr>\n",
       "    <tr>\n",
       "      <th>3</th>\n",
       "      <td>0.000519</td>\n",
       "      <td>0.054054</td>\n",
       "      <td>0.95</td>\n",
       "    </tr>\n",
       "    <tr>\n",
       "      <th>4</th>\n",
       "      <td>0.000519</td>\n",
       "      <td>0.067568</td>\n",
       "      <td>0.93</td>\n",
       "    </tr>\n",
       "    <tr>\n",
       "      <th>...</th>\n",
       "      <td>...</td>\n",
       "      <td>...</td>\n",
       "      <td>...</td>\n",
       "    </tr>\n",
       "    <tr>\n",
       "      <th>61</th>\n",
       "      <td>0.117861</td>\n",
       "      <td>0.783784</td>\n",
       "      <td>0.04</td>\n",
       "    </tr>\n",
       "    <tr>\n",
       "      <th>62</th>\n",
       "      <td>0.133437</td>\n",
       "      <td>0.797297</td>\n",
       "      <td>0.03</td>\n",
       "    </tr>\n",
       "    <tr>\n",
       "      <th>63</th>\n",
       "      <td>0.158359</td>\n",
       "      <td>0.824324</td>\n",
       "      <td>0.02</td>\n",
       "    </tr>\n",
       "    <tr>\n",
       "      <th>64</th>\n",
       "      <td>0.207684</td>\n",
       "      <td>0.864865</td>\n",
       "      <td>0.01</td>\n",
       "    </tr>\n",
       "    <tr>\n",
       "      <th>65</th>\n",
       "      <td>1.000000</td>\n",
       "      <td>1.000000</td>\n",
       "      <td>0.00</td>\n",
       "    </tr>\n",
       "  </tbody>\n",
       "</table>\n",
       "<p>66 rows × 3 columns</p>\n",
       "</div>"
      ],
      "text/plain": [
       "         fpr       tpr  threshold\n",
       "0   0.000000  0.000000       1.99\n",
       "1   0.000519  0.000000       0.99\n",
       "2   0.000519  0.027027       0.96\n",
       "3   0.000519  0.054054       0.95\n",
       "4   0.000519  0.067568       0.93\n",
       "..       ...       ...        ...\n",
       "61  0.117861  0.783784       0.04\n",
       "62  0.133437  0.797297       0.03\n",
       "63  0.158359  0.824324       0.02\n",
       "64  0.207684  0.864865       0.01\n",
       "65  1.000000  1.000000       0.00\n",
       "\n",
       "[66 rows x 3 columns]"
      ]
     },
     "execution_count": 10,
     "metadata": {},
     "output_type": "execute_result"
    }
   ],
   "source": [
    "#Put the results into a dataframe\n",
    "\n",
    "results=pd.DataFrame({'fpr':fpr,'tpr':tpr,\n",
    "                      'threshold':threshold})\n",
    "\n",
    "results"
   ]
  },
  {
   "cell_type": "code",
   "execution_count": 11,
   "id": "e8dd5392-fd92-47de-bdfb-6374008b2b72",
   "metadata": {},
   "outputs": [
    {
     "data": {
      "image/png": "[encoded data removed]",
      "text/plain": [
       "<Figure size 432x288 with 1 Axes>"
      ]
     },
     "metadata": {},
     "output_type": "display_data"
    },
    {
     "data": {
      "text/plain": [
       "<ggplot: (8774668806410)>"
      ]
     },
     "execution_count": 11,
     "metadata": {},
     "output_type": "execute_result"
    }
   ],
   "source": [
    "#Plot\n",
    "\n",
    "(ggplot(data=results, mapping=aes(x='fpr', y='tpr'))+\n",
    "geom_line(color='steelblue')+\n",
    "ggtitle(f'AUC={auc}')+\n",
    "geom_abline(linetype='dashed', color='darkorange')+\n",
    " ylab(\"True Positive Rate\")+\n",
    " xlab(\"False Positive Rate\")+\n",
    " theme_bw()\n",
    ")"
   ]
  },
  {
   "cell_type": "markdown",
   "id": "16939fd0-e395-4248-9478-d7dc37c6d099",
   "metadata": {},
   "source": [
    "We can try to combine this with K-fold cross validation to find the best model. Note that we can get the AUC like this:"
   ]
  },
  {
   "cell_type": "code",
   "execution_count": 14,
   "id": "337b9050-fa8e-4061-a6a9-0ee7841ceb0e",
   "metadata": {},
   "outputs": [
    {
     "data": {
      "text/plain": [
       "array([0.87366034, 0.88012363, 0.86513887, 0.8870289 , 0.88266248])"
      ]
     },
     "execution_count": 14,
     "metadata": {},
     "output_type": "execute_result"
    }
   ],
   "source": [
    "cross_val_score(rf_clf, X, y, scoring=\"roc_auc\", cv = 5)"
   ]
  },
  {
   "cell_type": "markdown",
   "id": "6900481a-3300-45d8-8a88-63a593425bfb",
   "metadata": {},
   "source": [
    "This is reminiscent of what we have done in the past! Let's do this for AUC only on the test set!"
   ]
  },
  {
   "cell_type": "code",
   "execution_count": 21,
   "id": "8f81ee0d-1e2f-4fed-83ff-1ec97f15063c",
   "metadata": {},
   "outputs": [],
   "source": [
    "scoresrf=[cross_val_score(RandomForestClassifier(n_estimators=100,\n",
    "                                 max_depth=i),X,y,\n",
    "                          scoring=\"roc_auc\",\n",
    "                          cv=5).mean() for i in list(range(1,15))\n",
    "    ]"
   ]
  },
  {
   "cell_type": "code",
   "execution_count": 29,
   "id": "22d5935b-2d12-4a7e-9325-59a594ad0f70",
   "metadata": {},
   "outputs": [
    {
     "data": {
      "text/html": [
       "<div>\n",
       "<style scoped>\n",
       "    .dataframe tbody tr th:only-of-type {\n",
       "        vertical-align: middle;\n",
       "    }\n",
       "\n",
       "    .dataframe tbody tr th {\n",
       "        vertical-align: top;\n",
       "    }\n",
       "\n",
       "    .dataframe thead th {\n",
       "        text-align: right;\n",
       "    }\n",
       "</style>\n",
       "<table border=\"1\" class=\"dataframe\">\n",
       "  <thead>\n",
       "    <tr style=\"text-align: right;\">\n",
       "      <th></th>\n",
       "      <th>AUC</th>\n",
       "      <th>depth</th>\n",
       "    </tr>\n",
       "  </thead>\n",
       "  <tbody>\n",
       "    <tr>\n",
       "      <th>0</th>\n",
       "      <td>0.784243</td>\n",
       "      <td>1</td>\n",
       "    </tr>\n",
       "    <tr>\n",
       "      <th>1</th>\n",
       "      <td>0.873300</td>\n",
       "      <td>2</td>\n",
       "    </tr>\n",
       "    <tr>\n",
       "      <th>2</th>\n",
       "      <td>0.914929</td>\n",
       "      <td>3</td>\n",
       "    </tr>\n",
       "    <tr>\n",
       "      <th>3</th>\n",
       "      <td>0.928999</td>\n",
       "      <td>4</td>\n",
       "    </tr>\n",
       "    <tr>\n",
       "      <th>4</th>\n",
       "      <td>0.933365</td>\n",
       "      <td>5</td>\n",
       "    </tr>\n",
       "  </tbody>\n",
       "</table>\n",
       "</div>"
      ],
      "text/plain": [
       "        AUC  depth\n",
       "0  0.784243      1\n",
       "1  0.873300      2\n",
       "2  0.914929      3\n",
       "3  0.928999      4\n",
       "4  0.933365      5"
      ]
     },
     "execution_count": 29,
     "metadata": {},
     "output_type": "execute_result"
    }
   ],
   "source": [
    "#Let's save this in a dataframe\n",
    "\n",
    "rfdf=pd.DataFrame(scoresrf, columns=['AUC'])\n",
    "rfdf['depth']=range(1,15)\n",
    "rfdf.head()"
   ]
  },
  {
   "cell_type": "code",
   "execution_count": 33,
   "id": "419739a1-fd86-41f3-adc4-340bfabb843e",
   "metadata": {},
   "outputs": [
    {
     "data": {
      "image/png": "[encoded data removed]",
      "text/plain": [
       "<Figure size 640x480 with 1 Axes>"
      ]
     },
     "metadata": {},
     "output_type": "display_data"
    },
    {
     "data": {
      "text/plain": [
       "<ggplot: (8774660306571)>"
      ]
     },
     "execution_count": 33,
     "metadata": {},
     "output_type": "execute_result"
    }
   ],
   "source": [
    "#Let's plot this!\n",
    "\n",
    "(ggplot(data=rfdf, mapping=aes(x='depth', y='AUC'))+\n",
    "       geom_line(color='steelblue')+\n",
    " scale_x_continuous(breaks=np.arange(1,15, 1))+\n",
    " ggtitle('5-fold cross validation AUC scores')+\n",
    "theme_bw())"
   ]
  },
  {
   "cell_type": "code",
   "execution_count": 35,
   "id": "7b48cd0f-9cf8-4b4a-8177-a19efecf2037",
   "metadata": {},
   "outputs": [
    {
     "data": {
      "text/html": [
       "<div>\n",
       "<style scoped>\n",
       "    .dataframe tbody tr th:only-of-type {\n",
       "        vertical-align: middle;\n",
       "    }\n",
       "\n",
       "    .dataframe tbody tr th {\n",
       "        vertical-align: top;\n",
       "    }\n",
       "\n",
       "    .dataframe thead th {\n",
       "        text-align: right;\n",
       "    }\n",
       "</style>\n",
       "<table border=\"1\" class=\"dataframe\">\n",
       "  <thead>\n",
       "    <tr style=\"text-align: right;\">\n",
       "      <th></th>\n",
       "      <th>AUC</th>\n",
       "      <th>depth</th>\n",
       "    </tr>\n",
       "  </thead>\n",
       "  <tbody>\n",
       "    <tr>\n",
       "      <th>6</th>\n",
       "      <td>0.939916</td>\n",
       "      <td>7</td>\n",
       "    </tr>\n",
       "  </tbody>\n",
       "</table>\n",
       "</div>"
      ],
      "text/plain": [
       "        AUC  depth\n",
       "6  0.939916      7"
      ]
     },
     "execution_count": 35,
     "metadata": {},
     "output_type": "execute_result"
    }
   ],
   "source": [
    "#Let's find the optimal  depth\n",
    "rfdf.loc[rfdf['AUC']==rfdf['AUC'].max(),:]"
   ]
  },
  {
   "cell_type": "code",
   "execution_count": null,
   "id": "b0390426-509f-4a41-b88f-ba0367516715",
   "metadata": {},
   "outputs": [],
   "source": []
  }
 ],
 "metadata": {
  "kernelspec": {
   "display_name": "Python 3",
   "language": "python",
   "name": "python3"
  },
  "language_info": {
   "codemirror_mode": {
    "name": "ipython",
    "version": 3
   },
   "file_extension": ".py",
   "mimetype": "text/x-python",
   "name": "python",
   "nbconvert_exporter": "python",
   "pygments_lexer": "ipython3",
   "version": "3.8.8"
  }
 },
 "nbformat": 4,
 "nbformat_minor": 5
}
