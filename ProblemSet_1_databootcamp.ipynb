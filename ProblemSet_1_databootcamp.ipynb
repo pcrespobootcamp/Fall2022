{
 "cells": [
  {
   "cell_type": "markdown",
   "metadata": {},
   "source": [
    "## Data Bootcamp Assignment 1 Instructions:"
   ]
  },
  {
   "cell_type": "markdown",
   "metadata": {},
   "source": [
    "1. Submit your answers in a Jupyter notebook with proper markdown to indicate problem numbers and to write your answers. MAKE SURE TO PRINT ALL YOUR OUTPUTS FOR PROGRAMS THAT REQUIRE PYTHON CODES. Also, submit a pdf alongwith the notebook. Steps: Open File Menu -->  Download as --> HTML, Open the HTML File and Print it to save as a PDF.\n",
    "2. For problem numbers 2 to 10, the statements should be run as a block of code, and explained after running in entirety\n",
    "3. For problem numbers 14 to 20, all solutions must be programmatic. For example: when asked to count characters please apply a Python method to do so. Also, please make sure to print the output of your script. \n",
    "4. In-line comments are helpful but not mandatory\n",
    "5. Explanations are expected to be brief, between 1 and 3 sentences\n",
    "6. This assignment will require you to pair program. for this one pick a friend from the class to work together"
   ]
  },
  {
   "cell_type": "markdown",
   "metadata": {},
   "source": [
    "## Names: \n",
    "## NETIDs:"
   ]
  },
  {
   "cell_type": "markdown",
   "metadata": {},
   "source": [
    "## Problems:"
   ]
  },
  {
   "cell_type": "markdown",
   "metadata": {},
   "source": [
    "Problem 1. \n",
    "\n",
    "Describe what each of these expressions produces in basic Python. Explain the difference between very similar expressions, if any.\n",
    "a) 2+5 \n",
    "b) 2 + 5 \n",
    "c) 2*5 \n",
    "d) 2/5 \n",
    "e) 2**5\n"
   ]
  },
  {
   "cell_type": "markdown",
   "metadata": {},
   "source": [
    "Answer 1."
   ]
  },
  {
   "cell_type": "markdown",
   "metadata": {},
   "source": [
    "Problem 2. What is the value of x after running these statements in order? Why? \n",
    "1. x=7\n",
    "2. x=x+3"
   ]
  },
  {
   "cell_type": "markdown",
   "metadata": {},
   "source": [
    "Answer 2.\n",
    "\n"
   ]
  },
  {
   "cell_type": "markdown",
   "metadata": {},
   "source": [
    "Problem 3. What is the value of y after running these statements in order? Of x? Why?\n",
    "1. x=3 \n",
    "2. y=x\n",
    "3. x = 10"
   ]
  },
  {
   "cell_type": "markdown",
   "metadata": {},
   "source": [
    "Answer 3.\n",
    "\n"
   ]
  },
  {
   "cell_type": "markdown",
   "metadata": {},
   "source": [
    "Problem 4. Does this code run without error? If so, what does it produce? If not, explain why.\n",
    "\n",
    "x=3\n",
    "x=x/2\n",
    "y = 'abc'\n",
    "z=y+y\n",
    "print(x, z)"
   ]
  },
  {
   "cell_type": "markdown",
   "metadata": {},
   "source": [
    "Answer 4.\n",
    "\n"
   ]
  },
  {
   "cell_type": "markdown",
   "metadata": {},
   "source": [
    "5. Does this code run without error? If so, what does it produce? If not, explain why.\n",
    "\n",
    "x=3\n",
    "x=x/2\n",
    "y = 'abc'\n",
    "z=x+y\n",
    "print(x, z)"
   ]
  },
  {
   "cell_type": "markdown",
   "metadata": {},
   "source": [
    "Answer 5.\n",
    "\n"
   ]
  },
  {
   "cell_type": "markdown",
   "metadata": {},
   "source": [
    "6. Does this code run without error? If so, what does it produce? If not, explain why.\n",
    "\n",
    "x=3\n",
    "y = 24\n",
    "z = y/x\n",
    "print(x, y, z, sep=' | ')"
   ]
  },
  {
   "cell_type": "markdown",
   "metadata": {},
   "source": [
    "Answer 6.\n",
    "\n"
   ]
  },
  {
   "cell_type": "markdown",
   "metadata": {},
   "source": [
    "7. Does this code run without error? If so, what does it produce? If not, explain why.\n",
    "\n",
    "x=3\n",
    "y = '24'\n",
    "z = y/x\n",
    "print(x, z)"
   ]
  },
  {
   "cell_type": "markdown",
   "metadata": {},
   "source": [
    "Answer 7.\n",
    "\n"
   ]
  },
  {
   "cell_type": "markdown",
   "metadata": {},
   "source": [
    "8. Does this code run without error? If so, what does it produce? If not, explain why.\n",
    "\n",
    "x = \"I am a #string\" # Whoa, a string!"
   ]
  },
  {
   "cell_type": "markdown",
   "metadata": {},
   "source": [
    "Answer 8.\n",
    "\n"
   ]
  },
  {
   "cell_type": "markdown",
   "metadata": {},
   "source": [
    "9. Does this code run without error? If so, what does it produce? If not, explain why.\n",
    "\n",
    "x = [1, 2, 3]\n",
    "y = [42, 43]\n",
    "z= x + y\n",
    "print(z)"
   ]
  },
  {
   "cell_type": "markdown",
   "metadata": {},
   "source": [
    "Answer 9.\n",
    "\n"
   ]
  },
  {
   "cell_type": "markdown",
   "metadata": {},
   "source": [
    "10. Does this code run without error? If so, what does it produce? If not, explain why.\n",
    "\n",
    "x = [1, 2, 3]\n",
    "y = 42\n",
    "z=x+y"
   ]
  },
  {
   "cell_type": "markdown",
   "metadata": {},
   "source": [
    "Answer 10.\n",
    "\n"
   ]
  },
  {
   "cell_type": "markdown",
   "metadata": {},
   "source": [
    "11. What data types are the following? Use type() function.\n",
    "a) x1 = 12\n",
    "b) x2 = 12.0\n",
    "c) x3 = '12.0'\n",
    "d) x4 = [12]\n",
    "e) x5 = [12, 12.0, '12.0']"
   ]
  },
  {
   "cell_type": "markdown",
   "metadata": {},
   "source": [
    "Answer 11. (Feel free to add another cell for using the type function)\n",
    "\n"
   ]
  },
  {
   "cell_type": "markdown",
   "metadata": {},
   "source": [
    "12. Explain the result of each line:\n",
    "\n",
    "a) type(42)\n",
    "b) type(42.0)\n",
    "c) type('42.0')\n",
    "d) type(\"42.0\")\n",
    "e) type(\"\"\"42.0\"\"\")\n",
    "f) type([1, 2])\n",
    "g) type([1] + [2])\n",
    "h) type(1 + 2)\n",
    "i) type(print)\n",
    "j) type(float(str(int(‘1234’))))\n",
    "k) type(int(float(’12.34’)))\n",
    "l) len([1234])\n",
    "m) len(“1234”)\n",
    "n) len(1234)\n",
    "o) type(2>1)\n",
    "p) type(‘Itamar’ > ‘Chase’)"
   ]
  },
  {
   "cell_type": "markdown",
   "metadata": {},
   "source": [
    "Answer 12.\n",
    "\n",
    "\n"
   ]
  },
  {
   "cell_type": "markdown",
   "metadata": {},
   "source": [
    "13. What is the type and length of x=[]?"
   ]
  },
  {
   "cell_type": "markdown",
   "metadata": {},
   "source": [
    "Answer 13.\n"
   ]
  },
  {
   "cell_type": "markdown",
   "metadata": {},
   "source": [
    "14. Consider the integer x=1234\n",
    "a) Convert x to a floating-point number\n",
    "b) Convert x to a string\n",
    "c) Convert x to the list [‘1’, ‘2’, ‘3’, ‘4’]"
   ]
  },
  {
   "cell_type": "code",
   "execution_count": 3,
   "metadata": {},
   "outputs": [],
   "source": [
    "# Your code here (a)\n",
    "\n"
   ]
  },
  {
   "cell_type": "code",
   "execution_count": 4,
   "metadata": {},
   "outputs": [],
   "source": [
    "# Your code here (b)\n",
    "\n"
   ]
  },
  {
   "cell_type": "code",
   "execution_count": 5,
   "metadata": {},
   "outputs": [],
   "source": [
    "# Your code here (c)\n",
    "\n"
   ]
  },
  {
   "cell_type": "code",
   "execution_count": null,
   "metadata": {},
   "outputs": [],
   "source": [
    "# Question 15\n",
    "\n",
    "#15.1 extract (slice) the first element (the integer 1) from the list x below\n",
    "\n",
    "x = [1, 2, \"a\", 'b', \"fast\", 'slow', 3, \"Raghu\", 'Liuren', 10]"
   ]
  },
  {
   "cell_type": "code",
   "execution_count": null,
   "metadata": {},
   "outputs": [],
   "source": [
    "# Your answer here\n",
    "# Note: Assign your answer to the variable \"first_element\"\n",
    "\n",
    "first_element = \n",
    "print(first_element)"
   ]
  },
  {
   "cell_type": "code",
   "execution_count": null,
   "metadata": {},
   "outputs": [],
   "source": [
    "# Question 15.2\n",
    "\n",
    "# Extract (slice) the last element (the integer 10) from the list x below and \n",
    "# assign your answer to the variable \"last_element\"\n",
    "\n",
    "# Your answer here\n",
    "last_element = \n",
    "print(last_element)"
   ]
  },
  {
   "cell_type": "code",
   "execution_count": null,
   "metadata": {},
   "outputs": [],
   "source": [
    "# Question 15.3\n",
    "\n",
    "# Extract (slice) all the elements from the list x except the last element below and \n",
    "# assign your answer to the variable \"all_but_last\"\n",
    "\n",
    "# Your answer here\n",
    "all_but_last = \n",
    "print(all_but_last)"
   ]
  },
  {
   "cell_type": "code",
   "execution_count": null,
   "metadata": {},
   "outputs": [],
   "source": [
    "# Question 15.4\n",
    "#Slice out the items from ‘b’ to 3 inclusive and store in the variable 'slice_in_between'\n",
    "\n",
    "slice_in_between = \n",
    "print(slice_in_between)"
   ]
  },
  {
   "cell_type": "code",
   "execution_count": null,
   "metadata": {},
   "outputs": [],
   "source": [
    "# Question 15.5\n",
    "#Using the same list x, write a code that prints every element on a new line \n",
    "# Your code here \n"
   ]
  },
  {
   "cell_type": "code",
   "execution_count": null,
   "metadata": {},
   "outputs": [],
   "source": [
    "# Question 15.6\n",
    "# Using the same list x, write a loop that prints every element of type str\n",
    "# Your code here\n",
    "# Hint: You can check if the data-type of your output is string or not by using the type() function\n",
    "\n"
   ]
  },
  {
   "cell_type": "markdown",
   "metadata": {},
   "source": [
    "16. Consider x = ‘How many characters and words are in this string’. \n",
    "\n",
    "1. Write a code snippet to find how many characters does x contain?\n",
    "2. Convert x to a list of individual characters.\n",
    "3. Convert x to a list of individual words. Hint: use tab completion to find a method that splits x into pieces.\n",
    "4. Write a code snippet to find how many words does x contain?\n",
    "5. Capitalize first letter of each word in x? Hint: Use tab completion to find an appropriate method."
   ]
  },
  {
   "cell_type": "code",
   "execution_count": null,
   "metadata": {},
   "outputs": [],
   "source": [
    "#Your code here (16.1)\n",
    "\n"
   ]
  },
  {
   "cell_type": "code",
   "execution_count": 8,
   "metadata": {},
   "outputs": [],
   "source": [
    "#Your code here (16.2)\n",
    "\n"
   ]
  },
  {
   "cell_type": "code",
   "execution_count": 7,
   "metadata": {},
   "outputs": [],
   "source": [
    "#Your code here (16.3)\n",
    "\n"
   ]
  },
  {
   "cell_type": "code",
   "execution_count": 9,
   "metadata": {},
   "outputs": [],
   "source": [
    "#Your code here (16.4)\n",
    "\n"
   ]
  },
  {
   "cell_type": "code",
   "execution_count": null,
   "metadata": {},
   "outputs": [],
   "source": [
    "#Your code here (16.5)\n",
    "\n"
   ]
  },
  {
   "cell_type": "code",
   "execution_count": null,
   "metadata": {},
   "outputs": [],
   "source": []
  },
  {
   "cell_type": "code",
   "execution_count": 14,
   "metadata": {},
   "outputs": [],
   "source": [
    "# Question 17"
   ]
  },
  {
   "cell_type": "code",
   "execution_count": null,
   "metadata": {},
   "outputs": [],
   "source": [
    "# Define a function pocket_change() that takes four integers \n",
    "# as inputs (numbers of pennies, nickels, dimes and quarters in your pocket) \n",
    "# and returns a floating point number (their dollar value). Run your program with the input (1, 2, 3, 4) \n",
    "# and display the output. \n",
    "# Report the value with a dollar sign and as a string datatype and no space and round it to two decimals. \n",
    "\n",
    "def pocket_change():             # you will need to pass the parameters in the function in the same order as asked.\n",
    "    \n",
    "    "
   ]
  },
  {
   "cell_type": "code",
   "execution_count": 15,
   "metadata": {},
   "outputs": [],
   "source": [
    "#Question 18"
   ]
  },
  {
   "cell_type": "markdown",
   "metadata": {},
   "source": [
    "first = 'Wilhelmina' last = 'Grubbly-Plank' Take the ‘first’ and ‘last’ variables defined in the cell above \n",
    "and do the following with them:\n",
    "\n",
    "• Extract the first letter of ‘last’\n",
    "\n",
    "• Split ‘last’ into two components at the hyphen using an appropriate method\n",
    "\n",
    "• Define a new string variable named ‘combo’ which must be ‘first’ (the first name), a space, the first letter of ‘last’, and a period, in this order\n",
    "\n",
    "• Define a function that takes as inputs first and last names (both strings) and returns combination (also a string, consisting of the first name plus space and the first letter of the last name and a period). Test it with your own name and also the variables ‘first’ and ‘last’."
   ]
  },
  {
   "cell_type": "code",
   "execution_count": 16,
   "metadata": {},
   "outputs": [],
   "source": [
    "# Question 18.1\n",
    "# Split ‘last’ into two components at the hyphen using an appropriate method and print both the components\n",
    "# Your code here\n",
    "\n"
   ]
  },
  {
   "cell_type": "code",
   "execution_count": null,
   "metadata": {},
   "outputs": [],
   "source": [
    "# Question 18.2\n",
    "# Define a new string variable named ‘combo’ which must be \n",
    "#‘first’ (the first name), a space, the first letter of ‘last’, and a period, in this order\n",
    "\n",
    "#Your code here\n",
    "\n",
    "combo = "
   ]
  },
  {
   "cell_type": "markdown",
   "metadata": {},
   "source": [
    "• Define a function \"combo_name\" that takes as inputs first and last names (both strings) and returns combination (also a string, consisting of the first name plus space and the first letter of the last name and a period). Test it with your own name and also the variables ‘first’ and ‘last’."
   ]
  },
  {
   "cell_type": "code",
   "execution_count": 1,
   "metadata": {},
   "outputs": [],
   "source": [
    "def combo_name(first_name, last_name):\n",
    "    #Your code here\n",
    "    pass  #Remove pass while writing your code"
   ]
  },
  {
   "cell_type": "code",
   "execution_count": null,
   "metadata": {},
   "outputs": [],
   "source": [
    "combined_name = combo_name(\"Prasham\", \"Sheth\")\n",
    "print(combined_name)"
   ]
  },
  {
   "cell_type": "code",
   "execution_count": 18,
   "metadata": {},
   "outputs": [],
   "source": [
    "# Question 19\n",
    "# Write a loop that sums the integers from zero to thirty that are multiples of three: 3, 6, etc. and print the output\n",
    "\n",
    "#your code here\n",
    "\n",
    "\n",
    "\n",
    "\n"
   ]
  },
  {
   "cell_type": "markdown",
   "metadata": {},
   "source": [
    " Question 20\n",
    "\n",
    "Refer to the list of strings below called \"paren\":\n",
    "paren = ['When we went to town on Monday (it was so early!) everyone was falling asleep', 'It is obvious (so obvious) that I am going to get a good grade on this exam', 'As she sang her famous line (the one they wrote that article about) the crowd went wild']"
   ]
  },
  {
   "cell_type": "markdown",
   "metadata": {},
   "source": [
    "1.   Loop through each item of the list and, for each item, replace the parentheses with a dash (\"- \")\n",
    "     so that there is a space on either side of each dash. Print the new items.\n",
    "\n",
    "2.  For each item in the list, print the index of each of the parentheses. Hint: try running: str.find?\n",
    "\n",
    "3.\tCreate a function that removes all parenthesized content including the parentheses. This function should return a new string that has all the content in the old string except the parenthesized content.\n",
    "\n",
    "4.\tUsing function created in Part 3 above, create a new list that contains all the elements of the old list without parenthesized content (including parentheses)."
   ]
  },
  {
   "cell_type": "code",
   "execution_count": 3,
   "metadata": {},
   "outputs": [],
   "source": [
    "#Question 20.1\n",
    "\n",
    "#Your code here"
   ]
  },
  {
   "cell_type": "code",
   "execution_count": 4,
   "metadata": {},
   "outputs": [],
   "source": [
    "#Question 20.2\n",
    "\n",
    "#Your code here"
   ]
  },
  {
   "cell_type": "code",
   "execution_count": 6,
   "metadata": {},
   "outputs": [],
   "source": [
    "#Question 20.3\n",
    "\n",
    "#Your code here"
   ]
  },
  {
   "cell_type": "code",
   "execution_count": 5,
   "metadata": {},
   "outputs": [],
   "source": [
    "#Question 20.4\n",
    "\n",
    "#Your code here "
   ]
  },
  {
   "cell_type": "code",
   "execution_count": null,
   "metadata": {},
   "outputs": [],
   "source": []
  }
 ],
 "metadata": {
  "kernelspec": {
   "display_name": "Python 3",
   "language": "python",
   "name": "python3"
  },
  "language_info": {
   "codemirror_mode": {
    "name": "ipython",
    "version": 3
   },
   "file_extension": ".py",
   "mimetype": "text/x-python",
   "name": "python",
   "nbconvert_exporter": "python",
   "pygments_lexer": "ipython3",
   "version": "3.8.8"
  }
 },
 "nbformat": 4,
 "nbformat_minor": 4
}
