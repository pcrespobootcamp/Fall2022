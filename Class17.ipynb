{
 "cells": [
  {
   "cell_type": "code",
   "execution_count": 1,
   "id": "d7f86843-fc87-454d-a035-399040641eb4",
   "metadata": {},
   "outputs": [],
   "source": [
    "import pandas as pd\n",
    "import numpy as np\n",
    "import matplotlib.pyplot as plt\n",
    "%matplotlib inline\n",
    "import statsmodels.formula.api as smf\n",
    "from numpy import random\n",
    "\n",
    "from plotnine import *\n",
    "%matplotlib inline"
   ]
  },
  {
   "cell_type": "markdown",
   "id": "f6914dd1-9860-44d4-9232-157d97e4c894",
   "metadata": {},
   "source": [
    "# Causal Inference\n",
    "\n",
    "\n",
    "## Correlation does not imply causation\n",
    "\n",
    "\n",
    "![Correlation vs Causation](Corcaus.png)\n",
    "\n",
    "So far, we have been using data to do exploration and make predictions. This is a task that involves understanding correlation. If I observe event A happen every time B happens, then we know that when A happens, we can usually expect B.\n",
    "\n",
    "However, while correlation can help us predict events, A can't really necessary point us to the reason why B happens.\n",
    "\n",
    "For example, we know that a rooster singing early in the morning means the sun is about to come up. However, the rooster has no power over the rotation of Earth to cause the event. \n",
    "\n",
    "But how do we determine the causes with data?\n",
    "\n",
    "\n"
   ]
  },
  {
   "cell_type": "markdown",
   "id": "0b214a1a-bb15-4c92-964a-d8ec7b5def4d",
   "metadata": {},
   "source": [
    "## The fundamental problem of causal inference\n",
    "\n",
    "![Fork](https://images.pond5.com/fork-road-empty-arrow-sign-illustration-082185329_iconl_nowm.jpeg)\n",
    "\n",
    "How do we determine cause? \n",
    "\n",
    "\n",
    "We first define a measure of something that must be indicative of change if and only if changes in the presence of an event but would not do so otherwise. Then we say that the event caused the change. \n",
    "\n",
    "But can we ever really do this? We can only ever see one state of reality:\n",
    "\n",
    "1 One in which we have our object of interest experience the event\n",
    "\n",
    "2 One in which our object of interest does not experience the event\n",
    "\n",
    "\n",
    "We never observe both things simultaneously. Thus, it is hard for us to figure out if we found cause or simply correlation from observational data. Think about the rooster and the sun once more. This problem is called the 'fundamental problem of causal inference.'\n",
    "\n",
    "So what can we do?\n",
    "\n",
    "The answer is interesting as it relies on imagining that we can replicate individuals in a parallel universe. While this is not necessarily reasonable on an individual basis, perhaps it is very feasible in terms of groups.\n",
    "\n",
    "\n",
    "We can in the end think that we can select groups of individuals whose characteristics are very similar *in distribution*\n"
   ]
  },
  {
   "cell_type": "markdown",
   "id": "d87dee2d-f856-4698-96d0-b5d241e58979",
   "metadata": {},
   "source": [
    "## Potential outcomes \n",
    "\n",
    "Consider an outcome variable (the one that we use to determine if a change has happened) to be a continuous variable that we call $Y$. In the potential outcomes setting, we can use the following notation to denote an individual $i$ being exposed to an event as $Y_i^1$, and one individual $j$ who has not as $Y_j^0$.\n",
    "\n",
    "Furthermore we will call all individuals in $Y^1$ the 'treatment' group, and all the individuals in $Y^0$ the control group. \n",
    "\n",
    "We can express a treated individual $i$ as:\n",
    "\n",
    "\n",
    "$$Y_i^1=Y_i^0+\\delta$$\n",
    "\n",
    "\n",
    "$\\delta$ is called the 'treatment effect.' If we believe that our treatment had no effect (ergo does not cause change) we have that $\\delta=0$ and that our treatment and control individuals have the same value! If it has any other value, then we know that our treatment and control measurements are different and that we have a causal effect. In general we will be interested in measuring $\\delta$ directly:\n",
    "\n",
    "$$\\delta=Y_i^1-Y_i^0$$\n",
    "\n",
    "\n",
    "But wait! Remember that we never observe $Y$ for individual $i$ for both treatment and control. So how do we get to measure this treatment effect?\n",
    "\n",
    "\n",
    "Let's think about how experiments work in hard science:\n",
    "\n",
    "\n",
    "* We establish a controlled environment in which we are able to manipulate all possible variables\n",
    "\n",
    "\n",
    "* We take a unit of whatever object we want to subject to an event, and one unit that is not submitted to it\n",
    "\n",
    "* We make sure that both objects are as close to identical as possible and take measurements of one being subjected to the event and of the one not subjected to it\n",
    "\n",
    "* We repeat the measurements with new units serveral times to see if we can replicate the experiment\n",
    "\n",
    "* Since the conditions are identical, and we have made several measurements to control for the little differences among objects if there is any difference between those objects that were subjected to the event than those who were not we know that it comes from the event itself\n",
    "\n",
    "\n",
    "\n"
   ]
  },
  {
   "cell_type": "markdown",
   "id": "ea428e2d-de71-495c-aedd-e2fdec0a4450",
   "metadata": {},
   "source": [
    "## Randomized Control Trials (RCTs): Difference in means\n",
    "\n",
    "As above, what we need to do is find comparable units in similar circumstances and take several measures to identify the differences. To do this in reality we select individuals at random and also assign them to a treatment or control group at random. Since we are trying to measure the treatment effect under repeated measures and finding something that will give us an idea of the difference among distributions, we pick the mean. Ergo, we calculate:\n",
    "\n",
    "$$\\hat{\\delta}=mean(Y^1)-mean(Y^0)$$\n",
    "\n",
    "\n",
    "We would like to see how this looks in practice. However, data for experiments that is open is difficult to access, so we will simulate our own for this exercise. We will generate two groups by using the *normal distribution* (bell curve). We will create the treatment group to have a mean of 1.5 and a standard deviation of 1 and the control group with a mean of zero (default) and a standard deviation of 1. "
   ]
  },
  {
   "cell_type": "code",
   "execution_count": 2,
   "id": "e5b6e795-ee15-463c-86a1-95609133cf28",
   "metadata": {},
   "outputs": [],
   "source": [
    "Treatment=random.normal(loc=1.5, scale=1, size=10000)\n",
    "\n",
    "Control=random.normal(loc=0, scale=1, size=10000)"
   ]
  },
  {
   "cell_type": "markdown",
   "id": "08c08c06-a321-4749-a20e-5e45073ecc7c",
   "metadata": {},
   "source": [
    "Let's put it in a dataframe"
   ]
  },
  {
   "cell_type": "code",
   "execution_count": 3,
   "id": "f64f5bf3-9101-438c-8e64-92e1d3a1ccf5",
   "metadata": {},
   "outputs": [],
   "source": [
    "#For treatment\n",
    "\n",
    "T_df=pd.DataFrame()\n",
    "T_df['outcome']=Treatment\n",
    "T_df['treated']=1\n",
    "\n",
    "#For control\n",
    "\n",
    "C_df=pd.DataFrame()\n",
    "C_df['outcome']=Control\n",
    "C_df['treated']=0\n",
    "\n",
    "#Concatenate\n",
    "\n",
    "exp_df=pd.concat([T_df, C_df])\n"
   ]
  },
  {
   "cell_type": "code",
   "execution_count": 4,
   "id": "68ab71b7-dd03-4c9a-b089-714b3ba4a300",
   "metadata": {},
   "outputs": [
    {
     "data": {
      "text/html": [
       "<div>\n",
       "<style scoped>\n",
       "    .dataframe tbody tr th:only-of-type {\n",
       "        vertical-align: middle;\n",
       "    }\n",
       "\n",
       "    .dataframe tbody tr th {\n",
       "        vertical-align: top;\n",
       "    }\n",
       "\n",
       "    .dataframe thead th {\n",
       "        text-align: right;\n",
       "    }\n",
       "</style>\n",
       "<table border=\"1\" class=\"dataframe\">\n",
       "  <thead>\n",
       "    <tr style=\"text-align: right;\">\n",
       "      <th></th>\n",
       "      <th>outcome</th>\n",
       "      <th>treated</th>\n",
       "    </tr>\n",
       "  </thead>\n",
       "  <tbody>\n",
       "    <tr>\n",
       "      <th>9995</th>\n",
       "      <td>-0.822395</td>\n",
       "      <td>0</td>\n",
       "    </tr>\n",
       "    <tr>\n",
       "      <th>9996</th>\n",
       "      <td>0.489235</td>\n",
       "      <td>0</td>\n",
       "    </tr>\n",
       "    <tr>\n",
       "      <th>9997</th>\n",
       "      <td>-1.707612</td>\n",
       "      <td>0</td>\n",
       "    </tr>\n",
       "    <tr>\n",
       "      <th>9998</th>\n",
       "      <td>0.439066</td>\n",
       "      <td>0</td>\n",
       "    </tr>\n",
       "    <tr>\n",
       "      <th>9999</th>\n",
       "      <td>0.493839</td>\n",
       "      <td>0</td>\n",
       "    </tr>\n",
       "  </tbody>\n",
       "</table>\n",
       "</div>"
      ],
      "text/plain": [
       "       outcome  treated\n",
       "9995 -0.822395        0\n",
       "9996  0.489235        0\n",
       "9997 -1.707612        0\n",
       "9998  0.439066        0\n",
       "9999  0.493839        0"
      ]
     },
     "execution_count": 4,
     "metadata": {},
     "output_type": "execute_result"
    }
   ],
   "source": [
    "exp_df.tail()"
   ]
  },
  {
   "cell_type": "markdown",
   "id": "3f898e33-7df1-4805-b10d-951924818d89",
   "metadata": {},
   "source": [
    "Let's plot"
   ]
  },
  {
   "cell_type": "code",
   "execution_count": 5,
   "id": "9bb1d8fa-65c5-40f2-a0a0-04de21079b65",
   "metadata": {},
   "outputs": [
    {
     "data": {
      "image/png": "[encoded data removed]",
      "text/plain": [
       "<Figure size 640x480 with 1 Axes>"
      ]
     },
     "metadata": {},
     "output_type": "display_data"
    },
    {
     "data": {
      "text/plain": [
       "<ggplot: (8767825709707)>"
      ]
     },
     "execution_count": 5,
     "metadata": {},
     "output_type": "execute_result"
    }
   ],
   "source": [
    "(ggplot(data=exp_df,mapping=aes(x='outcome', color='factor(treated)',\n",
    "                               fill='factor(treated)'))+\n",
    "geom_density(alpha=0.5)+\n",
    "scale_color_manual(values=['darkorange','steelblue'])+ \n",
    " scale_fill_manual(values=['darkorange','steelblue'])+ \n",
    "theme_bw())"
   ]
  },
  {
   "cell_type": "markdown",
   "id": "9dcd149c-068e-4164-b1cd-9a427e837a49",
   "metadata": {},
   "source": [
    "In this case as we imagined, we have that the distributions seem very similar but the one that has the treatment is shifted to the right. This seems to point out that indeed we have some causal effect. Let's see how large it is by looking at the means. It should let us have a sense of the ATE\n",
    "\n"
   ]
  },
  {
   "cell_type": "code",
   "execution_count": 6,
   "id": "de3e8332-2c7a-4453-86f1-95dc4ba623e0",
   "metadata": {},
   "outputs": [
    {
     "data": {
      "image/png": "[encoded data removed]",
      "text/plain": [
       "<Figure size 640x480 with 1 Axes>"
      ]
     },
     "metadata": {},
     "output_type": "display_data"
    },
    {
     "data": {
      "text/plain": [
       "<ggplot: (8767825907002)>"
      ]
     },
     "execution_count": 6,
     "metadata": {},
     "output_type": "execute_result"
    }
   ],
   "source": [
    "(ggplot(data=exp_df,mapping=aes(x='outcome', color='factor(treated)',\n",
    "                               fill='factor(treated)'))+\n",
    "geom_density(alpha=0.5)+\n",
    "scale_color_manual(values=['darkorange','steelblue'])+ \n",
    " scale_fill_manual(values=['darkorange','steelblue'])+ \n",
    " geom_vline(xintercept=np.mean(Treatment), linetype='dashed')+\n",
    "  geom_vline(xintercept=np.mean(Control), linetype='dashed')+\n",
    "\n",
    "theme_bw())"
   ]
  },
  {
   "cell_type": "markdown",
   "id": "ef1f83a1-60ea-4e3b-b834-c7dd6c6e06ba",
   "metadata": {},
   "source": [
    "Let's now measure the ATE:"
   ]
  },
  {
   "cell_type": "code",
   "execution_count": 7,
   "id": "b21e0cd0-589a-4ded-a80e-96831b9be0e7",
   "metadata": {},
   "outputs": [
    {
     "data": {
      "text/plain": [
       "1.5015967373018908"
      ]
     },
     "execution_count": 7,
     "metadata": {},
     "output_type": "execute_result"
    }
   ],
   "source": [
    "np.mean(Treatment)-np.mean(Control)"
   ]
  },
  {
   "cell_type": "markdown",
   "id": "63588ad0-e701-4955-8710-91b03534956d",
   "metadata": {},
   "source": [
    "Great! It matches what we had thought. However, how do we know if this is significant? There are a few ways in which we can check this. But I also want to take this opportunity to show the equivalence of getting the ATE by simply taking the difference of means to desgining a specific regression for it!"
   ]
  },
  {
   "cell_type": "markdown",
   "id": "c92fd429-2a4c-46c5-b49a-8ebb5ce9aa3a",
   "metadata": {},
   "source": [
    "## Regression and RCTs\n",
    "\n",
    "Let's define a variable $T$ which takes the following values:\n",
    "\n",
    "\n",
    "$$T=\\begin{cases}\n",
    "        1, \\mbox{if Treated}\\\\ \n",
    "        0, \\mbox{Otherwise} \\\\\n",
    "        \\end{cases}$$\n",
    "        \n",
    "Now, let's think about our potential outcomes again. We know that for any outcome $Y$, we have that:\n",
    "\n",
    "$$Y=\\begin{cases}\n",
    "        Y^1, \\mbox{if Treated}\\\\ \n",
    "        Y^0, \\mbox{Otherwise} \\\\\n",
    "        \\end{cases}$$\n",
    "        \n",
    "        \n",
    "Which we can summarize like this:\n",
    "\n",
    "\n",
    "$$Y=Y^0+(Y^1-Y^0)T$$\n",
    "\n",
    "This is called the switching equation. Note that if $T$ is 1 we get $Y^1$ and if $T$ is zero we do get $Y^0$.\n",
    "\n",
    "Let's look at the term $Y^1-Y^0$ and let's remember the definition of $\\delta$. Recalling that parameters in regression go back to the mean, we can think of this like:\n",
    "\n",
    "\n",
    "$$mean(Y)=mean(Y^0)+mean(Y^1-Y^0)T$$\n",
    "\n",
    "So we could define a regression:\n",
    "\n",
    "$$Y=\\beta_0+\\delta T+\\varepsilon$$\n",
    "\n",
    "where\n",
    "\n",
    "$$\\beta_0=Y^0$$\n",
    "$$\\delta=Y^1-Y^0$$\n",
    "\n",
    "If we run the regression the estimate of $\\hat{\\delta}$ will be our ATE and the result of the t-tests will allow us to know if the effect is significantly different from zero.\n",
    "\n",
    "Let's actually run the regression\n",
    "\n",
    "\n"
   ]
  },
  {
   "cell_type": "code",
   "execution_count": 8,
   "id": "1eb27c5a-b659-4755-93d0-80fc332ac152",
   "metadata": {},
   "outputs": [],
   "source": [
    "# y is outcome, X is treated on our exp_df dataframe\n",
    "\n",
    "reg1 = smf.ols('outcome ~ treated',exp_df).fit()"
   ]
  },
  {
   "cell_type": "code",
   "execution_count": 9,
   "id": "da12273e-79fa-4178-9f6e-dbe889ad8fe0",
   "metadata": {},
   "outputs": [
    {
     "data": {
      "text/html": [
       "<table class=\"simpletable\">\n",
       "<caption>OLS Regression Results</caption>\n",
       "<tr>\n",
       "  <th>Dep. Variable:</th>         <td>outcome</td>     <th>  R-squared:         </th> <td>   0.358</td> \n",
       "</tr>\n",
       "<tr>\n",
       "  <th>Model:</th>                   <td>OLS</td>       <th>  Adj. R-squared:    </th> <td>   0.358</td> \n",
       "</tr>\n",
       "<tr>\n",
       "  <th>Method:</th>             <td>Least Squares</td>  <th>  F-statistic:       </th> <td>1.114e+04</td>\n",
       "</tr>\n",
       "<tr>\n",
       "  <th>Date:</th>             <td>Tue, 15 Nov 2022</td> <th>  Prob (F-statistic):</th>  <td>  0.00</td>  \n",
       "</tr>\n",
       "<tr>\n",
       "  <th>Time:</th>                 <td>14:10:37</td>     <th>  Log-Likelihood:    </th> <td> -28493.</td> \n",
       "</tr>\n",
       "<tr>\n",
       "  <th>No. Observations:</th>      <td> 20000</td>      <th>  AIC:               </th> <td>5.699e+04</td>\n",
       "</tr>\n",
       "<tr>\n",
       "  <th>Df Residuals:</th>          <td> 19998</td>      <th>  BIC:               </th> <td>5.701e+04</td>\n",
       "</tr>\n",
       "<tr>\n",
       "  <th>Df Model:</th>              <td>     1</td>      <th>                     </th>     <td> </td>    \n",
       "</tr>\n",
       "<tr>\n",
       "  <th>Covariance Type:</th>      <td>nonrobust</td>    <th>                     </th>     <td> </td>    \n",
       "</tr>\n",
       "</table>\n",
       "<table class=\"simpletable\">\n",
       "<tr>\n",
       "      <td></td>         <th>coef</th>     <th>std err</th>      <th>t</th>      <th>P>|t|</th>  <th>[0.025</th>    <th>0.975]</th>  \n",
       "</tr>\n",
       "<tr>\n",
       "  <th>Intercept</th> <td>   -0.0065</td> <td>    0.010</td> <td>   -0.649</td> <td> 0.516</td> <td>   -0.026</td> <td>    0.013</td>\n",
       "</tr>\n",
       "<tr>\n",
       "  <th>treated</th>   <td>    1.5016</td> <td>    0.014</td> <td>  105.569</td> <td> 0.000</td> <td>    1.474</td> <td>    1.529</td>\n",
       "</tr>\n",
       "</table>\n",
       "<table class=\"simpletable\">\n",
       "<tr>\n",
       "  <th>Omnibus:</th>       <td> 4.179</td> <th>  Durbin-Watson:     </th> <td>   1.994</td>\n",
       "</tr>\n",
       "<tr>\n",
       "  <th>Prob(Omnibus):</th> <td> 0.124</td> <th>  Jarque-Bera (JB):  </th> <td>   3.989</td>\n",
       "</tr>\n",
       "<tr>\n",
       "  <th>Skew:</th>          <td> 0.001</td> <th>  Prob(JB):          </th> <td>   0.136</td>\n",
       "</tr>\n",
       "<tr>\n",
       "  <th>Kurtosis:</th>      <td> 2.931</td> <th>  Cond. No.          </th> <td>    2.62</td>\n",
       "</tr>\n",
       "</table><br/><br/>Notes:<br/>[1] Standard Errors assume that the covariance matrix of the errors is correctly specified."
      ],
      "text/plain": [
       "<class 'statsmodels.iolib.summary.Summary'>\n",
       "\"\"\"\n",
       "                            OLS Regression Results                            \n",
       "==============================================================================\n",
       "Dep. Variable:                outcome   R-squared:                       0.358\n",
       "Model:                            OLS   Adj. R-squared:                  0.358\n",
       "Method:                 Least Squares   F-statistic:                 1.114e+04\n",
       "Date:                Tue, 15 Nov 2022   Prob (F-statistic):               0.00\n",
       "Time:                        14:10:37   Log-Likelihood:                -28493.\n",
       "No. Observations:               20000   AIC:                         5.699e+04\n",
       "Df Residuals:                   19998   BIC:                         5.701e+04\n",
       "Df Model:                           1                                         \n",
       "Covariance Type:            nonrobust                                         \n",
       "==============================================================================\n",
       "                 coef    std err          t      P>|t|      [0.025      0.975]\n",
       "------------------------------------------------------------------------------\n",
       "Intercept     -0.0065      0.010     -0.649      0.516      -0.026       0.013\n",
       "treated        1.5016      0.014    105.569      0.000       1.474       1.529\n",
       "==============================================================================\n",
       "Omnibus:                        4.179   Durbin-Watson:                   1.994\n",
       "Prob(Omnibus):                  0.124   Jarque-Bera (JB):                3.989\n",
       "Skew:                           0.001   Prob(JB):                        0.136\n",
       "Kurtosis:                       2.931   Cond. No.                         2.62\n",
       "==============================================================================\n",
       "\n",
       "Notes:\n",
       "[1] Standard Errors assume that the covariance matrix of the errors is correctly specified.\n",
       "\"\"\""
      ]
     },
     "execution_count": 9,
     "metadata": {},
     "output_type": "execute_result"
    }
   ],
   "source": [
    "reg1.summary()"
   ]
  },
  {
   "cell_type": "markdown",
   "id": "5c6932c0-5b24-4736-b0bd-9ae0c7d8130b",
   "metadata": {},
   "source": [
    "Let's look at the parameters again:"
   ]
  },
  {
   "cell_type": "code",
   "execution_count": 10,
   "id": "004f394e-08ce-4f30-8150-469a69e31a02",
   "metadata": {},
   "outputs": [
    {
     "data": {
      "text/plain": [
       "Intercept   -0.006531\n",
       "treated      1.501597\n",
       "dtype: float64"
      ]
     },
     "execution_count": 10,
     "metadata": {},
     "output_type": "execute_result"
    }
   ],
   "source": [
    "reg1.params"
   ]
  },
  {
   "cell_type": "markdown",
   "id": "7ce56bae-bc54-4f9c-978e-ea9dda4288d3",
   "metadata": {},
   "source": [
    "The treated parameter is our $\\hat{\\delta}$ and it matches what we expect! Let's look at the significance next"
   ]
  },
  {
   "cell_type": "code",
   "execution_count": 11,
   "id": "e604619b-0410-4f17-85dd-103ca6b6fe46",
   "metadata": {},
   "outputs": [
    {
     "data": {
      "text/html": [
       "<div>\n",
       "<style scoped>\n",
       "    .dataframe tbody tr th:only-of-type {\n",
       "        vertical-align: middle;\n",
       "    }\n",
       "\n",
       "    .dataframe tbody tr th {\n",
       "        vertical-align: top;\n",
       "    }\n",
       "\n",
       "    .dataframe thead th {\n",
       "        text-align: right;\n",
       "    }\n",
       "</style>\n",
       "<table border=\"1\" class=\"dataframe\">\n",
       "  <thead>\n",
       "    <tr style=\"text-align: right;\">\n",
       "      <th></th>\n",
       "      <th>0</th>\n",
       "      <th>1</th>\n",
       "    </tr>\n",
       "  </thead>\n",
       "  <tbody>\n",
       "    <tr>\n",
       "      <th>Intercept</th>\n",
       "      <td>-0.026245</td>\n",
       "      <td>0.013183</td>\n",
       "    </tr>\n",
       "    <tr>\n",
       "      <th>treated</th>\n",
       "      <td>1.473717</td>\n",
       "      <td>1.529477</td>\n",
       "    </tr>\n",
       "  </tbody>\n",
       "</table>\n",
       "</div>"
      ],
      "text/plain": [
       "                  0         1\n",
       "Intercept -0.026245  0.013183\n",
       "treated    1.473717  1.529477"
      ]
     },
     "execution_count": 11,
     "metadata": {},
     "output_type": "execute_result"
    }
   ],
   "source": [
    "reg1.conf_int()"
   ]
  },
  {
   "cell_type": "markdown",
   "id": "da2c7324-73e8-42e6-8fdf-ae9b3a43bf01",
   "metadata": {},
   "source": [
    "We see that the 95% confidence intervals for treated have a lower bound of 1.48 and an upper bound of 1.53. We know that this treatment effect is significantly different from zero because the interval does not enclose zero! For now, we are happy with these results. We will start exploring what happens when we cannot do experiments later on "
   ]
  },
  {
   "cell_type": "markdown",
   "id": "b12266ab-b060-488a-b2cc-19e052205204",
   "metadata": {},
   "source": [
    "Some datasets for your project:\n",
    "\n",
    "https://www.kdnuggets.com/datasets/index.html"
   ]
  }
 ],
 "metadata": {
  "kernelspec": {
   "display_name": "Python 3",
   "language": "python",
   "name": "python3"
  },
  "language_info": {
   "codemirror_mode": {
    "name": "ipython",
    "version": 3
   },
   "file_extension": ".py",
   "mimetype": "text/x-python",
   "name": "python",
   "nbconvert_exporter": "python",
   "pygments_lexer": "ipython3",
   "version": "3.8.8"
  }
 },
 "nbformat": 4,
 "nbformat_minor": 5
}
