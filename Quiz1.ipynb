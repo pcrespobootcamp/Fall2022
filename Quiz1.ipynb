{
 "cells": [
  {
   "cell_type": "markdown",
   "id": "657c2683-e1e3-45db-8a88-e1fc02336f03",
   "metadata": {},
   "source": [
    "# Quiz 1\n",
    "\n",
    "Please attempt answering the following questions and submit your notebook on pdf format in Brightspace.\n",
    "\n",
    "Don't forget to add your name and NetID\n",
    "\n",
    "Don't forget to import the proper libraries."
   ]
  },
  {
   "cell_type": "markdown",
   "id": "7b3d95ca-03fe-4f72-a3a7-90d2648511aa",
   "metadata": {},
   "source": [
    "### Question 1\n",
    "\n",
    "Manipulate list1 and list2 as defined below:\n",
    "\n",
    "\n",
    "```python\n",
    "list1=['One', 'Four', 'Three', 'Two', 'Five']\n",
    "list2=['Zero']\n",
    "```\n",
    "\n",
    "To create the new lists:\n",
    "```python\n",
    "['One', 'Two', 'Three', 'Four', 'Five']\n",
    "\n",
    "['ZERO','ONE', 'TWO', 'THREE', 'FOUR', 'FIVE']\n",
    "```\n",
    "\n",
    "**Suggested Answer:**"
   ]
  },
  {
   "cell_type": "code",
   "execution_count": 1,
   "id": "1a6cc3f6-48ac-4e67-8e9e-a626f9b2d18f",
   "metadata": {},
   "outputs": [
    {
     "data": {
      "text/plain": [
       "['One', 'Two', 'Three', 'Four', 'Five']"
      ]
     },
     "execution_count": 1,
     "metadata": {},
     "output_type": "execute_result"
    }
   ],
   "source": [
    "list1=['One', 'Four', 'Three', 'Two', 'Five']\n",
    "list2=['Zero']\n",
    "\n",
    "#For the first list just do the placeholder trick\n",
    "\n",
    "firstlist=list1\n",
    "\n",
    "placeholder=list1[1]\n",
    "\n",
    "firstlist[1]=list1[3]\n",
    "\n",
    "firstlist[3]=placeholder\n",
    "\n",
    "firstlist"
   ]
  },
  {
   "cell_type": "code",
   "execution_count": 2,
   "id": "eb30a47b-34c5-4bfb-9c3f-ae529dd93bd6",
   "metadata": {},
   "outputs": [
    {
     "data": {
      "text/plain": [
       "['ZERO', 'ONE', 'TWO', 'THREE', 'FOUR', 'FIVE']"
      ]
     },
     "execution_count": 2,
     "metadata": {},
     "output_type": "execute_result"
    }
   ],
   "source": [
    "#We can just concatenate the list we just made with list2 and then do .upper()\n",
    "\n",
    "concatenated=list2+firstlist\n",
    "\n",
    "secondlist=[item.upper() for item in concatenated]\n",
    "\n",
    "secondlist"
   ]
  },
  {
   "cell_type": "markdown",
   "id": "61877e28-70bb-4e2b-ab69-d4ca13082253",
   "metadata": {},
   "source": [
    "### Question 2\n",
    "\n",
    "Write a piece of code that will output a list that will add 6 to every element of list3 below: \n",
    "\n",
    "```python\n",
    "list3=[74,84,94,104,134]\n",
    "```\n",
    "\n",
    "**Suggested Answer:**"
   ]
  },
  {
   "cell_type": "code",
   "execution_count": 3,
   "id": "f58b4b20-9167-44fb-9157-39298ed8ae89",
   "metadata": {},
   "outputs": [
    {
     "data": {
      "text/plain": [
       "[80, 90, 100, 110, 140]"
      ]
     },
     "execution_count": 3,
     "metadata": {},
     "output_type": "execute_result"
    }
   ],
   "source": [
    "# We can just do a list comprehension\n",
    "\n",
    "list3=[74,84,94,104,134]\n",
    "\n",
    "[x+6 for x in list3]"
   ]
  },
  {
   "cell_type": "markdown",
   "id": "4e6b6d78-d1ff-4397-b1fb-53c2e7be4c12",
   "metadata": {},
   "source": [
    "### Question 3\n",
    "\n",
    "Write a function that will calculate the absolute difference of any float and 24. This means that If I input the number 37, the function should output 13 and if I input 23 the output should be 1. \n",
    "\n",
    "**Suggested Answer:**"
   ]
  },
  {
   "cell_type": "code",
   "execution_count": 4,
   "id": "8dd15880-b044-489d-888c-3693677550c5",
   "metadata": {},
   "outputs": [],
   "source": [
    "#The function\n",
    "\n",
    "def diff24(x):\n",
    "    # We take the difference\n",
    "    diff=24-x\n",
    "    # For the positives\n",
    "    if diff>=0:\n",
    "        return(diff)\n",
    "    # For the negatives\n",
    "    else:\n",
    "        return(diff*(-1))"
   ]
  },
  {
   "cell_type": "code",
   "execution_count": 5,
   "id": "c256c69f-0968-40b9-b9ee-3b3f717586ed",
   "metadata": {},
   "outputs": [
    {
     "data": {
      "text/plain": [
       "13"
      ]
     },
     "execution_count": 5,
     "metadata": {},
     "output_type": "execute_result"
    }
   ],
   "source": [
    "# Trying 37\n",
    "\n",
    "diff24(x=37)"
   ]
  },
  {
   "cell_type": "code",
   "execution_count": 6,
   "id": "8b31855a-6296-49e9-9236-fe641129d9ec",
   "metadata": {},
   "outputs": [
    {
     "data": {
      "text/plain": [
       "1"
      ]
     },
     "execution_count": 6,
     "metadata": {},
     "output_type": "execute_result"
    }
   ],
   "source": [
    "#Trying 23\n",
    "\n",
    "diff24(x=23)"
   ]
  },
  {
   "cell_type": "markdown",
   "id": "b3467e11-52e0-418a-bb75-c2c79cfd52c1",
   "metadata": {},
   "source": [
    "### Question 4\n",
    "\n",
    "The lists below correspond to some test takers, the number of attempts they had on a test and their final score.\n",
    "Please turn the lists into a pandas dataframe and from that dataframe generate a second one that contains only the names and scores of the people who only took the test once. \n",
    "\n",
    "```python\n",
    "name=['Albert', 'Dean', 'Karen', 'Jim', 'Ella', 'Mark', 'Michael', 'Laura', 'Kirk', 'Joseph']\n",
    "score= [12.5, 9, 16.5, 12, 9, 20, 14.5, 7, 8, 19]\n",
    "attemtps=[3, 1, 2, 3, 2, 1, 1, 2, 2, 1]\n",
    "```\n",
    "\n",
    "**Suggested Answer:**"
   ]
  },
  {
   "cell_type": "code",
   "execution_count": 7,
   "id": "b679278a-0922-4e6c-8158-df4c8c9805b7",
   "metadata": {},
   "outputs": [],
   "source": [
    "import pandas as pd\n",
    "\n",
    "name=['Albert', 'Dean', 'Karen', 'Jim', 'Ella', 'Mark', 'Michael', 'Laura', 'Kirk', 'Joseph']\n",
    "score= [12.5, 9, 16.5, 12, 9, 20, 14.5, 7, 8, 19]\n",
    "attemtps=[3, 1, 2, 3, 2, 1, 1, 2, 2, 1]\n",
    "\n",
    "firstdf=pd.DataFrame({'name':name,'score': score,'attempts': attemtps})\n"
   ]
  },
  {
   "cell_type": "code",
   "execution_count": 8,
   "id": "38b78f7c-0c7a-4e32-83c8-6fe0b5fd00a3",
   "metadata": {},
   "outputs": [
    {
     "data": {
      "text/html": [
       "<div>\n",
       "<style scoped>\n",
       "    .dataframe tbody tr th:only-of-type {\n",
       "        vertical-align: middle;\n",
       "    }\n",
       "\n",
       "    .dataframe tbody tr th {\n",
       "        vertical-align: top;\n",
       "    }\n",
       "\n",
       "    .dataframe thead th {\n",
       "        text-align: right;\n",
       "    }\n",
       "</style>\n",
       "<table border=\"1\" class=\"dataframe\">\n",
       "  <thead>\n",
       "    <tr style=\"text-align: right;\">\n",
       "      <th></th>\n",
       "      <th>name</th>\n",
       "      <th>score</th>\n",
       "      <th>attempts</th>\n",
       "    </tr>\n",
       "  </thead>\n",
       "  <tbody>\n",
       "    <tr>\n",
       "      <th>0</th>\n",
       "      <td>Albert</td>\n",
       "      <td>12.5</td>\n",
       "      <td>3</td>\n",
       "    </tr>\n",
       "    <tr>\n",
       "      <th>1</th>\n",
       "      <td>Dean</td>\n",
       "      <td>9.0</td>\n",
       "      <td>1</td>\n",
       "    </tr>\n",
       "    <tr>\n",
       "      <th>2</th>\n",
       "      <td>Karen</td>\n",
       "      <td>16.5</td>\n",
       "      <td>2</td>\n",
       "    </tr>\n",
       "    <tr>\n",
       "      <th>3</th>\n",
       "      <td>Jim</td>\n",
       "      <td>12.0</td>\n",
       "      <td>3</td>\n",
       "    </tr>\n",
       "    <tr>\n",
       "      <th>4</th>\n",
       "      <td>Ella</td>\n",
       "      <td>9.0</td>\n",
       "      <td>2</td>\n",
       "    </tr>\n",
       "    <tr>\n",
       "      <th>5</th>\n",
       "      <td>Mark</td>\n",
       "      <td>20.0</td>\n",
       "      <td>1</td>\n",
       "    </tr>\n",
       "    <tr>\n",
       "      <th>6</th>\n",
       "      <td>Michael</td>\n",
       "      <td>14.5</td>\n",
       "      <td>1</td>\n",
       "    </tr>\n",
       "    <tr>\n",
       "      <th>7</th>\n",
       "      <td>Laura</td>\n",
       "      <td>7.0</td>\n",
       "      <td>2</td>\n",
       "    </tr>\n",
       "    <tr>\n",
       "      <th>8</th>\n",
       "      <td>Kirk</td>\n",
       "      <td>8.0</td>\n",
       "      <td>2</td>\n",
       "    </tr>\n",
       "    <tr>\n",
       "      <th>9</th>\n",
       "      <td>Joseph</td>\n",
       "      <td>19.0</td>\n",
       "      <td>1</td>\n",
       "    </tr>\n",
       "  </tbody>\n",
       "</table>\n",
       "</div>"
      ],
      "text/plain": [
       "      name  score  attempts\n",
       "0   Albert   12.5         3\n",
       "1     Dean    9.0         1\n",
       "2    Karen   16.5         2\n",
       "3      Jim   12.0         3\n",
       "4     Ella    9.0         2\n",
       "5     Mark   20.0         1\n",
       "6  Michael   14.5         1\n",
       "7    Laura    7.0         2\n",
       "8     Kirk    8.0         2\n",
       "9   Joseph   19.0         1"
      ]
     },
     "execution_count": 8,
     "metadata": {},
     "output_type": "execute_result"
    }
   ],
   "source": [
    "firstdf"
   ]
  },
  {
   "cell_type": "code",
   "execution_count": 9,
   "id": "c4ba239c-2e2f-4d1b-9e47-88b6f2c2948c",
   "metadata": {},
   "outputs": [
    {
     "data": {
      "text/html": [
       "<div>\n",
       "<style scoped>\n",
       "    .dataframe tbody tr th:only-of-type {\n",
       "        vertical-align: middle;\n",
       "    }\n",
       "\n",
       "    .dataframe tbody tr th {\n",
       "        vertical-align: top;\n",
       "    }\n",
       "\n",
       "    .dataframe thead th {\n",
       "        text-align: right;\n",
       "    }\n",
       "</style>\n",
       "<table border=\"1\" class=\"dataframe\">\n",
       "  <thead>\n",
       "    <tr style=\"text-align: right;\">\n",
       "      <th></th>\n",
       "      <th>name</th>\n",
       "      <th>score</th>\n",
       "    </tr>\n",
       "  </thead>\n",
       "  <tbody>\n",
       "    <tr>\n",
       "      <th>1</th>\n",
       "      <td>Dean</td>\n",
       "      <td>9.0</td>\n",
       "    </tr>\n",
       "    <tr>\n",
       "      <th>5</th>\n",
       "      <td>Mark</td>\n",
       "      <td>20.0</td>\n",
       "    </tr>\n",
       "    <tr>\n",
       "      <th>6</th>\n",
       "      <td>Michael</td>\n",
       "      <td>14.5</td>\n",
       "    </tr>\n",
       "    <tr>\n",
       "      <th>9</th>\n",
       "      <td>Joseph</td>\n",
       "      <td>19.0</td>\n",
       "    </tr>\n",
       "  </tbody>\n",
       "</table>\n",
       "</div>"
      ],
      "text/plain": [
       "      name  score\n",
       "1     Dean    9.0\n",
       "5     Mark   20.0\n",
       "6  Michael   14.5\n",
       "9   Joseph   19.0"
      ]
     },
     "execution_count": 9,
     "metadata": {},
     "output_type": "execute_result"
    }
   ],
   "source": [
    "firstdf.loc[firstdf['attempts']==1, ['name', 'score']]"
   ]
  }
 ],
 "metadata": {
  "kernelspec": {
   "display_name": "Python 3",
   "language": "python",
   "name": "python3"
  },
  "language_info": {
   "codemirror_mode": {
    "name": "ipython",
    "version": 3
   },
   "file_extension": ".py",
   "mimetype": "text/x-python",
   "name": "python",
   "nbconvert_exporter": "python",
   "pygments_lexer": "ipython3",
   "version": "3.8.8"
  }
 },
 "nbformat": 4,
 "nbformat_minor": 5
}
