{
 "cells": [
  {
   "cell_type": "markdown",
   "id": "9ef8ba8a-b1f0-410a-9778-ec6f08982c0d",
   "metadata": {},
   "source": [
    "# Class 4: Let's do some work with Pandas\n",
    "\n",
    "![Panda](https://c.tenor.com/HjWiWdQbvd0AAAAM/cute-bear.gif)\n"
   ]
  },
  {
   "cell_type": "code",
   "execution_count": null,
   "id": "15f2feef-98b0-4996-b36f-f03746f8eeef",
   "metadata": {},
   "outputs": [],
   "source": [
    "import pandas as pd\n",
    "import numpy as np"
   ]
  },
  {
   "cell_type": "markdown",
   "id": "a8a12954-cc54-416c-9512-6873066bde91",
   "metadata": {},
   "source": [
    "### Series"
   ]
  },
  {
   "cell_type": "code",
   "execution_count": null,
   "id": "c1b5525c-1e4d-4592-8393-7f4aa264e0f8",
   "metadata": {},
   "outputs": [],
   "source": [
    "gdp = {\"GDP\": [5974.7, 10031.0, 14681.1]} \n"
   ]
  },
  {
   "cell_type": "code",
   "execution_count": null,
   "id": "d27ea46d-f3bc-4745-ab2c-670694c2c4ac",
   "metadata": {},
   "outputs": [],
   "source": [
    "gdp_s= pd.Series(gdp,name='GDP')\n",
    "gdp_s"
   ]
  },
  {
   "cell_type": "code",
   "execution_count": null,
   "id": "5766a223-26a6-4aef-ab20-ff627ee5b42e",
   "metadata": {},
   "outputs": [],
   "source": [
    "#we can also create them from an array\n",
    "\n",
    "cpi = np.array([127.5, 169.3, 217.488])\n",
    "cpi_s= pd.Series(cpi,name='CPI')\n",
    "cpi_s"
   ]
  },
  {
   "cell_type": "markdown",
   "id": "caaa8734-8360-44ac-b05f-0e7efbc05697",
   "metadata": {},
   "source": [
    "### From series to dataframes"
   ]
  },
  {
   "cell_type": "code",
   "execution_count": null,
   "id": "a6eb4df9-c7da-41f3-82ac-ad808992f590",
   "metadata": {},
   "outputs": [],
   "source": [
    "# create series from a list, then let's get into dataframes!\n",
    "year = [1990, 2000, 2010]\n",
    "country = [\"US\", \"US\", \"US\"]\n",
    "year_s = pd.Series(year,name='Year')\n",
    "country_s = pd.Series(country,name='Country')\n"
   ]
  },
  {
   "cell_type": "code",
   "execution_count": null,
   "id": "e9b35abe-ea0a-4ad9-9094-b844780e8c9d",
   "metadata": {},
   "outputs": [],
   "source": [
    "Series_Df = pd.concat([year_s,country_s],axis=1)\n",
    "Series_Df"
   ]
  },
  {
   "cell_type": "code",
   "execution_count": null,
   "id": "8155b0a4-7b9b-46a1-bf99-3223cd8e3cd4",
   "metadata": {},
   "outputs": [],
   "source": [
    "Series_Df = pd.concat([year_s,country_s],axis=0)\n",
    "Series_Df"
   ]
  },
  {
   "cell_type": "code",
   "execution_count": null,
   "id": "8e44b043-6069-48fa-a405-f00a11fadf35",
   "metadata": {},
   "outputs": [],
   "source": [
    "data = {\"GDP\": [5974.7, 10031.0, 14681.1],\n",
    "                   \"CPI\": [127.5, 169.3, 217.488],\n",
    "                   \"Year\": [1990, 2000, 2010],\n",
    "                   \"Country\": [\"US\", \"US\", \"US\"]}\n",
    "\n",
    "df = pd.DataFrame(data)"
   ]
  },
  {
   "cell_type": "code",
   "execution_count": null,
   "id": "946ee33c-7893-43dc-8c1c-4c839073ebc9",
   "metadata": {},
   "outputs": [],
   "source": [
    "df"
   ]
  },
  {
   "cell_type": "markdown",
   "id": "d3c6bd15-0420-4573-b60e-0bc43a4a8455",
   "metadata": {},
   "source": [
    "## Breaking up a dataframe"
   ]
  },
  {
   "cell_type": "code",
   "execution_count": null,
   "id": "bf8e3df1-1fe1-4776-b4d4-343652c31c9b",
   "metadata": {},
   "outputs": [],
   "source": [
    "df.shape"
   ]
  },
  {
   "cell_type": "code",
   "execution_count": null,
   "id": "39744587-0e97-4ca0-9d6d-f65044ed415f",
   "metadata": {},
   "outputs": [],
   "source": [
    "df.columns"
   ]
  },
  {
   "cell_type": "code",
   "execution_count": null,
   "id": "2a55dddb-1ea7-44a6-930d-ef0e5d0e652b",
   "metadata": {},
   "outputs": [],
   "source": [
    "df.columns.tolist()"
   ]
  },
  {
   "cell_type": "code",
   "execution_count": null,
   "id": "c9eeffaf-012c-438c-b04e-a45ecd8d6e6e",
   "metadata": {},
   "outputs": [],
   "source": [
    "df.index"
   ]
  },
  {
   "cell_type": "code",
   "execution_count": null,
   "id": "27d6b70e-9e11-4f9b-8976-6ef392cd7802",
   "metadata": {},
   "outputs": [],
   "source": [
    "df.index.tolist()"
   ]
  },
  {
   "cell_type": "code",
   "execution_count": null,
   "id": "edf7aee0-104b-4113-bb69-dc341e8e2d68",
   "metadata": {},
   "outputs": [],
   "source": [
    "pwt_data = {'countrycode': ['CHN', 'CHN', 'CHN', 'FRA', 'FRA', 'FRA'],\n",
    "        'pop': [1124.8, 1246.8, 1318.2, 58.2, 60.8, 64.7],\n",
    "        'rgdpe': [2.611, 4.951, 11.106, 1.294, 1.753, 2.032],\n",
    "        'year': [1990, 2000, 2010, 1990, 2000, 2010]}\n",
    "\n",
    "pwt = pd.DataFrame(pwt_data)"
   ]
  },
  {
   "cell_type": "markdown",
   "id": "731d681f-cf52-4849-bc9b-07239b0ec6db",
   "metadata": {},
   "source": [
    "a) What are the dimensions of pwt?\n",
    "\n",
    "b) What dtypes are the variables? What do they mean?\n",
    "\n",
    "\n"
   ]
  },
  {
   "cell_type": "code",
   "execution_count": null,
   "id": "52a10084-1d03-48a1-87c9-a4ee51dc6541",
   "metadata": {},
   "outputs": [],
   "source": [
    "pwt.shape"
   ]
  },
  {
   "cell_type": "code",
   "execution_count": null,
   "id": "136897be-0505-4b4d-b158-2c56221e66a5",
   "metadata": {},
   "outputs": [],
   "source": [
    "pwt"
   ]
  },
  {
   "cell_type": "code",
   "execution_count": null,
   "id": "f0bff029-91dd-4d39-a8d5-e3170c7aa913",
   "metadata": {},
   "outputs": [],
   "source": [
    "pwt.dtypes"
   ]
  },
  {
   "cell_type": "markdown",
   "id": "fe4fe3c8-9186-4d3f-9a2f-eedb7ebb8943",
   "metadata": {},
   "source": [
    "## Columns"
   ]
  },
  {
   "cell_type": "code",
   "execution_count": null,
   "id": "9c97178d-0211-4f87-b52e-922ba94fa385",
   "metadata": {},
   "outputs": [],
   "source": [
    "df"
   ]
  },
  {
   "cell_type": "code",
   "execution_count": null,
   "id": "8f226d30-def9-4db8-9ac7-3d8a17b06150",
   "metadata": {},
   "outputs": [],
   "source": [
    "df['CPI']"
   ]
  },
  {
   "cell_type": "code",
   "execution_count": null,
   "id": "0d65dfd9-38f1-4d6e-988f-95b26cf55c00",
   "metadata": {},
   "outputs": [],
   "source": [
    "df.CPI"
   ]
  },
  {
   "cell_type": "code",
   "execution_count": null,
   "id": "5f2e0647-ec54-428e-86c8-aeb8bfff428d",
   "metadata": {},
   "outputs": [],
   "source": [
    "df.iloc[:,1]"
   ]
  },
  {
   "cell_type": "code",
   "execution_count": null,
   "id": "f2947854-d30d-408a-8f5f-906c580c4ad5",
   "metadata": {},
   "outputs": [],
   "source": [
    "df[[\"CPI\",\"Country\"]]"
   ]
  },
  {
   "cell_type": "code",
   "execution_count": null,
   "id": "f42d7ddf-20bb-4ddc-ab25-64c69e86c153",
   "metadata": {},
   "outputs": [],
   "source": [
    "df.iloc[:, [1,3]]"
   ]
  },
  {
   "cell_type": "code",
   "execution_count": null,
   "id": "423ea98c-f202-4dc7-a700-62646d9bbeff",
   "metadata": {},
   "outputs": [],
   "source": [
    "df.columns = [\"gdp\", \"cpi\", \"year\", \"country\"]\n",
    "df"
   ]
  },
  {
   "cell_type": "code",
   "execution_count": null,
   "id": "060b5ce8-d71b-415e-ac49-f119ce779ef3",
   "metadata": {},
   "outputs": [],
   "source": [
    "df.columns = [var.upper() for var in df.columns]\n",
    "df"
   ]
  },
  {
   "cell_type": "code",
   "execution_count": null,
   "id": "6a87b8a2-7080-4fbf-b99e-da70d4fa99f3",
   "metadata": {},
   "outputs": [],
   "source": [
    "df = df.rename(columns = {\"GDP\":\"NGDP\"})\n",
    "\n",
    "df"
   ]
  },
  {
   "cell_type": "code",
   "execution_count": null,
   "id": "06a64d23-7006-44bd-b676-dbdb5404b3cd",
   "metadata": {},
   "outputs": [],
   "source": [
    "namelist = [\"NGDP\",\"CPI\"]\n",
    "\n",
    "df[namelist]"
   ]
  },
  {
   "cell_type": "markdown",
   "id": "df907606-ee3e-43ca-8d58-c5045ee21737",
   "metadata": {},
   "source": [
    "## Playing with rows"
   ]
  },
  {
   "cell_type": "code",
   "execution_count": null,
   "id": "41515f85-1660-44c5-972e-c92d9c0c6e6d",
   "metadata": {},
   "outputs": [],
   "source": [
    "pwt"
   ]
  },
  {
   "cell_type": "code",
   "execution_count": null,
   "id": "ed10c2d5-d6c2-4323-b482-49ec7779ed3f",
   "metadata": {},
   "outputs": [],
   "source": [
    "pwt.iloc[1,]"
   ]
  },
  {
   "cell_type": "code",
   "execution_count": null,
   "id": "b079570c-d2d0-42e1-9a30-477e051251a7",
   "metadata": {},
   "outputs": [],
   "source": [
    "pwt.iloc[0:2,]"
   ]
  },
  {
   "cell_type": "code",
   "execution_count": null,
   "id": "6142e2e9-e6bd-4cbe-834b-eb16b2ccd6b1",
   "metadata": {},
   "outputs": [],
   "source": [
    "pwt.loc[pwt['year']==2000]"
   ]
  },
  {
   "cell_type": "code",
   "execution_count": null,
   "id": "803a57d5-365e-41fa-a890-0c1c07f1e0ee",
   "metadata": {},
   "outputs": [],
   "source": [
    "pwt[pwt['year']==2000]"
   ]
  },
  {
   "cell_type": "code",
   "execution_count": null,
   "id": "68b5a860-cc82-4a93-baa1-a1e181b9477d",
   "metadata": {},
   "outputs": [],
   "source": [
    "pwt['year']==2000"
   ]
  },
  {
   "cell_type": "markdown",
   "id": "a9565c11-6880-46dd-a185-ba6496cc91f3",
   "metadata": {},
   "source": [
    "## Using values as indices"
   ]
  },
  {
   "cell_type": "code",
   "execution_count": null,
   "id": "9a44cbdc-8e32-4d90-870f-8bff686caede",
   "metadata": {},
   "outputs": [],
   "source": [
    "pwt.set_index([\"year\"])"
   ]
  },
  {
   "cell_type": "code",
   "execution_count": null,
   "id": "91905c6f-aee8-4dfe-bde7-be775d0d0d5c",
   "metadata": {},
   "outputs": [],
   "source": [
    "pwt"
   ]
  },
  {
   "cell_type": "code",
   "execution_count": null,
   "id": "a35151a6-7839-4587-bdd3-a0cce49f510e",
   "metadata": {},
   "outputs": [],
   "source": [
    "pwt.set_index([\"year\"]).loc[2000]\n"
   ]
  },
  {
   "cell_type": "code",
   "execution_count": null,
   "id": "f9caf496-da31-4a34-aad6-d401b460f198",
   "metadata": {},
   "outputs": [],
   "source": [
    "pwt.set_index([\"year\"], inplace = False)\n",
    "# inplace=True makes a replacement in the dataframe\n"
   ]
  },
  {
   "cell_type": "code",
   "execution_count": null,
   "id": "d014be09-9332-4736-991c-2e02336d2f97",
   "metadata": {},
   "outputs": [],
   "source": [
    "pwt"
   ]
  },
  {
   "cell_type": "code",
   "execution_count": null,
   "id": "19e26494-668e-425d-ac80-7a68e02da04e",
   "metadata": {},
   "outputs": [],
   "source": [
    "pwt.set_index([\"year\"], inplace = True)\n",
    "pwt"
   ]
  },
  {
   "cell_type": "code",
   "execution_count": null,
   "id": "53149bb9-71dc-447d-b6ab-272dc16f3368",
   "metadata": {},
   "outputs": [],
   "source": [
    "# resetting\n",
    "\n",
    "pwt=pwt.reset_index()"
   ]
  },
  {
   "cell_type": "code",
   "execution_count": null,
   "id": "e11b14cd-c98c-4b43-a7d8-7e200809a2cc",
   "metadata": {},
   "outputs": [],
   "source": [
    "pwt"
   ]
  },
  {
   "cell_type": "markdown",
   "id": "7d26b671-0093-48a8-83b9-31b68181aae8",
   "metadata": {},
   "source": [
    "**Exercise .** How would you extract all rows after 1990?"
   ]
  },
  {
   "cell_type": "code",
   "execution_count": null,
   "id": "4d025ef0-8127-4284-a85a-bd9af3dec78b",
   "metadata": {},
   "outputs": [],
   "source": [
    "pwt.loc[pwt['year']>=2000]"
   ]
  },
  {
   "cell_type": "code",
   "execution_count": null,
   "id": "9831f27b-4b0c-483e-a325-32232e4af966",
   "metadata": {},
   "outputs": [],
   "source": [
    "pwt.loc[pwt['year']>1990]"
   ]
  },
  {
   "cell_type": "code",
   "execution_count": null,
   "id": "36d7abe6-c667-45cc-8af7-507c1e74e7d5",
   "metadata": {},
   "outputs": [],
   "source": [
    "pwt.loc[pwt['year']!=1990]"
   ]
  },
  {
   "cell_type": "code",
   "execution_count": null,
   "id": "765c0df5-e9b4-4637-9a20-4589db64ab4e",
   "metadata": {},
   "outputs": [],
   "source": [
    "#Show how to do using list comprehension with iloc\n",
    "\n",
    "\n",
    "pwt.iloc[[i for i in (list(range(1,3))+list(range(4,6)))],]\n"
   ]
  },
  {
   "cell_type": "code",
   "execution_count": null,
   "id": "692ab7e8-64a8-448e-a576-d0f1e5ec4da5",
   "metadata": {},
   "outputs": [],
   "source": [
    "list(range(1,3))"
   ]
  },
  {
   "cell_type": "code",
   "execution_count": null,
   "id": "5d4d2ecd-c857-4dd1-a186-f0b2ca00cde3",
   "metadata": {},
   "outputs": [],
   "source": [
    "list(range(4,6))"
   ]
  },
  {
   "cell_type": "code",
   "execution_count": null,
   "id": "3f578128-d787-42b5-9bbb-e93eb5ecef79",
   "metadata": {},
   "outputs": [],
   "source": [
    "list(range(1,3))+list(range(4,6))"
   ]
  },
  {
   "cell_type": "code",
   "execution_count": null,
   "id": "ee2d7555-5d32-412c-b1d3-07fba51a35fb",
   "metadata": {},
   "outputs": [],
   "source": [
    "pwt.iloc[list(range(1,3))+list(range(4,6)),]"
   ]
  },
  {
   "cell_type": "code",
   "execution_count": null,
   "id": "60d7bce0-8558-40eb-bb27-6e1f5370ee24",
   "metadata": {},
   "outputs": [],
   "source": [
    "#using concat\n",
    "\n",
    "pd.concat([pwt.iloc[1:3,], pwt.iloc[4:6,]], axis=0)"
   ]
  },
  {
   "cell_type": "code",
   "execution_count": null,
   "id": "6a254bb5-6d65-4102-9e6d-8f271be00c09",
   "metadata": {},
   "outputs": [],
   "source": [
    "pwt.iloc[1:3,]"
   ]
  },
  {
   "cell_type": "code",
   "execution_count": null,
   "id": "fec1d7f3-f421-46d8-897e-2f7436e3ef9e",
   "metadata": {},
   "outputs": [],
   "source": [
    "pwt.iloc[4:6,]"
   ]
  },
  {
   "cell_type": "code",
   "execution_count": null,
   "id": "1b39e0b1-75e3-4e10-9a28-e7769c324c67",
   "metadata": {},
   "outputs": [],
   "source": [
    "pd.concat([pwt.iloc[1:3,], pwt.iloc[4:6,]], axis=0)"
   ]
  },
  {
   "cell_type": "markdown",
   "id": "74bb83aa-fc04-49b4-ad12-20c8bf4c6e8e",
   "metadata": {},
   "source": [
    "### Remove Stuff by Column or Row\n"
   ]
  },
  {
   "cell_type": "code",
   "execution_count": null,
   "id": "135243ac-b72d-4f5f-8183-97e14a79ec39",
   "metadata": {},
   "outputs": [],
   "source": [
    "df=pd.DataFrame(data)\n",
    "df"
   ]
  },
  {
   "cell_type": "code",
   "execution_count": null,
   "id": "dc9cfa2d-d41a-4219-8248-11b76b6c8735",
   "metadata": {},
   "outputs": [],
   "source": [
    "df.drop(\"CPI\", axis = 1) "
   ]
  },
  {
   "cell_type": "code",
   "execution_count": null,
   "id": "bbe8d3b8-aaf0-49e4-af1c-c1002405a28a",
   "metadata": {},
   "outputs": [],
   "source": [
    "df"
   ]
  },
  {
   "cell_type": "code",
   "execution_count": null,
   "id": "01309cc0-31bc-4085-9442-fa4740d62427",
   "metadata": {},
   "outputs": [],
   "source": [
    "df.drop(0, axis = 0)"
   ]
  },
  {
   "cell_type": "code",
   "execution_count": null,
   "id": "9249647b-98d4-4197-971b-e59824660022",
   "metadata": {},
   "outputs": [],
   "source": [
    "df"
   ]
  },
  {
   "cell_type": "markdown",
   "id": "5a140165-d0f2-4289-8934-2ed444b8eff6",
   "metadata": {},
   "source": [
    "**Exercise** How would you drop one year from the data set?"
   ]
  },
  {
   "cell_type": "code",
   "execution_count": null,
   "id": "9990f835-58e4-45cd-b5b0-f3075cb07ce4",
   "metadata": {},
   "outputs": [],
   "source": [
    "df.set_index(['Year']).drop(2000, axis=0).reset_index()"
   ]
  },
  {
   "cell_type": "code",
   "execution_count": null,
   "id": "649a2ee3-9b7b-4c39-a73f-657b6bae1103",
   "metadata": {},
   "outputs": [],
   "source": [
    "df.set_index(['Year'])"
   ]
  },
  {
   "cell_type": "code",
   "execution_count": null,
   "id": "df19203d-b95d-4674-a155-20f3d17fdf2b",
   "metadata": {},
   "outputs": [],
   "source": [
    "df.set_index(['Year']).drop(2000, axis=0)"
   ]
  },
  {
   "cell_type": "code",
   "execution_count": null,
   "id": "ab2425c2-86e2-455d-81df-3eb4254a353e",
   "metadata": {},
   "outputs": [],
   "source": [
    "df.set_index(['Year']).drop(2000, axis=0).reset_index().drop(1,axis=0)"
   ]
  },
  {
   "cell_type": "markdown",
   "id": "caf33da3-a7df-47bc-a5e3-2ccca59d62d3",
   "metadata": {},
   "source": [
    "## Conditional Selection\n"
   ]
  },
  {
   "cell_type": "code",
   "execution_count": null,
   "id": "5b6903be-4537-44db-8b69-3ac81529172f",
   "metadata": {},
   "outputs": [],
   "source": [
    "df"
   ]
  },
  {
   "cell_type": "code",
   "execution_count": null,
   "id": "d9b6969b-31f5-42f5-9dae-136d8ae861e0",
   "metadata": {},
   "outputs": [],
   "source": [
    "# Here we select rows with CPI larger than 170\n",
    "df[df.CPI>170]"
   ]
  },
  {
   "cell_type": "code",
   "execution_count": null,
   "id": "c2206962-8ff7-45f2-bf64-23a25182dea0",
   "metadata": {},
   "outputs": [],
   "source": [
    "df[df['CPI']>170]"
   ]
  },
  {
   "cell_type": "code",
   "execution_count": null,
   "id": "1205492d-6227-4119-8f46-73873b20a6c2",
   "metadata": {},
   "outputs": [],
   "source": [
    "# if we want to select the particular rows while selecting the specified columns\n",
    "df.loc[df.CPI>170,['GDP','Year']]"
   ]
  },
  {
   "cell_type": "markdown",
   "id": "4d484983-9554-4c31-8e14-6c7b372975d5",
   "metadata": {},
   "source": [
    "## Calculations on a Dataframe\n"
   ]
  },
  {
   "cell_type": "code",
   "execution_count": null,
   "id": "f56ed994-d41c-4b67-91a0-19ed7f71c58d",
   "metadata": {},
   "outputs": [],
   "source": [
    "df[\"GDP\"].dtypes\n"
   ]
  },
  {
   "cell_type": "code",
   "execution_count": null,
   "id": "80cbb118-17f6-497b-a6d5-48852c5c3d21",
   "metadata": {},
   "outputs": [],
   "source": [
    "df[\"GDP\"] + df[\"GDP\"]"
   ]
  },
  {
   "cell_type": "code",
   "execution_count": null,
   "id": "d2a3a9a2-2c06-420d-8c1a-ef69a96d367c",
   "metadata": {},
   "outputs": [],
   "source": [
    "df[\"GDP\"] / df[\"CPI\"] #real gdp!"
   ]
  },
  {
   "cell_type": "code",
   "execution_count": null,
   "id": "e4860d67-858f-4e68-93db-bd0ba289d9aa",
   "metadata": {},
   "outputs": [],
   "source": [
    "100*df[\"GDP\"] / df[\"GDP\"][0]"
   ]
  },
  {
   "cell_type": "code",
   "execution_count": null,
   "id": "fe00a94c-fab6-43bd-99c0-0af852904985",
   "metadata": {},
   "outputs": [],
   "source": [
    "df"
   ]
  },
  {
   "cell_type": "code",
   "execution_count": null,
   "id": "2b4fa73c-aa38-43f4-8857-6c4e52eb391a",
   "metadata": {},
   "outputs": [],
   "source": [
    "df['RGDP'] = df['GDP']/df['CPI']"
   ]
  },
  {
   "cell_type": "code",
   "execution_count": null,
   "id": "f4682d6b-ea96-4870-a7e7-dd1e45deeff7",
   "metadata": {},
   "outputs": [],
   "source": [
    "df"
   ]
  },
  {
   "cell_type": "code",
   "execution_count": null,
   "id": "73d0878f-b277-4780-a11e-4d3a811e5ee5",
   "metadata": {},
   "outputs": [],
   "source": [
    "df['GDP_div_1000'] = df['GDP'] / 1000"
   ]
  },
  {
   "cell_type": "code",
   "execution_count": null,
   "id": "932dacee-3a47-4ead-9f3e-59b65e89a150",
   "metadata": {},
   "outputs": [],
   "source": [
    "df"
   ]
  },
  {
   "cell_type": "markdown",
   "id": "8401951c-1eac-4c1e-a60f-1259d7f31917",
   "metadata": {},
   "source": [
    "### Operations across rows/columns\n"
   ]
  },
  {
   "cell_type": "code",
   "execution_count": null,
   "id": "688bb0e2-9bb5-45ad-a2c6-3420beb387c7",
   "metadata": {},
   "outputs": [],
   "source": [
    "df.sum(axis=0)"
   ]
  },
  {
   "cell_type": "code",
   "execution_count": null,
   "id": "bacfe912-015a-44b7-a578-f6ec2aa7a458",
   "metadata": {},
   "outputs": [],
   "source": [
    "df.sum(axis=1)"
   ]
  },
  {
   "cell_type": "code",
   "execution_count": null,
   "id": "5d6d6f1a-f2f0-4172-90a0-9d0276e07ffd",
   "metadata": {},
   "outputs": [],
   "source": [
    "df.var(axis=0)\n"
   ]
  },
  {
   "cell_type": "code",
   "execution_count": null,
   "id": "e6ffe330-7ec1-4c8f-b5a9-b181a955721e",
   "metadata": {},
   "outputs": [],
   "source": [
    "df.var(axis=1)"
   ]
  },
  {
   "cell_type": "markdown",
   "id": "1ca9c789-f035-40bd-9e6f-c71f1175c391",
   "metadata": {},
   "source": [
    "**Exercise.** Can you select the year 2010 and compute the row sum of df?"
   ]
  },
  {
   "cell_type": "code",
   "execution_count": null,
   "id": "db6c4610-4aff-441e-b38e-abc58a3bab9f",
   "metadata": {},
   "outputs": [],
   "source": [
    "df[df['Year']==2010].sum(axis=1)"
   ]
  },
  {
   "cell_type": "markdown",
   "id": "dccfa18e-fa2c-48cb-b1c6-9bd12a327671",
   "metadata": {},
   "source": [
    "## Simple Statistics\n"
   ]
  },
  {
   "cell_type": "code",
   "execution_count": null,
   "id": "451ca731-40f2-4c1e-a816-da187e3ef4e0",
   "metadata": {},
   "outputs": [],
   "source": [
    "df.mean(axis=0)"
   ]
  },
  {
   "cell_type": "code",
   "execution_count": null,
   "id": "a08f8807-6c2b-4d50-b1b8-fdbe84a8f122",
   "metadata": {},
   "outputs": [],
   "source": [
    "test = pd.DataFrame(df.mean(axis=0))\n",
    "\n",
    "test"
   ]
  },
  {
   "cell_type": "code",
   "execution_count": null,
   "id": "899956ff-06ce-44b4-a571-ddc0cf05ae59",
   "metadata": {},
   "outputs": [],
   "source": [
    "test.loc[\"CPI\"]"
   ]
  },
  {
   "cell_type": "code",
   "execution_count": null,
   "id": "8574fca6-8ee7-4e12-be08-a70344031683",
   "metadata": {},
   "outputs": [],
   "source": [
    "sumstate = df.describe() \n",
    "sumstate"
   ]
  },
  {
   "cell_type": "code",
   "execution_count": null,
   "id": "52aaca44-432e-48e8-8525-a5401321a72c",
   "metadata": {},
   "outputs": [],
   "source": [
    "type(sumstate)\n"
   ]
  },
  {
   "cell_type": "markdown",
   "id": "4fdb5831-4437-4056-b8d9-4f63169a081d",
   "metadata": {},
   "source": [
    "## output and save"
   ]
  },
  {
   "cell_type": "code",
   "execution_count": null,
   "id": "6d82bcf0-68fc-4dbf-9407-699c915335de",
   "metadata": {},
   "outputs": [],
   "source": [
    "pwt.to_csv(\"pwt.csv\")\n",
    "\n",
    "pwt.to_excel(\"pwt.xlsx\")"
   ]
  },
  {
   "cell_type": "code",
   "execution_count": null,
   "id": "4e635b1d-73fb-438d-9225-381d78a7a786",
   "metadata": {},
   "outputs": [],
   "source": []
  },
  {
   "cell_type": "code",
   "execution_count": null,
   "id": "bf14d658-1e08-4497-9287-c4847f2b9687",
   "metadata": {},
   "outputs": [],
   "source": []
  }
 ],
 "metadata": {
  "kernelspec": {
   "display_name": "Python 3",
   "language": "python",
   "name": "python3"
  },
  "language_info": {
   "codemirror_mode": {
    "name": "ipython",
    "version": 3
   },
   "file_extension": ".py",
   "mimetype": "text/x-python",
   "name": "python",
   "nbconvert_exporter": "python",
   "pygments_lexer": "ipython3",
   "version": "3.8.8"
  }
 },
 "nbformat": 4,
 "nbformat_minor": 5
}
