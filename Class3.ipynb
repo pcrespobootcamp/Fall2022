{
 "cells": [
  {
   "cell_type": "markdown",
   "id": "aa92c952-46bc-463e-b6ab-6073fe193b35",
   "metadata": {},
   "source": [
    "# Welcome to the Jungle! (of packages)\n",
    "\n",
    "![Axl](https://cdn-0.gnrcentral.com/wp-content/uploads/2018/12/slash-axl-rose-guns-n-roses-800x420.jpg)\n"
   ]
  },
  {
   "cell_type": "markdown",
   "id": "d058e582-4db0-4c03-82eb-d485f70a924c",
   "metadata": {},
   "source": [
    "## Numpy\n",
    "\n",
    "Numpy is a package that allows us to perform certain numerical operations that are not available in native python. "
   ]
  },
  {
   "cell_type": "code",
   "execution_count": 1,
   "id": "aa7a34df-5f6e-4657-8a85-d13f807a8519",
   "metadata": {},
   "outputs": [],
   "source": [
    "import numpy as np"
   ]
  },
  {
   "cell_type": "markdown",
   "id": "cca247b9-c9af-4f92-9bfd-f26eff12c87b",
   "metadata": {},
   "source": [
    "## Array"
   ]
  },
  {
   "cell_type": "code",
   "execution_count": 2,
   "id": "b208f13e-6ca4-4251-8c84-19bb698d1246",
   "metadata": {},
   "outputs": [],
   "source": [
    "#remember lists?\n",
    "\n",
    "list1=[1,2,3,4]\n",
    "\n",
    "list2=[5,6,7,8]\n"
   ]
  },
  {
   "cell_type": "code",
   "execution_count": 3,
   "id": "e8ce785f-d3e5-4112-99ba-dcb6737ec6db",
   "metadata": {},
   "outputs": [
    {
     "data": {
      "text/plain": [
       "[1, 2, 3, 4, 5, 6, 7, 8]"
      ]
     },
     "execution_count": 3,
     "metadata": {},
     "output_type": "execute_result"
    }
   ],
   "source": [
    "list1+list2"
   ]
  },
  {
   "cell_type": "code",
   "execution_count": 4,
   "id": "012414ad-04f4-49e4-9a4d-3cd10e08f698",
   "metadata": {},
   "outputs": [],
   "source": [
    "#let's turn them into arrays\n",
    "\n",
    "array1=np.array(list1)\n",
    "array2=np.array(list2)"
   ]
  },
  {
   "cell_type": "code",
   "execution_count": 5,
   "id": "ce0692a7-5c2a-43ca-b449-977b91dc97c3",
   "metadata": {},
   "outputs": [
    {
     "data": {
      "text/plain": [
       "array([1, 2, 3, 4])"
      ]
     },
     "execution_count": 5,
     "metadata": {},
     "output_type": "execute_result"
    }
   ],
   "source": [
    "array1"
   ]
  },
  {
   "cell_type": "code",
   "execution_count": 6,
   "id": "137be7ad-7f69-4605-9bb7-b4fbf8f62607",
   "metadata": {},
   "outputs": [
    {
     "data": {
      "text/plain": [
       "array([ 6,  8, 10, 12])"
      ]
     },
     "execution_count": 6,
     "metadata": {},
     "output_type": "execute_result"
    }
   ],
   "source": [
    "array1+array2"
   ]
  },
  {
   "cell_type": "code",
   "execution_count": 7,
   "id": "c270fb1a-d2f8-4296-a205-533cf3af2b7c",
   "metadata": {},
   "outputs": [
    {
     "data": {
      "text/plain": [
       "array([ 5, 12, 21, 32])"
      ]
     },
     "execution_count": 7,
     "metadata": {},
     "output_type": "execute_result"
    }
   ],
   "source": [
    "array1*array2"
   ]
  },
  {
   "cell_type": "code",
   "execution_count": 8,
   "id": "6139135a-1e53-4e48-96e6-04f416623bd6",
   "metadata": {
    "tags": []
   },
   "outputs": [
    {
     "data": {
      "text/plain": [
       "array([2, 4, 6, 8])"
      ]
     },
     "execution_count": 8,
     "metadata": {},
     "output_type": "execute_result"
    }
   ],
   "source": [
    "array1*2"
   ]
  },
  {
   "cell_type": "code",
   "execution_count": 9,
   "id": "5594ca59-8f3f-400c-99c6-997d8b9f2638",
   "metadata": {},
   "outputs": [
    {
     "ename": "ValueError",
     "evalue": "operands could not be broadcast together with shapes (4,) (2,) ",
     "output_type": "error",
     "traceback": [
      "\u001b[0;31m---------------------------------------------------------------------------\u001b[0m",
      "\u001b[0;31mValueError\u001b[0m                                Traceback (most recent call last)",
      "\u001b[0;32m<ipython-input-9-b79d6ff734ba>\u001b[0m in \u001b[0;36m<module>\u001b[0;34m\u001b[0m\n\u001b[0;32m----> 1\u001b[0;31m \u001b[0marray1\u001b[0m\u001b[0;34m+\u001b[0m\u001b[0mnp\u001b[0m\u001b[0;34m.\u001b[0m\u001b[0marray\u001b[0m\u001b[0;34m(\u001b[0m\u001b[0;34m[\u001b[0m\u001b[0;36m2\u001b[0m\u001b[0;34m,\u001b[0m\u001b[0;36m2\u001b[0m\u001b[0;34m]\u001b[0m\u001b[0;34m)\u001b[0m\u001b[0;34m\u001b[0m\u001b[0;34m\u001b[0m\u001b[0m\n\u001b[0m",
      "\u001b[0;31mValueError\u001b[0m: operands could not be broadcast together with shapes (4,) (2,) "
     ]
    }
   ],
   "source": [
    "array1+np.array([2,2])"
   ]
  },
  {
   "cell_type": "code",
   "execution_count": 10,
   "id": "19fe8555-4b28-4e25-bdb5-75e9c6196ecd",
   "metadata": {},
   "outputs": [
    {
     "data": {
      "text/plain": [
       "4"
      ]
     },
     "execution_count": 10,
     "metadata": {},
     "output_type": "execute_result"
    }
   ],
   "source": [
    "#Size of the array\n",
    "\n",
    "len(array1)"
   ]
  },
  {
   "cell_type": "code",
   "execution_count": 11,
   "id": "e0da30ba-69eb-4fd2-8100-b92ab12f228f",
   "metadata": {},
   "outputs": [
    {
     "data": {
      "text/plain": [
       "(4,)"
      ]
     },
     "execution_count": 11,
     "metadata": {},
     "output_type": "execute_result"
    }
   ],
   "source": [
    "array1.shape"
   ]
  },
  {
   "cell_type": "code",
   "execution_count": 12,
   "id": "e8cf1402-deca-4455-9b4e-cb1c1f6cf71a",
   "metadata": {},
   "outputs": [
    {
     "data": {
      "text/plain": [
       "(4, 1)"
      ]
     },
     "execution_count": 12,
     "metadata": {},
     "output_type": "execute_result"
    }
   ],
   "source": [
    "array1=array1.reshape(4,1)\n",
    "array1.shape"
   ]
  },
  {
   "cell_type": "code",
   "execution_count": 13,
   "id": "48d0f6d8-a639-48f9-b274-7a0faf7039f3",
   "metadata": {},
   "outputs": [
    {
     "data": {
      "text/plain": [
       "array([[1],\n",
       "       [2],\n",
       "       [3],\n",
       "       [4]])"
      ]
     },
     "execution_count": 13,
     "metadata": {},
     "output_type": "execute_result"
    }
   ],
   "source": [
    "array1"
   ]
  },
  {
   "cell_type": "code",
   "execution_count": 14,
   "id": "393899c3-52e6-4770-97c4-ef70d18320ae",
   "metadata": {},
   "outputs": [
    {
     "data": {
      "text/plain": [
       "array([[0., 0., 0.],\n",
       "       [0., 0., 0.]])"
      ]
     },
     "execution_count": 14,
     "metadata": {},
     "output_type": "execute_result"
    }
   ],
   "source": [
    "arrZeros = np.zeros((2,3))\n",
    "arrZeros"
   ]
  },
  {
   "cell_type": "code",
   "execution_count": 15,
   "id": "3c8a7073-02a2-47f4-a517-6b33562e2414",
   "metadata": {},
   "outputs": [
    {
     "data": {
      "text/plain": [
       "array([[1., 1.],\n",
       "       [1., 1.]])"
      ]
     },
     "execution_count": 15,
     "metadata": {},
     "output_type": "execute_result"
    }
   ],
   "source": [
    "arrOnes = np.ones((2,2)) \n",
    "arrOnes"
   ]
  },
  {
   "cell_type": "code",
   "execution_count": 16,
   "id": "c4241fa6-8784-4b5e-8612-99d9fd37f155",
   "metadata": {},
   "outputs": [
    {
     "data": {
      "text/plain": [
       "array([[1., 0., 0.],\n",
       "       [0., 1., 0.],\n",
       "       [0., 0., 1.]])"
      ]
     },
     "execution_count": 16,
     "metadata": {},
     "output_type": "execute_result"
    }
   ],
   "source": [
    "arrEyes = np.eye(3)  \n",
    "arrEyes"
   ]
  },
  {
   "cell_type": "code",
   "execution_count": 17,
   "id": "03badfb3-52cc-4e49-8371-a4be1712948b",
   "metadata": {},
   "outputs": [
    {
     "data": {
      "text/plain": [
       "(2, 3)"
      ]
     },
     "execution_count": 17,
     "metadata": {},
     "output_type": "execute_result"
    }
   ],
   "source": [
    "#Transposition\n",
    "\n",
    "arrZeros.shape"
   ]
  },
  {
   "cell_type": "code",
   "execution_count": 18,
   "id": "14867120-44ff-402e-ac60-d1b5ce8eb151",
   "metadata": {},
   "outputs": [
    {
     "data": {
      "text/plain": [
       "array([[0., 0.],\n",
       "       [0., 0.],\n",
       "       [0., 0.]])"
      ]
     },
     "execution_count": 18,
     "metadata": {},
     "output_type": "execute_result"
    }
   ],
   "source": [
    "arrZeros.T"
   ]
  },
  {
   "cell_type": "code",
   "execution_count": 19,
   "id": "9e08c948-66f0-4028-b738-f2e5b4efb527",
   "metadata": {},
   "outputs": [
    {
     "data": {
      "text/plain": [
       "(3, 2)"
      ]
     },
     "execution_count": 19,
     "metadata": {},
     "output_type": "execute_result"
    }
   ],
   "source": [
    "arrZeros.T.shape"
   ]
  },
  {
   "cell_type": "code",
   "execution_count": 20,
   "id": "368d9a98-9828-4f8d-9050-c6a16ef201ab",
   "metadata": {},
   "outputs": [
    {
     "data": {
      "text/plain": [
       "[0, 2, 4, 6, 8]"
      ]
     },
     "execution_count": 20,
     "metadata": {},
     "output_type": "execute_result"
    }
   ],
   "source": [
    "list(range(0,10,2))"
   ]
  },
  {
   "cell_type": "code",
   "execution_count": 21,
   "id": "b4737bfc-4789-4506-ad2f-6958368a7bd7",
   "metadata": {},
   "outputs": [
    {
     "data": {
      "text/plain": [
       "array([0, 2, 4, 6, 8])"
      ]
     },
     "execution_count": 21,
     "metadata": {},
     "output_type": "execute_result"
    }
   ],
   "source": [
    "np.arange(0,10,2)"
   ]
  },
  {
   "cell_type": "code",
   "execution_count": 22,
   "id": "ffb893dc-a74a-4e6b-a7fe-2402f046b061",
   "metadata": {},
   "outputs": [
    {
     "data": {
      "text/plain": [
       "array([[3],\n",
       "       [4],\n",
       "       [5],\n",
       "       [6]])"
      ]
     },
     "execution_count": 22,
     "metadata": {},
     "output_type": "execute_result"
    }
   ],
   "source": [
    "#Broadcasting\n",
    "\n",
    "array1+2"
   ]
  },
  {
   "cell_type": "markdown",
   "id": "5077f306-159c-46aa-9216-805d15e9f79c",
   "metadata": {
    "tags": []
   },
   "source": [
    "**Exercises.** Initialize a 4 by 1 array with 2 and named it as arrE1.\n",
    "\n",
    "**Exercises.** Initialize a 1 by 4 array with number 3 and named it as arrE2.\n",
    "\n",
    "**Exercises.** Can you perform an element wise add operation of the arrE1 and arrE2?\n",
    "\n"
   ]
  },
  {
   "cell_type": "code",
   "execution_count": 25,
   "id": "50b5c7bf-83e7-4847-9277-aa24f93c25ed",
   "metadata": {},
   "outputs": [
    {
     "name": "stdout",
     "output_type": "stream",
     "text": [
      "[[2.]\n",
      " [2.]\n",
      " [2.]\n",
      " [2.]]\n",
      "[[3. 3. 3. 3.]]\n"
     ]
    }
   ],
   "source": [
    "arrE1=np.ones((4,1))*2\n",
    "print(arrE1)\n",
    "\n",
    "arrE2=arrE1.T+1\n",
    "print(arrE2)"
   ]
  },
  {
   "cell_type": "code",
   "execution_count": 28,
   "id": "0e369291-eea5-4688-93f0-4d69ee21f72d",
   "metadata": {},
   "outputs": [
    {
     "data": {
      "text/plain": [
       "array([[5., 5., 5., 5.],\n",
       "       [5., 5., 5., 5.],\n",
       "       [5., 5., 5., 5.],\n",
       "       [5., 5., 5., 5.]])"
      ]
     },
     "execution_count": 28,
     "metadata": {},
     "output_type": "execute_result"
    }
   ],
   "source": [
    "arrE1+arrE2"
   ]
  },
  {
   "cell_type": "markdown",
   "id": "d1ccabc4-5cdc-435d-a609-b208643d9dbd",
   "metadata": {},
   "source": [
    "**Exercises (challenging).** How to create a 3 by 3 array with only zeros in diagonal while the rest is 2?"
   ]
  },
  {
   "cell_type": "code",
   "execution_count": 31,
   "id": "365b182c-4d77-435e-a7c5-175298622e50",
   "metadata": {},
   "outputs": [
    {
     "data": {
      "text/plain": [
       "array([[0., 2., 2.],\n",
       "       [2., 0., 2.],\n",
       "       [2., 2., 0.]])"
      ]
     },
     "execution_count": 31,
     "metadata": {},
     "output_type": "execute_result"
    }
   ],
   "source": [
    "(np.ones((3,3))-np.eye(3))*2"
   ]
  },
  {
   "cell_type": "code",
   "execution_count": 32,
   "id": "1d6404a5-a532-43bc-a4c2-95554aee536a",
   "metadata": {},
   "outputs": [
    {
     "data": {
      "text/plain": [
       "array([[2.],\n",
       "       [2.],\n",
       "       [2.],\n",
       "       [2.]])"
      ]
     },
     "execution_count": 32,
     "metadata": {},
     "output_type": "execute_result"
    }
   ],
   "source": [
    "arrE1= np.ones((4,1))+np.ones((4,1))\n",
    "arrE1"
   ]
  },
  {
   "cell_type": "code",
   "execution_count": 33,
   "id": "1b716515-a58d-47bf-8247-c40cbda57da6",
   "metadata": {},
   "outputs": [
    {
     "data": {
      "text/plain": [
       "array([[3., 3., 3., 3.]])"
      ]
     },
     "execution_count": 33,
     "metadata": {},
     "output_type": "execute_result"
    }
   ],
   "source": [
    "arrE2=np.ones((1,4))*3\n",
    "arrE2"
   ]
  },
  {
   "cell_type": "code",
   "execution_count": 34,
   "id": "768bd517-ff1d-4136-8a57-90d8b75fe38d",
   "metadata": {},
   "outputs": [
    {
     "data": {
      "text/plain": [
       "array([[0., 2., 2.],\n",
       "       [2., 0., 2.],\n",
       "       [2., 2., 0.]])"
      ]
     },
     "execution_count": 34,
     "metadata": {},
     "output_type": "execute_result"
    }
   ],
   "source": [
    "prearray=np.ones((3,3))-np.eye(3)\n",
    "prearray*2"
   ]
  },
  {
   "cell_type": "markdown",
   "id": "9ca0b2ee-bad5-472b-b16e-d795ab093682",
   "metadata": {},
   "source": [
    "## Slicing"
   ]
  },
  {
   "cell_type": "code",
   "execution_count": 35,
   "id": "cabc71db-5423-4baa-a9ae-91b7a224a9fe",
   "metadata": {},
   "outputs": [
    {
     "data": {
      "text/plain": [
       "array([[ 5, 12, 31],\n",
       "       [ 2,  7, 11],\n",
       "       [15, 21, 32]])"
      ]
     },
     "execution_count": 35,
     "metadata": {},
     "output_type": "execute_result"
    }
   ],
   "source": [
    "newarray=np.array([[5,12,31],[2,7,11],[15,21,32]])\n",
    "newarray"
   ]
  },
  {
   "cell_type": "code",
   "execution_count": 36,
   "id": "108628b4-cf69-4028-a39a-f9c41cab2035",
   "metadata": {},
   "outputs": [
    {
     "data": {
      "text/plain": [
       "32"
      ]
     },
     "execution_count": 36,
     "metadata": {},
     "output_type": "execute_result"
    }
   ],
   "source": [
    "#what will this return?\n",
    "\n",
    "newarray[2,2]"
   ]
  },
  {
   "cell_type": "code",
   "execution_count": 37,
   "id": "0a6819d3-5a57-4090-af34-3b2545169f67",
   "metadata": {},
   "outputs": [
    {
     "data": {
      "text/plain": [
       "array([ 2,  7, 11])"
      ]
     },
     "execution_count": 37,
     "metadata": {},
     "output_type": "execute_result"
    }
   ],
   "source": [
    "newarray[1, :]"
   ]
  },
  {
   "cell_type": "code",
   "execution_count": 38,
   "id": "024a0a99-31a0-45e1-a98b-2f1add80e57f",
   "metadata": {},
   "outputs": [
    {
     "ename": "SyntaxError",
     "evalue": "invalid syntax (<ipython-input-38-759ffe6d4f3e>, line 1)",
     "output_type": "error",
     "traceback": [
      "\u001b[0;36m  File \u001b[0;32m\"<ipython-input-38-759ffe6d4f3e>\"\u001b[0;36m, line \u001b[0;32m1\u001b[0m\n\u001b[0;31m    newarray[,2]\u001b[0m\n\u001b[0m             ^\u001b[0m\n\u001b[0;31mSyntaxError\u001b[0m\u001b[0;31m:\u001b[0m invalid syntax\n"
     ]
    }
   ],
   "source": [
    "newarray[,2]"
   ]
  },
  {
   "cell_type": "code",
   "execution_count": 39,
   "id": "ad028320-5359-4983-abc6-b8f0a2b3fa5f",
   "metadata": {},
   "outputs": [
    {
     "data": {
      "text/plain": [
       "array([31, 11, 32])"
      ]
     },
     "execution_count": 39,
     "metadata": {},
     "output_type": "execute_result"
    }
   ],
   "source": [
    "newarray[:,2]"
   ]
  },
  {
   "cell_type": "code",
   "execution_count": 40,
   "id": "388a4085-fa7c-4da0-9954-3be953f001bb",
   "metadata": {},
   "outputs": [
    {
     "data": {
      "text/plain": [
       "(3,)"
      ]
     },
     "execution_count": 40,
     "metadata": {},
     "output_type": "execute_result"
    }
   ],
   "source": [
    "newarray[:,2].shape"
   ]
  },
  {
   "cell_type": "code",
   "execution_count": 41,
   "id": "3bbdc974-fb49-4046-9bb0-c63d00313493",
   "metadata": {},
   "outputs": [
    {
     "data": {
      "text/plain": [
       "array([ 5, 12])"
      ]
     },
     "execution_count": 41,
     "metadata": {},
     "output_type": "execute_result"
    }
   ],
   "source": [
    "newarray[0,0:2]"
   ]
  },
  {
   "cell_type": "markdown",
   "id": "d7ab1b48-e490-4f02-b189-41359b0d2491",
   "metadata": {},
   "source": [
    "### Elementwise Methods (can use on floats)\n"
   ]
  },
  {
   "cell_type": "code",
   "execution_count": 42,
   "id": "4cc7d4f2-a1a5-4655-848a-0daab455a44e",
   "metadata": {},
   "outputs": [
    {
     "data": {
      "text/plain": [
       "array([[0.        ],\n",
       "       [0.69314718],\n",
       "       [1.09861229],\n",
       "       [1.38629436]])"
      ]
     },
     "execution_count": 42,
     "metadata": {},
     "output_type": "execute_result"
    }
   ],
   "source": [
    "#natural logarithm\n",
    "np.log(array1)"
   ]
  },
  {
   "cell_type": "code",
   "execution_count": 43,
   "id": "bd06c122-b0f0-4916-8aa9-bff671f3838a",
   "metadata": {},
   "outputs": [
    {
     "data": {
      "text/plain": [
       "0.6931471805599453"
      ]
     },
     "execution_count": 43,
     "metadata": {},
     "output_type": "execute_result"
    }
   ],
   "source": [
    "np.log(2)"
   ]
  },
  {
   "cell_type": "code",
   "execution_count": 44,
   "id": "08632c79-7cb4-44e7-ad5b-e0313e7b2d04",
   "metadata": {},
   "outputs": [
    {
     "data": {
      "text/plain": [
       "array([[ 2.71828183],\n",
       "       [ 7.3890561 ],\n",
       "       [20.08553692],\n",
       "       [54.59815003]])"
      ]
     },
     "execution_count": 44,
     "metadata": {},
     "output_type": "execute_result"
    }
   ],
   "source": [
    "# Euler constant\n",
    "\n",
    "np.exp(array1)"
   ]
  },
  {
   "cell_type": "code",
   "execution_count": 45,
   "id": "4168fa2b-a049-4ed6-b0ac-f1e0eeba4d37",
   "metadata": {},
   "outputs": [
    {
     "data": {
      "text/plain": [
       "array([[1.        ],\n",
       "       [1.41421356],\n",
       "       [1.73205081],\n",
       "       [2.        ]])"
      ]
     },
     "execution_count": 45,
     "metadata": {},
     "output_type": "execute_result"
    }
   ],
   "source": [
    "# square root\n",
    "\n",
    "np.sqrt(array1)"
   ]
  },
  {
   "cell_type": "markdown",
   "id": "ae643092-1cb2-4d46-98f0-ae0cf1f77813",
   "metadata": {},
   "source": [
    "## Array wise operations"
   ]
  },
  {
   "cell_type": "code",
   "execution_count": 46,
   "id": "49b47b32-e181-4c1c-87f7-c84dbd49e183",
   "metadata": {},
   "outputs": [
    {
     "data": {
      "text/plain": [
       "array([[ 5, 12, 31],\n",
       "       [ 2,  7, 11],\n",
       "       [15, 21, 32]])"
      ]
     },
     "execution_count": 46,
     "metadata": {},
     "output_type": "execute_result"
    }
   ],
   "source": [
    "newarray"
   ]
  },
  {
   "cell_type": "code",
   "execution_count": 47,
   "id": "9de5f175-c37c-42be-b451-87dc8b1e80cb",
   "metadata": {},
   "outputs": [
    {
     "data": {
      "text/plain": [
       "136"
      ]
     },
     "execution_count": 47,
     "metadata": {},
     "output_type": "execute_result"
    }
   ],
   "source": [
    "np.sum(newarray)"
   ]
  },
  {
   "cell_type": "code",
   "execution_count": 48,
   "id": "eb7e37c0-b97a-4d49-93b3-fc8952ac8fb7",
   "metadata": {},
   "outputs": [
    {
     "data": {
      "text/plain": [
       "array([22, 40, 74])"
      ]
     },
     "execution_count": 48,
     "metadata": {},
     "output_type": "execute_result"
    }
   ],
   "source": [
    "# Column wise\n",
    "np.sum(newarray, axis=0)"
   ]
  },
  {
   "cell_type": "code",
   "execution_count": 49,
   "id": "ae4759b1-0318-49d9-971d-ac39b17c176f",
   "metadata": {},
   "outputs": [
    {
     "data": {
      "text/plain": [
       "array([48, 20, 68])"
      ]
     },
     "execution_count": 49,
     "metadata": {},
     "output_type": "execute_result"
    }
   ],
   "source": [
    "#row wise\n",
    "np.sum(newarray, axis=1)"
   ]
  },
  {
   "cell_type": "code",
   "execution_count": 50,
   "id": "acce774a-b12a-4fbd-9e95-fe6abefe2a98",
   "metadata": {},
   "outputs": [
    {
     "data": {
      "text/plain": [
       "3"
      ]
     },
     "execution_count": 50,
     "metadata": {},
     "output_type": "execute_result"
    }
   ],
   "source": [
    "#number of rows\n",
    "newarray.shape[0]"
   ]
  },
  {
   "cell_type": "code",
   "execution_count": 51,
   "id": "18cb894b-91cc-40da-8348-068bfc24acbc",
   "metadata": {},
   "outputs": [
    {
     "data": {
      "text/plain": [
       "3"
      ]
     },
     "execution_count": 51,
     "metadata": {},
     "output_type": "execute_result"
    }
   ],
   "source": [
    "#number of columns\n",
    "\n",
    "newarray.shape[1]"
   ]
  },
  {
   "cell_type": "markdown",
   "id": "6b092a54-5eb7-4920-9b71-76cea04d2c35",
   "metadata": {},
   "source": [
    "Exercises. How to compute the column mean?\n",
    "\n",
    "Exercises. How to compute the column mean in second and third column?\n",
    "\n",
    "Exercises. How to compute the row mean?"
   ]
  },
  {
   "cell_type": "code",
   "execution_count": 52,
   "id": "7ed4877a-7bed-47af-8bba-f29db7bcc5fe",
   "metadata": {},
   "outputs": [
    {
     "data": {
      "text/plain": [
       "array([ 7.33333333, 13.33333333, 24.66666667])"
      ]
     },
     "execution_count": 52,
     "metadata": {},
     "output_type": "execute_result"
    }
   ],
   "source": [
    "np.sum(newarray, axis=0)/newarray.shape[0]"
   ]
  },
  {
   "cell_type": "code",
   "execution_count": 53,
   "id": "531336df-6ffd-483d-9128-35fdc34a2e15",
   "metadata": {},
   "outputs": [
    {
     "data": {
      "text/plain": [
       "array([13.33333333, 24.66666667])"
      ]
     },
     "execution_count": 53,
     "metadata": {},
     "output_type": "execute_result"
    }
   ],
   "source": [
    "np.sum(newarray[:,1:3], axis=0)/newarray.shape[0]"
   ]
  },
  {
   "cell_type": "markdown",
   "id": "b619f9f5-f206-462b-81f7-dbe3fc89a9cc",
   "metadata": {},
   "source": [
    "## Random number generator"
   ]
  },
  {
   "cell_type": "code",
   "execution_count": 54,
   "id": "f80b8701-cdef-4bf2-966d-0a52a3d47630",
   "metadata": {},
   "outputs": [
    {
     "data": {
      "text/plain": [
       "array([[ 0.15972621, -0.62398761, -0.64628491, -1.11236542],\n",
       "       [ 1.46783933,  0.84048466,  0.43918748,  0.95306136]])"
      ]
     },
     "execution_count": 54,
     "metadata": {},
     "output_type": "execute_result"
    }
   ],
   "source": [
    "np.random.randn(2,4)\n"
   ]
  },
  {
   "cell_type": "markdown",
   "id": "b0254cb0-f90a-42e1-8014-1d7ebfbd4f01",
   "metadata": {},
   "source": [
    "# PANDAS"
   ]
  },
  {
   "cell_type": "code",
   "execution_count": 55,
   "id": "a58e3173-6989-4825-a3c7-7f2c924bef1d",
   "metadata": {},
   "outputs": [],
   "source": [
    "import pandas as pd"
   ]
  },
  {
   "cell_type": "code",
   "execution_count": 56,
   "id": "2c6a8388-cdf2-4818-ba88-77bbe5e8606b",
   "metadata": {},
   "outputs": [
    {
     "data": {
      "text/html": [
       "<div>\n",
       "<style scoped>\n",
       "    .dataframe tbody tr th:only-of-type {\n",
       "        vertical-align: middle;\n",
       "    }\n",
       "\n",
       "    .dataframe tbody tr th {\n",
       "        vertical-align: top;\n",
       "    }\n",
       "\n",
       "    .dataframe thead th {\n",
       "        text-align: right;\n",
       "    }\n",
       "</style>\n",
       "<table border=\"1\" class=\"dataframe\">\n",
       "  <thead>\n",
       "    <tr style=\"text-align: right;\">\n",
       "      <th></th>\n",
       "      <th>0</th>\n",
       "      <th>1</th>\n",
       "      <th>2</th>\n",
       "    </tr>\n",
       "  </thead>\n",
       "  <tbody>\n",
       "    <tr>\n",
       "      <th>0</th>\n",
       "      <td>5</td>\n",
       "      <td>12</td>\n",
       "      <td>31</td>\n",
       "    </tr>\n",
       "    <tr>\n",
       "      <th>1</th>\n",
       "      <td>2</td>\n",
       "      <td>7</td>\n",
       "      <td>11</td>\n",
       "    </tr>\n",
       "    <tr>\n",
       "      <th>2</th>\n",
       "      <td>15</td>\n",
       "      <td>21</td>\n",
       "      <td>32</td>\n",
       "    </tr>\n",
       "  </tbody>\n",
       "</table>\n",
       "</div>"
      ],
      "text/plain": [
       "    0   1   2\n",
       "0   5  12  31\n",
       "1   2   7  11\n",
       "2  15  21  32"
      ]
     },
     "execution_count": 56,
     "metadata": {},
     "output_type": "execute_result"
    }
   ],
   "source": [
    "newdf=pd.DataFrame(newarray)\n",
    "newdf"
   ]
  },
  {
   "cell_type": "code",
   "execution_count": 57,
   "id": "e7927519-f88f-4d99-97f4-88d85c897c2b",
   "metadata": {},
   "outputs": [
    {
     "data": {
      "text/html": [
       "<div>\n",
       "<style scoped>\n",
       "    .dataframe tbody tr th:only-of-type {\n",
       "        vertical-align: middle;\n",
       "    }\n",
       "\n",
       "    .dataframe tbody tr th {\n",
       "        vertical-align: top;\n",
       "    }\n",
       "\n",
       "    .dataframe thead th {\n",
       "        text-align: right;\n",
       "    }\n",
       "</style>\n",
       "<table border=\"1\" class=\"dataframe\">\n",
       "  <thead>\n",
       "    <tr style=\"text-align: right;\">\n",
       "      <th></th>\n",
       "      <th>1</th>\n",
       "      <th>2</th>\n",
       "    </tr>\n",
       "  </thead>\n",
       "  <tbody>\n",
       "    <tr>\n",
       "      <th>0</th>\n",
       "      <td>12</td>\n",
       "      <td>31</td>\n",
       "    </tr>\n",
       "    <tr>\n",
       "      <th>1</th>\n",
       "      <td>7</td>\n",
       "      <td>11</td>\n",
       "    </tr>\n",
       "    <tr>\n",
       "      <th>2</th>\n",
       "      <td>21</td>\n",
       "      <td>32</td>\n",
       "    </tr>\n",
       "  </tbody>\n",
       "</table>\n",
       "</div>"
      ],
      "text/plain": [
       "    1   2\n",
       "0  12  31\n",
       "1   7  11\n",
       "2  21  32"
      ]
     },
     "execution_count": 57,
     "metadata": {},
     "output_type": "execute_result"
    }
   ],
   "source": [
    "#Slicing dataframes\n",
    "\n",
    "newdf.iloc[:,1:]"
   ]
  },
  {
   "cell_type": "code",
   "execution_count": 58,
   "id": "a63efbf0-dcf3-434c-8879-e1548fdabe00",
   "metadata": {},
   "outputs": [],
   "source": [
    "newdicto= {\"Name\":['Carlos', 'Paul', 'Xuan'], 'Age':[23,32,15], 'OS':['Windows','OSX', 'Windows']}"
   ]
  },
  {
   "cell_type": "code",
   "execution_count": 59,
   "id": "8698f56c-89fc-4628-a36b-de594d3f36da",
   "metadata": {},
   "outputs": [
    {
     "data": {
      "text/plain": [
       "{'Name': ['Carlos', 'Paul', 'Xuan'],\n",
       " 'Age': [23, 32, 15],\n",
       " 'OS': ['Windows', 'OSX', 'Windows']}"
      ]
     },
     "execution_count": 59,
     "metadata": {},
     "output_type": "execute_result"
    }
   ],
   "source": [
    "newdicto"
   ]
  },
  {
   "cell_type": "code",
   "execution_count": 60,
   "id": "71935d42-dc31-4917-87b4-cf79237ff393",
   "metadata": {},
   "outputs": [
    {
     "data": {
      "text/html": [
       "<div>\n",
       "<style scoped>\n",
       "    .dataframe tbody tr th:only-of-type {\n",
       "        vertical-align: middle;\n",
       "    }\n",
       "\n",
       "    .dataframe tbody tr th {\n",
       "        vertical-align: top;\n",
       "    }\n",
       "\n",
       "    .dataframe thead th {\n",
       "        text-align: right;\n",
       "    }\n",
       "</style>\n",
       "<table border=\"1\" class=\"dataframe\">\n",
       "  <thead>\n",
       "    <tr style=\"text-align: right;\">\n",
       "      <th></th>\n",
       "      <th>Name</th>\n",
       "      <th>Age</th>\n",
       "      <th>OS</th>\n",
       "    </tr>\n",
       "  </thead>\n",
       "  <tbody>\n",
       "    <tr>\n",
       "      <th>0</th>\n",
       "      <td>Carlos</td>\n",
       "      <td>23</td>\n",
       "      <td>Windows</td>\n",
       "    </tr>\n",
       "    <tr>\n",
       "      <th>1</th>\n",
       "      <td>Paul</td>\n",
       "      <td>32</td>\n",
       "      <td>OSX</td>\n",
       "    </tr>\n",
       "    <tr>\n",
       "      <th>2</th>\n",
       "      <td>Xuan</td>\n",
       "      <td>15</td>\n",
       "      <td>Windows</td>\n",
       "    </tr>\n",
       "  </tbody>\n",
       "</table>\n",
       "</div>"
      ],
      "text/plain": [
       "     Name  Age       OS\n",
       "0  Carlos   23  Windows\n",
       "1    Paul   32      OSX\n",
       "2    Xuan   15  Windows"
      ]
     },
     "execution_count": 60,
     "metadata": {},
     "output_type": "execute_result"
    }
   ],
   "source": [
    "newdf=pd.DataFrame(newdicto)\n",
    "\n",
    "newdf"
   ]
  },
  {
   "cell_type": "code",
   "execution_count": 61,
   "id": "3b07311d-ff1f-434e-a8cb-62683e205702",
   "metadata": {},
   "outputs": [
    {
     "data": {
      "text/plain": [
       "0    23\n",
       "1    32\n",
       "2    15\n",
       "Name: Age, dtype: int64"
      ]
     },
     "execution_count": 61,
     "metadata": {},
     "output_type": "execute_result"
    }
   ],
   "source": [
    "newdf['Age']"
   ]
  },
  {
   "cell_type": "code",
   "execution_count": 62,
   "id": "8e950c64-2af5-409b-879b-cdbedfec0693",
   "metadata": {},
   "outputs": [
    {
     "data": {
      "text/plain": [
       "23.333333333333332"
      ]
     },
     "execution_count": 62,
     "metadata": {},
     "output_type": "execute_result"
    }
   ],
   "source": [
    "np.mean(newdf['Age'])"
   ]
  },
  {
   "cell_type": "code",
   "execution_count": 63,
   "id": "c296dfd6-3166-4314-8af0-fb48a7a5431a",
   "metadata": {},
   "outputs": [
    {
     "data": {
      "text/plain": [
       "0    23\n",
       "1    32\n",
       "2    15\n",
       "Name: Age, dtype: int64"
      ]
     },
     "execution_count": 63,
     "metadata": {},
     "output_type": "execute_result"
    }
   ],
   "source": [
    "newdf.iloc[:,1]"
   ]
  },
  {
   "cell_type": "code",
   "execution_count": 64,
   "id": "966f06d9-e2ac-4f31-8b34-9b5e6aad8d71",
   "metadata": {},
   "outputs": [
    {
     "data": {
      "text/plain": [
       "array(['Windows', 'OSX'], dtype=object)"
      ]
     },
     "execution_count": 64,
     "metadata": {},
     "output_type": "execute_result"
    }
   ],
   "source": [
    "newdf['OS'].unique()"
   ]
  },
  {
   "cell_type": "code",
   "execution_count": null,
   "id": "4e76743a-3e35-4710-b947-17579413bf73",
   "metadata": {},
   "outputs": [],
   "source": []
  }
 ],
 "metadata": {
  "kernelspec": {
   "display_name": "Python 3",
   "language": "python",
   "name": "python3"
  },
  "language_info": {
   "codemirror_mode": {
    "name": "ipython",
    "version": 3
   },
   "file_extension": ".py",
   "mimetype": "text/x-python",
   "name": "python",
   "nbconvert_exporter": "python",
   "pygments_lexer": "ipython3",
   "version": "3.8.8"
  }
 },
 "nbformat": 4,
 "nbformat_minor": 5
}
