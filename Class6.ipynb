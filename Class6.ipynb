{
 "cells": [
  {
   "cell_type": "code",
   "execution_count": null,
   "id": "95ee194e-9e1b-4b12-b9e5-d3798b8000a6",
   "metadata": {},
   "outputs": [],
   "source": [
    "import numpy as np\n",
    "import pandas as pd"
   ]
  },
  {
   "cell_type": "markdown",
   "id": "2297709f-9a5e-40c1-8b52-ca9efc7e9902",
   "metadata": {},
   "source": [
    "## More Chipotle\n",
    "\n",
    "![More Chipotle](https://i.chzbgr.com/full/8551473152/hC206DDA6/funny-memes-titanic-chipotle)"
   ]
  },
  {
   "cell_type": "code",
   "execution_count": null,
   "id": "09c3e7fa-9ee1-4e75-af13-0d7b775e6a84",
   "metadata": {},
   "outputs": [],
   "source": [
    "chipurl= 'https://raw.githubusercontent.com/TheUpshot/chipotle/master/orders.tsv'\n",
    "\n",
    "df_chipotle=pd.read_csv(chipurl, sep='\\t')"
   ]
  },
  {
   "cell_type": "code",
   "execution_count": null,
   "id": "8e9208d0-8464-4b13-a04e-97a447bf3d02",
   "metadata": {},
   "outputs": [],
   "source": [
    "df_chipotle.head()"
   ]
  },
  {
   "cell_type": "markdown",
   "id": "78c97cf1-1cf2-42ba-bc16-ed9004eb68e8",
   "metadata": {},
   "source": [
    "We are gonna explore one more way to turn the *item_price* column to floats"
   ]
  },
  {
   "cell_type": "code",
   "execution_count": null,
   "id": "2c0f17cc-cb52-4b8c-a40b-133f6d436f85",
   "metadata": {},
   "outputs": [],
   "source": [
    "df_chipotle['float_price'] =df_chipotle['item_price'].str.strip().str.replace('$','',regex=True).astype(float)"
   ]
  },
  {
   "cell_type": "code",
   "execution_count": null,
   "id": "bdeeedb6-52cd-46d4-af0f-78474356a33c",
   "metadata": {},
   "outputs": [],
   "source": [
    "df_chipotle['item_price'].str.strip()"
   ]
  },
  {
   "cell_type": "code",
   "execution_count": null,
   "id": "9b52d68b-7f67-4c34-a9de-960aa80f4f9f",
   "metadata": {},
   "outputs": [],
   "source": [
    "df_chipotle['item_price'].str.strip().str.replace('$','', regex=True)[0]"
   ]
  },
  {
   "cell_type": "code",
   "execution_count": null,
   "id": "c6424665-c9a6-4461-8717-2988ff53d43d",
   "metadata": {},
   "outputs": [],
   "source": [
    "df_chipotle.head()"
   ]
  },
  {
   "cell_type": "markdown",
   "id": "b6bf36d1-4b44-43ff-8617-b38167c40f92",
   "metadata": {},
   "source": [
    "Let's explore the items people have bought"
   ]
  },
  {
   "cell_type": "code",
   "execution_count": null,
   "id": "bd1ac354-4a5e-4275-98ce-0e64696a5202",
   "metadata": {},
   "outputs": [],
   "source": [
    "df_chipotle['item_name'].unique()"
   ]
  },
  {
   "cell_type": "code",
   "execution_count": null,
   "id": "2dbb6361-d5d0-439c-bb6d-a264cd04a3a0",
   "metadata": {},
   "outputs": [],
   "source": [
    "#Count how many we have\n",
    "\n",
    "len(df_chipotle['item_name'].unique())"
   ]
  },
  {
   "cell_type": "code",
   "execution_count": null,
   "id": "3192a2d7-a389-4913-b74d-c348cfb668fd",
   "metadata": {},
   "outputs": [],
   "source": [
    "df_chipotle['item_name'].nunique()"
   ]
  },
  {
   "cell_type": "code",
   "execution_count": null,
   "id": "7af61e1f-9906-46a7-ba3b-6e61dc058ecf",
   "metadata": {},
   "outputs": [],
   "source": [
    "df_chipotle['item_name'].value_counts()"
   ]
  },
  {
   "cell_type": "markdown",
   "id": "3d930dab-097a-4e77-bfd3-079358ac28dc",
   "metadata": {},
   "source": [
    "I would like to find all the items that have chicken in them"
   ]
  },
  {
   "cell_type": "code",
   "execution_count": null,
   "id": "a41eaa95-4317-4e95-bd5e-ad11390e5e26",
   "metadata": {},
   "outputs": [],
   "source": [
    "chipitems=pd.DataFrame(df_chipotle['item_name'].unique(), columns=['item'])"
   ]
  },
  {
   "cell_type": "code",
   "execution_count": null,
   "id": "0671c696-2b46-44e6-81c6-4770cb882ee9",
   "metadata": {},
   "outputs": [],
   "source": [
    "chipitems"
   ]
  },
  {
   "cell_type": "code",
   "execution_count": null,
   "id": "59ccfce0-80e1-4b05-ac26-73f424a01951",
   "metadata": {},
   "outputs": [],
   "source": [
    "#intermediate step\n",
    "chipitems['item'].str.lower().str.contains('chicken')"
   ]
  },
  {
   "cell_type": "code",
   "execution_count": null,
   "id": "b618e301-838d-46d9-a500-632a8bacf6b3",
   "metadata": {},
   "outputs": [],
   "source": [
    "chickitems=chipitems[chipitems['item'].str.lower().str.contains('chicken')]\n",
    "chickitems"
   ]
  },
  {
   "cell_type": "markdown",
   "id": "d8876a1d-0205-4000-a245-eac379473078",
   "metadata": {},
   "source": [
    "Let's find what proportion of all items was each chicken item!"
   ]
  },
  {
   "cell_type": "code",
   "execution_count": null,
   "id": "8a502f50-46ed-4604-911d-a055d7a14591",
   "metadata": {},
   "outputs": [],
   "source": [
    "df_chipotle.head()"
   ]
  },
  {
   "cell_type": "markdown",
   "id": "f90c698d-2a28-4ae0-8f82-6db96f4b4a88",
   "metadata": {},
   "source": [
    "First we need to be able to extract only the items that have chicken"
   ]
  },
  {
   "cell_type": "code",
   "execution_count": null,
   "id": "89131da9-cd7d-4b49-9ea1-fbbf44a63e6c",
   "metadata": {},
   "outputs": [],
   "source": [
    "df_chicken=df_chipotle[df_chipotle['item_name'].isin(chickitems['item'])] \n",
    "\n",
    "df_chicken.head()"
   ]
  },
  {
   "cell_type": "markdown",
   "id": "6d96fbc4-5779-4858-8b08-bed2fb4ed7a2",
   "metadata": {},
   "source": [
    "Let's group by to add the quantities of each item!\n"
   ]
  },
  {
   "cell_type": "code",
   "execution_count": null,
   "id": "c0c25e19-9454-4b48-98c6-b321581a6948",
   "metadata": {},
   "outputs": [],
   "source": [
    "df_chicken.groupby('item_name')['quantity'].sum()"
   ]
  },
  {
   "cell_type": "code",
   "execution_count": null,
   "id": "7e86f67c-4d86-4746-931f-63ce5be4739f",
   "metadata": {},
   "outputs": [],
   "source": [
    "chicksum=pd.DataFrame(df_chicken.groupby('item_name')['quantity'].sum().reset_index())\n",
    "chicksum.head()"
   ]
  },
  {
   "cell_type": "code",
   "execution_count": null,
   "id": "5945fe56-edb6-48cf-bcbd-5d5319da7673",
   "metadata": {},
   "outputs": [],
   "source": [
    "chicksum['proportion']=chicksum['quantity']/df_chipotle['quantity'].sum()\n",
    "\n",
    "chicksum.head()"
   ]
  },
  {
   "cell_type": "code",
   "execution_count": null,
   "id": "fb9b3cf0-3cd1-4dec-9899-110f7b5cba77",
   "metadata": {},
   "outputs": [],
   "source": [
    "chicksum['proportion'].sum()"
   ]
  },
  {
   "cell_type": "markdown",
   "id": "8e0acef4-429a-4c8f-88f8-eb0b3b09af72",
   "metadata": {},
   "source": [
    "Let's now try to get a dataframe that has a list of items and prices"
   ]
  },
  {
   "cell_type": "code",
   "execution_count": null,
   "id": "ea8e1635-3330-46eb-b3f5-8fb2bd29a16b",
   "metadata": {},
   "outputs": [],
   "source": [
    "#First we know that for each unique item there is a unique price!\n",
    "# A groupby can be our way\n",
    "\n",
    "#we could use first, to get the first row of each price\n",
    "\n",
    "pricedf=df_chipotle.groupby('item_name')['float_price'].first().reset_index()\n",
    "\n",
    "pricedf.head(15)"
   ]
  },
  {
   "cell_type": "code",
   "execution_count": null,
   "id": "1dd85d94-90be-43b9-8ee6-b911f0262531",
   "metadata": {},
   "outputs": [],
   "source": [
    "#Beware!!!\n",
    "df_chipotle.groupby('item_name')['float_price'].mean().reset_index()"
   ]
  },
  {
   "cell_type": "markdown",
   "id": "79accbe1-9621-401d-a972-5a557013b945",
   "metadata": {},
   "source": [
    "Let's get the items more expensive than seven dollars and let's sort them from most expensive to least"
   ]
  },
  {
   "cell_type": "code",
   "execution_count": null,
   "id": "1f9446ed-4d2c-4933-8561-1130b0aa24aa",
   "metadata": {},
   "outputs": [],
   "source": [
    "pricedf[pricedf['float_price']>7].sort_values(by='float_price', ascending=False).head()"
   ]
  },
  {
   "cell_type": "code",
   "execution_count": null,
   "id": "e50cdd41-bc46-43df-8a46-1685ebf74795",
   "metadata": {},
   "outputs": [],
   "source": [
    "#If we set it true (the default)\n",
    "\n",
    "pricedf[pricedf['float_price']>7].sort_values(by='float_price').head()"
   ]
  },
  {
   "cell_type": "code",
   "execution_count": null,
   "id": "b83ed8f0-c33d-4f34-b0a2-217acc7c59f9",
   "metadata": {},
   "outputs": [],
   "source": [
    "# We want to order the items in terms of price and quantity,  most expensive first\n",
    "\n",
    "dfquant=pd.DataFrame(df_chipotle.groupby('item_name')['quantity'].sum().reset_index())\n",
    "\n",
    "df=pricedf.merge(dfquant, how='inner', on='item_name')\n",
    "\n",
    "df.head()"
   ]
  },
  {
   "cell_type": "code",
   "execution_count": null,
   "id": "df1e1d62-98d7-4406-94d5-edd3048d040d",
   "metadata": {},
   "outputs": [],
   "source": [
    "dfquant.head()"
   ]
  },
  {
   "cell_type": "code",
   "execution_count": null,
   "id": "32c32ce8-1136-412a-9609-2a047831cc7b",
   "metadata": {},
   "outputs": [],
   "source": [
    "df.sort_values(by=['quantity', 'float_price'], ascending= False)"
   ]
  },
  {
   "cell_type": "markdown",
   "id": "c016acb3-abee-48a8-960d-01d6ef33f27f",
   "metadata": {},
   "source": [
    "## Pivoting (sales data)"
   ]
  },
  {
   "cell_type": "code",
   "execution_count": null,
   "id": "c069eb54-0c4a-4e05-8822-d3d4b5dbfcce",
   "metadata": {},
   "outputs": [],
   "source": [
    "file='sample_pivot.xlsx'\n",
    "\n",
    "sales_df=pd.read_excel(file,parse_dates=['Date'])"
   ]
  },
  {
   "cell_type": "code",
   "execution_count": null,
   "id": "1068bd65-a2d5-49f0-8729-9d3b0b8a138a",
   "metadata": {},
   "outputs": [],
   "source": [
    "sales_df.head()"
   ]
  },
  {
   "cell_type": "code",
   "execution_count": null,
   "id": "678315fd-d487-4d8c-ac85-aaac3ec61924",
   "metadata": {},
   "outputs": [],
   "source": [
    "#mean is default\n",
    "\n",
    "sales_by_region = pd.pivot_table(sales_df, index = 'Region', values = 'Sales')\n",
    "sales_by_region"
   ]
  },
  {
   "cell_type": "code",
   "execution_count": null,
   "id": "241ad794-89c0-46c5-8829-2ae40d852262",
   "metadata": {},
   "outputs": [],
   "source": [
    "#can change to sum\n",
    "total_by_region = pd.pivot_table(sales_df, index = 'Region', values = 'Sales', aggfunc='sum')\n",
    "total_by_region"
   ]
  },
  {
   "cell_type": "markdown",
   "id": "79ede399-a7e9-4090-9ce0-4a5c0aa7e808",
   "metadata": {},
   "source": [
    "However, the real value is in quick multi indexing"
   ]
  },
  {
   "cell_type": "code",
   "execution_count": null,
   "id": "bdc902e7-410e-4a3a-95c4-06c6903ad391",
   "metadata": {},
   "outputs": [],
   "source": [
    "multi_index = pd.pivot_table(sales_df, index = ['Region', 'Type'], values = 'Sales', aggfunc = 'sum')\n",
    "multi_index"
   ]
  },
  {
   "cell_type": "code",
   "execution_count": null,
   "id": "318d5108-19a1-47f0-8ea8-97de6b348fee",
   "metadata": {},
   "outputs": [],
   "source": [
    "multi_functions = pd.pivot_table(sales_df, index = ['Region', 'Type'], values = 'Sales', aggfunc = ['sum', len])\n",
    "multi_functions"
   ]
  },
  {
   "cell_type": "code",
   "execution_count": null,
   "id": "17a9c0e1-8e27-440e-a8e8-aa460796d64f",
   "metadata": {},
   "outputs": [],
   "source": [
    "columns_example = pd.pivot_table(sales_df, index = 'Type', columns = 'Region', values = 'Units', aggfunc = 'sum')\n",
    "columns_example"
   ]
  },
  {
   "cell_type": "code",
   "execution_count": null,
   "id": "329789eb-7bbe-4361-ad26-fe7d6a36bd2b",
   "metadata": {},
   "outputs": [],
   "source": [
    "columns_example.plot(kind='bar')"
   ]
  },
  {
   "cell_type": "markdown",
   "id": "bc1ed102-a7a8-4546-87d8-c565b1107bd8",
   "metadata": {},
   "source": [
    "## QUICK PLOTTING (Serious plotting comes later!)"
   ]
  },
  {
   "cell_type": "code",
   "execution_count": null,
   "id": "b7329686-ba49-4168-855e-9bccb6ad1749",
   "metadata": {},
   "outputs": [],
   "source": [
    "%matplotlib inline"
   ]
  },
  {
   "cell_type": "code",
   "execution_count": null,
   "id": "5234e040-955a-4e5c-a734-bc7f12ebce50",
   "metadata": {},
   "outputs": [],
   "source": [
    "gdp  = [13271.1, 13773.5, 14234.2, 14613.8, 14873.7, 14830.4, 14418.7,\n",
    "        14783.8, 15020.6, 15369.2, 15710.3]\n",
    "pce  = [8867.6, 9208.2, 9531.8, 9821.7, 10041.6, 10007.2, 9847.0, 10036.3,\n",
    "        10263.5, 10449.7, 10699.7]\n",
    "year = list(range(2003,2014))        # use range for years 2003-2013\n",
    "\n",
    "# Note that we set the index\n",
    "us = pd.DataFrame({'gdp': gdp, 'pce': pce}, index=year)"
   ]
  },
  {
   "cell_type": "code",
   "execution_count": null,
   "id": "20ac916a-ed0d-4468-b494-28c9dd1ee661",
   "metadata": {},
   "outputs": [],
   "source": [
    "us"
   ]
  },
  {
   "cell_type": "code",
   "execution_count": null,
   "id": "6e8516ff-365e-414e-afbf-e8cf305544f2",
   "metadata": {},
   "outputs": [],
   "source": [
    "us['gdp'].plot()"
   ]
  },
  {
   "cell_type": "code",
   "execution_count": null,
   "id": "d391c1d9-d284-4ac5-a5e8-ea0a9f283ead",
   "metadata": {},
   "outputs": [],
   "source": [
    "us.plot()"
   ]
  },
  {
   "cell_type": "code",
   "execution_count": null,
   "id": "41eefff4-6156-42bf-8ee6-328ecc212416",
   "metadata": {},
   "outputs": [],
   "source": [
    "us.plot(kind='line')"
   ]
  },
  {
   "cell_type": "code",
   "execution_count": null,
   "id": "a0d1de42-daab-4280-b7fd-088668cd17dc",
   "metadata": {},
   "outputs": [],
   "source": [
    "us.plot.line()"
   ]
  },
  {
   "cell_type": "code",
   "execution_count": null,
   "id": "3d78c484-4e3d-45cd-a0fc-86700718706e",
   "metadata": {},
   "outputs": [],
   "source": [
    "us['gdp'].plot.bar()"
   ]
  },
  {
   "cell_type": "code",
   "execution_count": null,
   "id": "c122a0e7-31fb-4723-bf78-fddcd46099de",
   "metadata": {},
   "outputs": [],
   "source": [
    "us['gdp'].plot.barh()"
   ]
  },
  {
   "cell_type": "code",
   "execution_count": null,
   "id": "423ba3fd-d8f7-4bce-afd5-b5710e083d0d",
   "metadata": {},
   "outputs": [],
   "source": [
    "us['gdp'].plot.kde()"
   ]
  },
  {
   "cell_type": "code",
   "execution_count": null,
   "id": "f7daf4cd-2956-4cf9-8619-4d13fcce28e3",
   "metadata": {},
   "outputs": [],
   "source": [
    "us.plot.box(vert=False)"
   ]
  },
  {
   "cell_type": "code",
   "execution_count": null,
   "id": "98429a7d-af15-446b-95bb-c5702400823d",
   "metadata": {},
   "outputs": [],
   "source": [
    "us.plot.box()"
   ]
  },
  {
   "cell_type": "code",
   "execution_count": null,
   "id": "b24d90b4-d6b3-4b73-b13f-e094c398eb93",
   "metadata": {},
   "outputs": [],
   "source": [
    "df_chipotle['float_price'].plot.hist()\n"
   ]
  },
  {
   "cell_type": "code",
   "execution_count": null,
   "id": "ff8f5c54-db4c-49ff-861a-355223a07572",
   "metadata": {},
   "outputs": [],
   "source": [
    "df_chipotle['float_price'].plot.hist(bins=20)\n"
   ]
  },
  {
   "cell_type": "code",
   "execution_count": null,
   "id": "94f6797b-856f-4c0e-98bb-c4a7aa33f1ff",
   "metadata": {},
   "outputs": [],
   "source": [
    "df_chipotle.plot.scatter(x='quantity', y='float_price')"
   ]
  },
  {
   "cell_type": "markdown",
   "id": "8152116c-fcc5-4c62-8456-1cd764a38ed5",
   "metadata": {},
   "source": [
    "WHAT IS THAT PRICE?\n"
   ]
  },
  {
   "cell_type": "code",
   "execution_count": null,
   "id": "ceb42aca-b457-44b2-bc36-35fe5508bacd",
   "metadata": {},
   "outputs": [],
   "source": [
    "df_chipotle[df_chipotle['float_price']==max(df_chipotle['float_price'])]"
   ]
  },
  {
   "cell_type": "code",
   "execution_count": null,
   "id": "4a526f2a-1591-4053-baf0-be88e9a3843f",
   "metadata": {},
   "outputs": [],
   "source": []
  }
 ],
 "metadata": {
  "kernelspec": {
   "display_name": "Python 3",
   "language": "python",
   "name": "python3"
  },
  "language_info": {
   "codemirror_mode": {
    "name": "ipython",
    "version": 3
   },
   "file_extension": ".py",
   "mimetype": "text/x-python",
   "name": "python",
   "nbconvert_exporter": "python",
   "pygments_lexer": "ipython3",
   "version": "3.8.8"
  }
 },
 "nbformat": 4,
 "nbformat_minor": 5
}
