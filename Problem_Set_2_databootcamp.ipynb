{
 "cells": [
  {
   "cell_type": "markdown",
   "metadata": {},
   "source": [
    "# Data bootcamp\n",
    "## Fall 2022\n",
    "## Problem Set 2"
   ]
  },
  {
   "cell_type": "markdown",
   "metadata": {},
   "source": [
    "\n",
    "## Write down your name and ID here.\n",
    "## Names:                   \n",
    "## NetIDs:                  \n"
   ]
  },
  {
   "cell_type": "markdown",
   "metadata": {},
   "source": [
    "<h4>Instructions</h4>\n",
    "<p>Instructions:\n",
    "\n",
    "\n",
    "•   Submit your answers in a Jupyter notebook with proper markdown to indicate problem numbers\n",
    "\n",
    "•   In‐line comments are preferred for this assignment but not mandatory\n",
    "\n",
    "•   No explanations are expected at the end of answers\n",
    "\n",
    "</p>\n",
    "<p>You are required to type your answer in the column below each of the question. Remember to execute your code (Shift+Enter). You can insert cell and use #comments if necessary. "
   ]
  },
  {
   "cell_type": "markdown",
   "metadata": {},
   "source": [
    "## Problems"
   ]
  },
  {
   "cell_type": "markdown",
   "metadata": {},
   "source": [
    "#### These questions ask you to clean the data using string methods in pandas in conjunction with NumPy objects.\n"
   ]
  },
  {
   "cell_type": "markdown",
   "metadata": {},
   "source": [
    "\n",
    "1.\tRead the attached data set \"master_data_ready.csv\"[here](https://drive.google.com/file/d/1i9a8T7-2_43H7wJv78JJEQmGe-P-osJy/view?usp=sharing) to your notebook and store it in the variable \"df\". Modify the dataset to replace \\N values everywhere in the dataset with NaN (np.NaN). Capitalize the first letter of each column name of the dataframe df and assign the new names to the columns of the dataset df. Use this same dataframe \"df\" to answer all the subsequent questions. "
   ]
  },
  {
   "cell_type": "code",
   "execution_count": null,
   "metadata": {},
   "outputs": [],
   "source": [
    "#This is just example code where to read depends on where you save it\n",
    "\n",
    "\n",
    "import pandas as pd\n",
    "import numpy as np\n",
    "\n",
    "df=pd.read_csv('master_data_ready.csv')\n",
    "\n",
    "df.replace('\\\\N', np.nan, inplace=True)"
   ]
  },
  {
   "cell_type": "markdown",
   "metadata": {},
   "source": [
    "2.     Using an appropriate pandas method present a column wise summary of nulls (or NaN), ergo let me know how many empty values there are per column."
   ]
  },
  {
   "cell_type": "code",
   "execution_count": null,
   "metadata": {},
   "outputs": [],
   "source": [
    "# Your code here\n",
    "\n"
   ]
  },
  {
   "cell_type": "markdown",
   "metadata": {},
   "source": [
    "#### This question asks you to clean the data by using pandas to drop columns.\n"
   ]
  },
  {
   "cell_type": "markdown",
   "metadata": {},
   "source": [
    "3.\tDrop columns “Latitude” and “Longitude” from the data set and save the resulting dataset to a new data frame. Let’s call it Master_Clean."
   ]
  },
  {
   "cell_type": "code",
   "execution_count": 1,
   "metadata": {},
   "outputs": [],
   "source": [
    "# Your code here\n",
    "\n"
   ]
  },
  {
   "cell_type": "markdown",
   "metadata": {},
   "source": [
    "#### These questions ask you to slice (filter) the data."
   ]
  },
  {
   "cell_type": "markdown",
   "metadata": {},
   "source": [
    "4.     Using Master_Clean: Display jobs for the state “NY” that were posted in 2018 and store it in dataframe Master_Clean_NY_2018"
   ]
  },
  {
   "cell_type": "code",
   "execution_count": null,
   "metadata": {},
   "outputs": [],
   "source": [
    "# Your code here\n",
    "\n"
   ]
  },
  {
   "cell_type": "markdown",
   "metadata": {},
   "source": [
    "5.\tUsing Master_Clean: Display jobs from all states other than the states “NY” and “CA” that offer a salary higher than 80,000 and store it in dataframe \"High_Salary_filtered_states\". Do NOT include jobs that have NaN values for state column."
   ]
  },
  {
   "cell_type": "code",
   "execution_count": null,
   "metadata": {},
   "outputs": [],
   "source": [
    "# Your code here\n",
    "\n",
    "\n",
    "\n"
   ]
  },
  {
   "cell_type": "markdown",
   "metadata": {},
   "source": [
    "#### These questions ask you to clean and filter the data using pandas methods.\n"
   ]
  },
  {
   "cell_type": "markdown",
   "metadata": {},
   "source": [
    "6.     Using Master_Clean: How many jobs have NaN in the Time_to_fill column? Replace all these nulls (or NaN) with the median of this column. Display first 25 and last 25 entries."
   ]
  },
  {
   "cell_type": "code",
   "execution_count": 2,
   "metadata": {},
   "outputs": [],
   "source": [
    "# Your code here\n",
    "\n"
   ]
  },
  {
   "cell_type": "markdown",
   "metadata": {},
   "source": [
    "7.     Using Master_Clean: Display only company, posting date and salary of jobs that are listed for the state “NJ”. Exclude NaN from all columns."
   ]
  },
  {
   "cell_type": "code",
   "execution_count": null,
   "metadata": {},
   "outputs": [],
   "source": [
    "# Your code here"
   ]
  },
  {
   "cell_type": "markdown",
   "metadata": {},
   "source": [
    "8.\tUsing Master_Clean: Use the isin method to display company, posting date, time to fill and salaries of jobs in the states “NC”, “PA” or “TX” and store it in dataframe \"df_isin\". Exclude NaN from all columns."
   ]
  },
  {
   "cell_type": "code",
   "execution_count": null,
   "metadata": {},
   "outputs": [],
   "source": [
    "# Your code here"
   ]
  },
  {
   "cell_type": "markdown",
   "metadata": {},
   "source": [
    "9.     Using Master_Clean: Use the contains method to display city, state, county and regions of jobs that have “New York” or “Los Angeles‐Long” in their region state value.\n"
   ]
  },
  {
   "cell_type": "code",
   "execution_count": null,
   "metadata": {},
   "outputs": [],
   "source": [
    "# Your code here"
   ]
  },
  {
   "cell_type": "markdown",
   "metadata": {},
   "source": [
    "10.  Using Master_Clean: Display company, vertical, posting date and salaries for all jobs posted during the years 2017 and 2018 “Seattle” region states that had salaries higher than 80,000. Exclude NaN from company column.\n",
    "\n",
    "Note: The region column does not contain just 'Seattle' as the region but we expect you to extract the string from the region column to compare if the string contains Seattle. "
   ]
  },
  {
   "cell_type": "code",
   "execution_count": null,
   "metadata": {},
   "outputs": [],
   "source": [
    "# Your code here"
   ]
  },
  {
   "cell_type": "markdown",
   "metadata": {},
   "source": [
    "11.  Using Master_Clean: Calculate the percentage of jobs offering a six‐figure salary or higher in the state “NY” in 2018."
   ]
  },
  {
   "cell_type": "code",
   "execution_count": null,
   "metadata": {},
   "outputs": [],
   "source": [
    "# Your code here"
   ]
  },
  {
   "cell_type": "markdown",
   "metadata": {},
   "source": [
    "12.  Using Master_Clean: Calculate the percentage of job postings for the company “Wells Fargo” where the salary offered is above the mean of all salaries in the states of “NY” or “CA” and store it in 'df_above_average_salary')"
   ]
  },
  {
   "cell_type": "code",
   "execution_count": null,
   "metadata": {},
   "outputs": [],
   "source": [
    "# Your code here"
   ]
  }
 ],
 "metadata": {
  "kernelspec": {
   "display_name": "Python 3",
   "language": "python",
   "name": "python3"
  },
  "language_info": {
   "codemirror_mode": {
    "name": "ipython",
    "version": 3
   },
   "file_extension": ".py",
   "mimetype": "text/x-python",
   "name": "python",
   "nbconvert_exporter": "python",
   "pygments_lexer": "ipython3",
   "version": "3.8.8"
  }
 },
 "nbformat": 4,
 "nbformat_minor": 4
}
